{
 "cells": [
  {
   "cell_type": "code",
   "execution_count": 3,
   "metadata": {
    "collapsed": true
   },
   "outputs": [],
   "source": [
    "import os\n",
    "os.environ[\"TF_CPP_MIN_LOG_LEVEL\"] = \"3\"\n",
    "\n",
    "import numpy as np\n",
    "import tensorflow as tf\n",
    "import angorapy as apy\n",
    "\n",
    "env = apy.make_env(\"LunarLanderContinuous-v2\")\n",
    "distribution = apy.policies.BetaPolicyDistribution(env)"
   ]
  },
  {
   "cell_type": "code",
   "execution_count": 4,
   "outputs": [],
   "source": [
    "from tensorflow.keras.layers import TimeDistributed\n",
    "from angorapy.utilities.util import env_extract_dims\n",
    "\n",
    "\n",
    "def build_my_amazing_model(env, distribution, bs=1, sequence_length=1):\n",
    "    state_dimensionality, n_actions = env_extract_dims(env)\n",
    "\n",
    "    inputs = tf.keras.Input(batch_shape=(bs, sequence_length,) + state_dimensionality[\"proprioception\"], name=\"proprioception\")\n",
    "    masked = tf.keras.layers.Masking(batch_input_shape=(bs, sequence_length,) + (inputs.shape[-1], ))(inputs)\n",
    "\n",
    "    x = TimeDistributed(tf.keras.layers.Dense(32))(masked)\n",
    "    x = TimeDistributed(tf.keras.layers.Dense(32))(x)\n",
    "\n",
    "    x, *_ = tf.keras.layers.LSTM(64,\n",
    "                       stateful=True,\n",
    "                       return_sequences=True,\n",
    "                       return_state=True,\n",
    "                       batch_size=bs,\n",
    "                       name=\"policy_recurrent_layer\")(x)\n",
    "\n",
    "    x_policy = tf.keras.layers.Dense(32)(x)\n",
    "    x_policy = tf.keras.layers.Dense(32)(x_policy)\n",
    "\n",
    "    x_value = tf.keras.layers.Dense(32)(x)\n",
    "    x_value = tf.keras.layers.Dense(32)(x_value)\n",
    "\n",
    "    out_policy = distribution.build_action_head(n_actions, x_policy.shape[1:], bs)(x_policy)\n",
    "    out_value = tf.keras.layers.Dense(1)(x_value)\n",
    "\n",
    "    policy = tf.keras.Model(inputs=inputs, outputs=out_policy, name=\"my_policy_function\")\n",
    "    value = tf.keras.Model(inputs=inputs, outputs=out_value, name=\"my_value_function\")\n",
    "    joint = tf.keras.Model(inputs=inputs, outputs=[out_policy, out_value], name=\"my_joint_networks\")\n",
    "\n",
    "    return policy, value, joint\n"
   ],
   "metadata": {
    "collapsed": false
   }
  },
  {
   "cell_type": "code",
   "execution_count": 5,
   "outputs": [
    {
     "name": "stderr",
     "output_type": "stream",
     "text": [
      "2023-03-25 12:08:42.262399: I tensorflow/compiler/jit/xla_cpu_device.cc:41] Not creating XLA devices, tf_xla_enable_xla_devices not set\n",
      "2023-03-25 12:08:42.264334: I tensorflow/stream_executor/platform/default/dso_loader.cc:49] Successfully opened dynamic library libcuda.so.1\n",
      "2023-03-25 12:08:42.297482: I tensorflow/core/common_runtime/gpu/gpu_device.cc:1720] Found device 0 with properties: \n",
      "pciBusID: 0000:15:00.0 name: NVIDIA GeForce RTX 2080 SUPER computeCapability: 7.5\n",
      "coreClock: 1.845GHz coreCount: 48 deviceMemorySize: 7.78GiB deviceMemoryBandwidth: 462.00GiB/s\n",
      "2023-03-25 12:08:42.297680: W tensorflow/stream_executor/platform/default/dso_loader.cc:60] Could not load dynamic library 'libcudart.so.11.0'; dlerror: libcudart.so.11.0: cannot open shared object file: No such file or directory\n",
      "2023-03-25 12:08:42.304218: I tensorflow/stream_executor/platform/default/dso_loader.cc:49] Successfully opened dynamic library libcublas.so.11\n",
      "2023-03-25 12:08:42.304354: I tensorflow/stream_executor/platform/default/dso_loader.cc:49] Successfully opened dynamic library libcublasLt.so.11\n",
      "2023-03-25 12:08:42.306279: I tensorflow/stream_executor/platform/default/dso_loader.cc:49] Successfully opened dynamic library libcufft.so.10\n",
      "2023-03-25 12:08:42.306744: I tensorflow/stream_executor/platform/default/dso_loader.cc:49] Successfully opened dynamic library libcurand.so.10\n",
      "2023-03-25 12:08:42.308874: I tensorflow/stream_executor/platform/default/dso_loader.cc:49] Successfully opened dynamic library libcusolver.so.10\n",
      "2023-03-25 12:08:42.309657: I tensorflow/stream_executor/platform/default/dso_loader.cc:49] Successfully opened dynamic library libcusparse.so.11\n",
      "2023-03-25 12:08:42.309881: I tensorflow/stream_executor/platform/default/dso_loader.cc:49] Successfully opened dynamic library libcudnn.so.8\n",
      "2023-03-25 12:08:42.309899: W tensorflow/core/common_runtime/gpu/gpu_device.cc:1757] Cannot dlopen some GPU libraries. Please make sure the missing libraries mentioned above are installed properly if you would like to use GPU. Follow the guide at https://www.tensorflow.org/install/gpu for how to download and setup the required libraries for your platform.\n",
      "Skipping registering GPU devices...\n",
      "2023-03-25 12:08:42.317964: I tensorflow/core/platform/cpu_feature_guard.cc:142] This TensorFlow binary is optimized with oneAPI Deep Neural Network Library (oneDNN) to use the following CPU instructions in performance-critical operations:  AVX2 AVX512F FMA\n",
      "To enable them in other operations, rebuild TensorFlow with the appropriate compiler flags.\n",
      "2023-03-25 12:08:42.318674: I tensorflow/compiler/jit/xla_gpu_device.cc:99] Not creating XLA devices, tf_xla_enable_xla_devices not set\n",
      "2023-03-25 12:08:42.318705: I tensorflow/core/common_runtime/gpu/gpu_device.cc:1261] Device interconnect StreamExecutor with strength 1 edge matrix:\n",
      "2023-03-25 12:08:42.318709: I tensorflow/core/common_runtime/gpu/gpu_device.cc:1267]      \n"
     ]
    },
    {
     "name": "stdout",
     "output_type": "stream",
     "text": [
      "Detected 0 GPU devices.\n",
      "Using [StateNormalizationTransformer, RewardNormalizationTransformer] for preprocessing.\n",
      "An MPI Optimizer with 1 ranks has been created; the following ranks optimize: [0]\n",
      "\n",
      "\n",
      "Drill started using 1 processes for 1 workers of which 1 are optimizers. Worker distribution: [1].\n",
      "IDs over Workers: [[0]]\n",
      "IDs over Optimizers: [[0]]\n",
      "\n",
      "The policy is recurrent and the batch size is interpreted as the number of transitions per policy update. Given the batch size of 32 this results in: \n",
      "\t2 chunks per update and 32 updates per epoch\n",
      "\tBatch tilings of (1, 2) per process and (1, 2) in total.\n",
      "\n",
      "\n"
     ]
    },
    {
     "name": "stderr",
     "output_type": "stream",
     "text": [
      "2023-03-25 12:08:43.576110: W tensorflow/python/util/util.cc:348] Sets are not currently considered sequences, but this may change in the future, so consider avoiding using them.\n"
     ]
    },
    {
     "name": "stdout",
     "output_type": "stream",
     "text": [
      "Gathering cycle 0..."
     ]
    },
    {
     "name": "stderr",
     "output_type": "stream",
     "text": [
      "2023-03-25 12:08:44.558125: I tensorflow/compiler/mlir/mlir_graph_optimization_pass.cc:116] None of the MLIR optimization passes are enabled (registered 2)\n",
      "2023-03-25 12:08:44.575742: I tensorflow/core/platform/profile_utils/cpu_utils.cc:112] CPU Frequency: 3600000000 Hz\n"
     ]
    },
    {
     "name": "stdout",
     "output_type": "stream",
     "text": [
      "\u001B[92mBefore Training\u001B[0m: r: \u001B[91m -174.88\u001B[0m; len: \u001B[94m  114.88\u001B[0m; n: \u001B[94m  8\u001B[0m; loss: [\u001B[94m  pi  \u001B[0m|\u001B[94m  v     \u001B[0m|\u001B[94m  ent \u001B[0m]; eps: \u001B[94m    0\u001B[0m; lr: \u001B[94m1.00e-03\u001B[0m; upd: \u001B[94m     0\u001B[0m; f: \u001B[94m   0.000\u001B[0mk; y.exp: \u001B[94m0.000\u001B[0m; w: \u001B[94m0.04\u001B[0m; times:  ; took s [unknown time left]; mem: 1.21/33|0.0/0.0;\n",
      "Optimizing..."
     ]
    },
    {
     "name": "stderr",
     "output_type": "stream",
     "text": [
      "Optimizing...:   3%|▎         | 96/3072 [00:06<03:18, 14.97it/s] \n"
     ]
    },
    {
     "name": "stdout",
     "output_type": "stream",
     "text": [
      "\u001B[92mCycle     1/10\u001B[0m: r: \u001B[91m -208.88\u001B[0m; len: \u001B[94m  108.00\u001B[0m; n: \u001B[94m  8\u001B[0m; loss: [\u001B[94m -1.02\u001B[0m|\u001B[94m    0.20\u001B[0m|\u001B[94m -0.14\u001B[0m]; eps: \u001B[94m    8\u001B[0m; lr: \u001B[94m1.00e-03\u001B[0m; upd: \u001B[94m    96\u001B[0m; f: \u001B[94m   1.024\u001B[0mk; w: \u001B[94m0.06\u001B[0m; times: [9.3|0.0|6.7] [58|0|42]; took 15.93s [2.4mins left]; mem: 1.24/33|0.0/0.0;\n",
      "Optimizing..."
     ]
    },
    {
     "name": "stderr",
     "output_type": "stream",
     "text": [
      "Optimizing...:   3%|▎         | 96/3072 [00:05<02:59, 16.58it/s]\n"
     ]
    },
    {
     "name": "stdout",
     "output_type": "stream",
     "text": [
      "\u001B[92mCycle     2/10\u001B[0m: r: \u001B[91m -124.06\u001B[0m; len: \u001B[94m   99.56\u001B[0m; n: \u001B[94m  9\u001B[0m; loss: [\u001B[94m -0.92\u001B[0m|\u001B[94m    0.08\u001B[0m|\u001B[94m -0.17\u001B[0m]; eps: \u001B[94m   16\u001B[0m; lr: \u001B[94m1.00e-03\u001B[0m; upd: \u001B[94m   192\u001B[0m; f: \u001B[94m   2.048\u001B[0mk; w: \u001B[94m0.08\u001B[0m; times: [9.1|0.0|6.0] [60|0|40]; took 15.45s [2.1mins left]; mem: 1.25/33|0.0/0.0;\n",
      "Optimizing..."
     ]
    },
    {
     "name": "stderr",
     "output_type": "stream",
     "text": [
      "Optimizing...:   3%|▎         | 96/3072 [00:06<03:10, 15.62it/s]\n"
     ]
    },
    {
     "name": "stdout",
     "output_type": "stream",
     "text": [
      "\u001B[92mCycle     3/10\u001B[0m: r: \u001B[91m -115.79\u001B[0m; len: \u001B[94m  114.00\u001B[0m; n: \u001B[94m  8\u001B[0m; loss: [\u001B[94m -0.98\u001B[0m|\u001B[94m    0.02\u001B[0m|\u001B[94m -0.12\u001B[0m]; eps: \u001B[94m   25\u001B[0m; lr: \u001B[94m1.00e-03\u001B[0m; upd: \u001B[94m   288\u001B[0m; f: \u001B[94m   3.072\u001B[0mk; w: \u001B[94m0.05\u001B[0m; times: [9.3|0.0|6.3] [59|0|41]; took 15.08s [1.8mins left]; mem: 1.25/33|0.0/0.0;\n",
      "Optimizing..."
     ]
    },
    {
     "name": "stderr",
     "output_type": "stream",
     "text": [
      "Optimizing...:   3%|▎         | 96/3072 [00:06<03:09, 15.67it/s]\n"
     ]
    },
    {
     "name": "stdout",
     "output_type": "stream",
     "text": [
      "\u001B[92mCycle     4/10\u001B[0m: r: \u001B[91m  -73.92\u001B[0m; len: \u001B[94m  106.88\u001B[0m; n: \u001B[94m  8\u001B[0m; loss: [\u001B[94m -0.16\u001B[0m|\u001B[94m    0.01\u001B[0m|\u001B[94m -0.08\u001B[0m]; eps: \u001B[94m   33\u001B[0m; lr: \u001B[94m1.00e-03\u001B[0m; upd: \u001B[94m   384\u001B[0m; f: \u001B[94m   4.096\u001B[0mk; w: \u001B[94m0.04\u001B[0m; times: [8.6|0.0|6.3] [58|0|42]; took 15.38s [1.5mins left]; mem: 1.25/33|0.0/0.0;\n",
      "Optimizing..."
     ]
    },
    {
     "name": "stderr",
     "output_type": "stream",
     "text": [
      "Optimizing...:   3%|▎         | 96/3072 [00:06<03:13, 15.41it/s]\n"
     ]
    },
    {
     "name": "stdout",
     "output_type": "stream",
     "text": [
      "\u001B[92mCycle     5/10\u001B[0m: r: \u001B[91m  -89.32\u001B[0m; len: \u001B[94m  101.00\u001B[0m; n: \u001B[94m  9\u001B[0m; loss: [\u001B[94m -0.64\u001B[0m|\u001B[94m    0.03\u001B[0m|\u001B[94m -0.14\u001B[0m]; eps: \u001B[94m   41\u001B[0m; lr: \u001B[94m1.00e-03\u001B[0m; upd: \u001B[94m   480\u001B[0m; f: \u001B[94m   5.120\u001B[0mk; w: \u001B[94m0.1\u001B[0m; times: [8.9|0.0|6.4] [58|0|42]; took 14.84s [1.3mins left]; mem: 1.26/33|0.0/0.0;\n",
      "Optimizing..."
     ]
    },
    {
     "name": "stderr",
     "output_type": "stream",
     "text": [
      "Optimizing...:   3%|▎         | 96/3072 [00:06<03:08, 15.75it/s]\n"
     ]
    },
    {
     "name": "stdout",
     "output_type": "stream",
     "text": [
      "\u001B[92mCycle     6/10\u001B[0m: r: \u001B[91m  -86.04\u001B[0m; len: \u001B[94m  109.50\u001B[0m; n: \u001B[94m  8\u001B[0m; loss: [\u001B[94m -0.60\u001B[0m|\u001B[94m    0.01\u001B[0m|\u001B[94m -0.26\u001B[0m]; eps: \u001B[94m   50\u001B[0m; lr: \u001B[94m1.00e-03\u001B[0m; upd: \u001B[94m   576\u001B[0m; f: \u001B[94m   6.144\u001B[0mk; w: \u001B[94m0.05\u001B[0m; times: [8.2|0.0|6.3] [57|0|43]; took 15.11s [1.0mins left]; mem: 1.26/33|0.0/0.0;\n",
      "Optimizing..."
     ]
    },
    {
     "name": "stderr",
     "output_type": "stream",
     "text": [
      "Optimizing...:   3%|▎         | 96/3072 [00:06<03:07, 15.88it/s]\n"
     ]
    },
    {
     "name": "stdout",
     "output_type": "stream",
     "text": [
      "\u001B[92mCycle     7/10\u001B[0m: r: \u001B[91m -112.56\u001B[0m; len: \u001B[94m  131.00\u001B[0m; n: \u001B[94m  7\u001B[0m; loss: [\u001B[94m -0.41\u001B[0m|\u001B[94m    0.06\u001B[0m|\u001B[94m -0.14\u001B[0m]; eps: \u001B[94m   58\u001B[0m; lr: \u001B[94m1.00e-03\u001B[0m; upd: \u001B[94m   672\u001B[0m; f: \u001B[94m   7.168\u001B[0mk; w: \u001B[94m0.06\u001B[0m; times: [8.7|0.0|6.2] [58|0|42]; took 15.46s [0.8mins left]; mem: 1.27/33|0.0/0.0;\n",
      "Optimizing..."
     ]
    },
    {
     "name": "stderr",
     "output_type": "stream",
     "text": [
      "Optimizing...:   3%|▎         | 96/3072 [00:06<03:08, 15.82it/s]\n"
     ]
    },
    {
     "name": "stdout",
     "output_type": "stream",
     "text": [
      "\u001B[92mCycle     8/10\u001B[0m: r: \u001B[91m  -90.82\u001B[0m; len: \u001B[94m  123.29\u001B[0m; n: \u001B[94m  7\u001B[0m; loss: [\u001B[94m -0.44\u001B[0m|\u001B[94m    0.01\u001B[0m|\u001B[94m -0.39\u001B[0m]; eps: \u001B[94m   65\u001B[0m; lr: \u001B[94m1.00e-03\u001B[0m; upd: \u001B[94m   768\u001B[0m; f: \u001B[94m   8.192\u001B[0mk; w: \u001B[94m0.06\u001B[0m; times: [9.1|0.0|6.2] [59|0|41]; took 14.81s [0.5mins left]; mem: 1.27/33|0.0/0.0;\n",
      "Optimizing..."
     ]
    },
    {
     "name": "stderr",
     "output_type": "stream",
     "text": [
      "Optimizing...:   3%|▎         | 96/3072 [00:06<03:09, 15.74it/s]\n"
     ]
    },
    {
     "name": "stdout",
     "output_type": "stream",
     "text": [
      "\u001B[92mCycle     9/10\u001B[0m: r: \u001B[91m  -68.38\u001B[0m; len: \u001B[94m  116.38\u001B[0m; n: \u001B[94m  8\u001B[0m; loss: [\u001B[94m -0.23\u001B[0m|\u001B[94m    0.01\u001B[0m|\u001B[94m -0.22\u001B[0m]; eps: \u001B[94m   72\u001B[0m; lr: \u001B[94m1.00e-03\u001B[0m; upd: \u001B[94m   864\u001B[0m; f: \u001B[94m   9.216\u001B[0mk; w: \u001B[94m0.04\u001B[0m; times: [8.4|0.0|6.3] [57|0|43]; took 14.96s [0.3mins left]; mem: 1.27/33|0.0/0.0;\n",
      "Optimizing..."
     ]
    },
    {
     "name": "stderr",
     "output_type": "stream",
     "text": [
      "Optimizing...:   3%|▎         | 96/3072 [00:06<03:09, 15.73it/s]\n"
     ]
    },
    {
     "name": "stdout",
     "output_type": "stream",
     "text": [
      "Finalizing...Drill finished after 153.46serialization.\n"
     ]
    }
   ],
   "source": [
    "agent = apy.Agent(build_my_amazing_model, env, horizon=1024, workers=1, distribution=distribution)\n",
    "agent.drill(n=10, epochs=3, batch_size=32)\n",
    "agent.save_agent_state()"
   ],
   "metadata": {
    "collapsed": false
   }
  },
  {
   "cell_type": "code",
   "execution_count": 6,
   "outputs": [
    {
     "name": "stdout",
     "output_type": "stream",
     "text": [
      "-162.23110202608896\n"
     ]
    }
   ],
   "source": [
    "evaluation_results = agent.evaluate(10, act_confidently=True)[0]\n",
    "print(np.mean(evaluation_results.episode_rewards))"
   ],
   "metadata": {
    "collapsed": false
   }
  },
  {
   "cell_type": "code",
   "execution_count": null,
   "outputs": [],
   "source": [],
   "metadata": {
    "collapsed": false
   }
  }
 ],
 "metadata": {
  "kernelspec": {
   "display_name": "Python 3 (ipykernel)",
   "language": "python",
   "name": "python3"
  },
  "language_info": {
   "codemirror_mode": {
    "name": "ipython",
    "version": 3
   },
   "file_extension": ".py",
   "mimetype": "text/x-python",
   "name": "python",
   "nbconvert_exporter": "python",
   "pygments_lexer": "ipython3",
   "version": "3.8.10"
  }
 },
 "nbformat": 4,
 "nbformat_minor": 1
}

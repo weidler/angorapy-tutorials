{
 "cells": [
  {
   "cell_type": "markdown",
   "source": [
    "# Building and Training Custom Tasks\n",
    "\n",
    "In the present tutorial we will learn how to implement custom anthropomorphic tasks in AngoraPy."
   ],
   "metadata": {
    "collapsed": false
   }
  }
 ],
 "metadata": {
  "kernelspec": {
   "display_name": "Python 3",
   "language": "python",
   "name": "python3"
  },
  "language_info": {
   "codemirror_mode": {
    "name": "ipython",
    "version": 2
   },
   "file_extension": ".py",
   "mimetype": "text/x-python",
   "name": "python",
   "nbconvert_exporter": "python",
   "pygments_lexer": "ipython2",
   "version": "2.7.6"
  }
 },
 "nbformat": 4,
 "nbformat_minor": 0
}

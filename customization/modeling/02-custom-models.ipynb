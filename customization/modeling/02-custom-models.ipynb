{
 "cells": [
  {
   "cell_type": "markdown",
   "metadata": {},
   "source": [
    "# 2. Building Custom Models\n",
    "\n",
    "When you are using AngoraPy to train goal-driven models of the brain, you will usually want these models to be _your_ custom networks. In this notebook, we show you the basics of constructing and registering your own model.\n",
    "\n",
    "We first import necessary dependencies and then, like in the previous tutorial, build the environment and distribution."
   ]
  },
  {
   "cell_type": "code",
   "execution_count": 1,
   "metadata": {},
   "outputs": [],
   "source": [
    "import os\n",
    "os.environ[\"TF_CPP_MIN_LOG_LEVEL\"] = \"3\"\n",
    "\n",
    "import numpy as np\n",
    "import tensorflow as tf\n",
    "import angorapy as apy\n",
    "\n",
    "env = apy.make_env(\"CartPole-v1\")\n",
    "distribution = apy.policies.CategoricalPolicyDistribution(env)"
   ]
  },
  {
   "cell_type": "markdown",
   "metadata": {},
   "source": [
    "If you would like to, you can also go for a different environment, for instance `LunarLander-v2`. However, training it will need a little more time and potentially a stronger network.\n",
    "\n",
    "We now will build the model. In AngoraPy, we do not handle models itself, but instead operate on _model builders_. The reason for this is practicality in the backend of the library. Because we use truncated backpropagation through time, models need to be stateful (for an explanation of this, check the paper introducing AngoraPy). This requires models to be build with a specific sequence length. However, when collecting data, we want to do single steps, whereas we optimize on longer sequences. This requires us to constantly rebuild the model, thus demanding functions instead of objects. \n",
    "\n",
    "Anyways. The functions we write to build our models have some requirements.\n",
    "\n",
    "1. Their signature mus follow the format `function(env, distribution, bs, sequence_length) -> policy, value, joint` where `env` and `distribution` are the environment and distribution the model will act upon, and `policy`, `value` and `joint` are the models (more about this below).\n",
    "2. All recurrent elements need to return sequences and be stateful. In this notebook, however, we will start with a simple feedforward network. Only in the following notebook will we integrate a recurrent part.\n",
    "\n",
    "We write a function builder for a 5-layer network, which partially shares weights between policy and value network. "
   ]
  },
  {
   "cell_type": "code",
   "execution_count": 6,
   "metadata": {},
   "outputs": [],
   "source": [
    "from tensorflow.keras.layers import TimeDistributed\n",
    "from angorapy.utilities.util import env_extract_dims\n",
    "\n",
    "\n",
    "def build_my_amazing_model(env, distribution, bs=1, sequence_length=None):\n",
    "    inputs = apy.models.make_input_layers(env, bs)[0]\n",
    "    _, n_actions = env_extract_dims(env)\n",
    "\n",
    "    \n",
    "    x = tf.keras.layers.Dense(8, activation=\"relu\")(inputs)\n",
    "    x = tf.keras.layers.Dense(8, activation=\"relu\")(x)\n",
    "    x_policy = tf.keras.layers.Dense(8, activation=\"relu\")(x)\n",
    "    x_policy = tf.keras.layers.Dense(8, activation=\"relu\")(x_policy)\n",
    "    x_value = tf.keras.layers.Dense(8, activation=\"relu\")(x)\n",
    "    x_value = tf.keras.layers.Dense(8, activation=\"relu\")(x_value)\n",
    "\n",
    "    out_policy = distribution.build_action_head(n_actions, x_policy.shape[1:], bs)(x_policy)\n",
    "    out_value = tf.keras.layers.Dense(1)(x_value)\n",
    "\n",
    "    policy = tf.keras.Model(inputs=inputs, outputs=out_policy, name=\"my_policy_function\")\n",
    "    value = tf.keras.Model(inputs=inputs, outputs=out_value, name=\"my_value_function\")\n",
    "    joint = tf.keras.Model(inputs=inputs, outputs=[out_policy, out_value], name=\"my_joint_networks\")\n",
    "\n",
    "    return policy, value, joint"
   ]
  },
  {
   "cell_type": "markdown",
   "metadata": {},
   "source": [
    "We can now register the function definition to the modeling module, which simply gives it a reference for e.g. loading your model at a later stage. We then build the agent with our model function and plot the model for inspection. (Note that for the plotting part we need graphviz and pyplot installed on our machine)"
   ]
  },
  {
   "cell_type": "code",
   "execution_count": 9,
   "metadata": {
    "scrolled": true
   },
   "outputs": [
    {
     "name": "stdout",
     "output_type": "stream",
     "text": [
      "Detected 0 GPU devices.\n",
      "Using [StateNormalizationTransformer, RewardNormalizationTransformer] for preprocessing.\n",
      "[<KerasTensor: shape=(1, 4) dtype=float32 (created by layer 'proprioception')>]\n",
      "[<KerasTensor: shape=(1, 4) dtype=float32 (created by layer 'proprioception')>]\n",
      "An MPI Optimizer with 1 ranks has been created; the following ranks optimize: [0]\n"
     ]
    },
    {
     "data": {
      "image/png": "[encoded data removed]",
      "text/plain": [
       "<IPython.core.display.Image object>"
      ]
     },
     "execution_count": 9,
     "metadata": {},
     "output_type": "execute_result"
    }
   ],
   "source": [
    "from tensorflow.keras.utils import plot_model\n",
    "\n",
    "apy.register_model(build_my_amazing_model)\n",
    "agent = apy.Agent(build_my_amazing_model, env, horizon=2048, workers=1, distribution=distribution)\n",
    "plot_model(agent.joint)"
   ]
  },
  {
   "cell_type": "markdown",
   "metadata": {},
   "source": [
    "And thats all we need to now train our model on the task, as we have previously seen in the first notebook."
   ]
  },
  {
   "cell_type": "code",
   "execution_count": 10,
   "metadata": {},
   "outputs": [
    {
     "name": "stdout",
     "output_type": "stream",
     "text": [
      "\n",
      "\n",
      "Drill started using 1 processes for 1 workers of which 1 are optimizers. Worker distribution: [1].\n",
      "IDs over Workers: [[0]]\n",
      "IDs over Optimizers: [[0]]\n",
      "[<KerasTensor: shape=(32, 4) dtype=float32 (created by layer 'proprioception')>]\n",
      "[<KerasTensor: shape=(1, 4) dtype=float32 (created by layer 'proprioception')>]\n",
      "Gathering cycle 0..."
     ]
    },
    {
     "name": "stderr",
     "output_type": "stream",
     "text": [
      "Gathering experience...: 100%|█████████████| 2048/2048 [00:08<00:00, 246.19it/s]\n"
     ]
    },
    {
     "name": "stdout",
     "output_type": "stream",
     "text": [
      "\r",
      "\u001b[92mBefore Training\u001b[0m: r: \u001b[91m   21.91\u001b[0m; len: \u001b[94m   21.91\u001b[0m; n: \u001b[94m 93\u001b[0m; loss: [\u001b[94m  pi  \u001b[0m|\u001b[94m  v     \u001b[0m|\u001b[94m  ent \u001b[0m]; eps: \u001b[94m    0\u001b[0m; lr: \u001b[94m1.00e-03\u001b[0m; upd: \u001b[94m     0\u001b[0m; f: \u001b[94m   0.000\u001b[0mk; y.exp: \u001b[94m0.000\u001b[0m; times:  ; took s [unknown time left]; mem: 1.29/12|0.0/0.0;\n"
     ]
    },
    {
     "name": "stderr",
     "output_type": "stream",
     "text": [
      "Optimizing...:   0%|                                    | 0/640 [00:06<?, ?it/s]\n"
     ]
    },
    {
     "name": "stdout",
     "output_type": "stream",
     "text": [
      "\r",
      "Finalizing...\r",
      "Gathering cycle 1..."
     ]
    },
    {
     "name": "stderr",
     "output_type": "stream",
     "text": [
      "Gathering experience...: 100%|█████████████| 2048/2048 [00:08<00:00, 237.60it/s]\n"
     ]
    },
    {
     "name": "stdout",
     "output_type": "stream",
     "text": [
      "\r",
      "\u001b[92mCycle     1/10\u001b[0m: r: \u001b[91m   25.51\u001b[0m; len: \u001b[94m   25.51\u001b[0m; n: \u001b[94m 80\u001b[0m; loss: [\u001b[94m -0.01\u001b[0m|\u001b[94m    0.08\u001b[0m|\u001b[94m  0.68\u001b[0m]; eps: \u001b[94m   93\u001b[0m; lr: \u001b[94m1.00e-03\u001b[0m; upd: \u001b[94m   640\u001b[0m; f: \u001b[94m   2.048\u001b[0mk; times: [10.6|0.0|6.8] [61|0|39]; took 17.39s [2.6mins left]; mem: 1.29/12|0.0/0.0;\n"
     ]
    },
    {
     "name": "stderr",
     "output_type": "stream",
     "text": [
      "Optimizing...:   0%|                                    | 0/640 [00:05<?, ?it/s]\n"
     ]
    },
    {
     "name": "stdout",
     "output_type": "stream",
     "text": [
      "\r",
      "Finalizing...\r",
      "Gathering cycle 2..."
     ]
    },
    {
     "name": "stderr",
     "output_type": "stream",
     "text": [
      "Gathering experience...: 100%|█████████████| 2048/2048 [00:08<00:00, 252.84it/s]\n"
     ]
    },
    {
     "name": "stdout",
     "output_type": "stream",
     "text": [
      "\r",
      "\u001b[92mCycle     2/10\u001b[0m: r: \u001b[91m   42.08\u001b[0m; len: \u001b[94m   42.08\u001b[0m; n: \u001b[94m 48\u001b[0m; loss: [\u001b[94m -0.10\u001b[0m|\u001b[94m    0.03\u001b[0m|\u001b[94m  0.64\u001b[0m]; eps: \u001b[94m  173\u001b[0m; lr: \u001b[94m1.00e-03\u001b[0m; upd: \u001b[94m  1280\u001b[0m; f: \u001b[94m   4.096\u001b[0mk; times: [10.4|0.0|6.0] [63|0|37]; took 16.05s [2.2mins left]; mem: 1.29/12|0.0/0.0;\n"
     ]
    },
    {
     "name": "stderr",
     "output_type": "stream",
     "text": [
      "Optimizing...:   0%|                                    | 0/640 [00:05<?, ?it/s]\n"
     ]
    },
    {
     "name": "stdout",
     "output_type": "stream",
     "text": [
      "\r",
      "Finalizing...\r",
      "Gathering cycle 3..."
     ]
    },
    {
     "name": "stderr",
     "output_type": "stream",
     "text": [
      "Gathering experience...: 100%|█████████████| 2048/2048 [00:07<00:00, 272.77it/s]\n"
     ]
    },
    {
     "name": "stdout",
     "output_type": "stream",
     "text": [
      "\r",
      "\u001b[92mCycle     3/10\u001b[0m: r: \u001b[91m   79.68\u001b[0m; len: \u001b[94m   79.68\u001b[0m; n: \u001b[94m 25\u001b[0m; loss: [\u001b[94m -0.10\u001b[0m|\u001b[94m    0.03\u001b[0m|\u001b[94m  0.59\u001b[0m]; eps: \u001b[94m  221\u001b[0m; lr: \u001b[94m1.00e-03\u001b[0m; upd: \u001b[94m  1920\u001b[0m; f: \u001b[94m   6.144\u001b[0mk; times: [9.9|0.0|6.0] [62|0|38]; took 15.41s [1.9mins left]; mem: 1.29/12|0.0/0.0;\n"
     ]
    },
    {
     "name": "stderr",
     "output_type": "stream",
     "text": [
      "Optimizing...:   0%|                                    | 0/640 [00:06<?, ?it/s]\n"
     ]
    },
    {
     "name": "stdout",
     "output_type": "stream",
     "text": [
      "Gathering cycle 4..."
     ]
    },
    {
     "name": "stderr",
     "output_type": "stream",
     "text": [
      "Gathering experience...: 100%|█████████████| 2048/2048 [00:08<00:00, 233.22it/s]\n"
     ]
    },
    {
     "name": "stdout",
     "output_type": "stream",
     "text": [
      "\r",
      "\u001b[92mCycle     4/10\u001b[0m: r: \u001b[91m  165.58\u001b[0m; len: \u001b[94m  165.58\u001b[0m; n: \u001b[94m 12\u001b[0m; loss: [\u001b[94m  0.03\u001b[0m|\u001b[94m    0.04\u001b[0m|\u001b[94m  0.57\u001b[0m]; eps: \u001b[94m  246\u001b[0m; lr: \u001b[94m1.00e-03\u001b[0m; upd: \u001b[94m  2560\u001b[0m; f: \u001b[94m   8.192\u001b[0mk; times: [9.2|0.0|6.6] [58|0|42]; took 17.18s [1.7mins left]; mem: 1.29/12|0.0/0.0;\n"
     ]
    },
    {
     "name": "stderr",
     "output_type": "stream",
     "text": [
      "Optimizing...:   0%|                                    | 0/640 [00:05<?, ?it/s]\n"
     ]
    },
    {
     "name": "stdout",
     "output_type": "stream",
     "text": [
      "\r",
      "Finalizing...\r",
      "Gathering cycle 5..."
     ]
    },
    {
     "name": "stderr",
     "output_type": "stream",
     "text": [
      "Gathering experience...: 100%|█████████████| 2048/2048 [00:07<00:00, 273.89it/s]\n"
     ]
    },
    {
     "name": "stdout",
     "output_type": "stream",
     "text": [
      "\r",
      "\u001b[92mCycle     5/10\u001b[0m: r: \u001b[91m  245.29\u001b[0m; len: \u001b[94m  245.29\u001b[0m; n: \u001b[94m  7\u001b[0m; loss: [\u001b[94m  0.01\u001b[0m|\u001b[94m    0.05\u001b[0m|\u001b[94m  0.56\u001b[0m]; eps: \u001b[94m  258\u001b[0m; lr: \u001b[94m1.00e-03\u001b[0m; upd: \u001b[94m  3200\u001b[0m; f: \u001b[94m  10.240\u001b[0mk; times: [10.4|0.0|5.8] [64|0|36]; took 15.07s [1.4mins left]; mem: 1.29/12|0.0/0.0;\n"
     ]
    },
    {
     "name": "stderr",
     "output_type": "stream",
     "text": [
      "Optimizing...:   0%|                                    | 0/640 [00:05<?, ?it/s]\n"
     ]
    },
    {
     "name": "stdout",
     "output_type": "stream",
     "text": [
      "\r",
      "Finalizing...\r",
      "Gathering cycle 6..."
     ]
    },
    {
     "name": "stderr",
     "output_type": "stream",
     "text": [
      "Gathering experience...: 100%|█████████████| 2048/2048 [00:07<00:00, 274.22it/s]\n"
     ]
    },
    {
     "name": "stdout",
     "output_type": "stream",
     "text": [
      "\r",
      "\u001b[92mCycle     6/10\u001b[0m: r: \u001b[33m  443.75\u001b[0m; len: \u001b[94m  443.75\u001b[0m; n: \u001b[94m  4\u001b[0m; loss: [\u001b[94m  0.02\u001b[0m|\u001b[94m    0.04\u001b[0m|\u001b[94m  0.56\u001b[0m]; eps: \u001b[94m  265\u001b[0m; lr: \u001b[94m1.00e-03\u001b[0m; upd: \u001b[94m  3840\u001b[0m; f: \u001b[94m  12.288\u001b[0mk; times: [9.1|0.0|5.8] [61|0|39]; took 15.07s [1.1mins left]; mem: 1.29/12|0.0/0.0;\n"
     ]
    },
    {
     "name": "stderr",
     "output_type": "stream",
     "text": [
      "Optimizing...:   0%|                                    | 0/640 [00:05<?, ?it/s]\n"
     ]
    },
    {
     "name": "stdout",
     "output_type": "stream",
     "text": [
      "\r",
      "Finalizing...\r",
      "Gathering cycle 7..."
     ]
    },
    {
     "name": "stderr",
     "output_type": "stream",
     "text": [
      "Gathering experience...: 100%|█████████████| 2048/2048 [00:07<00:00, 275.16it/s]\n"
     ]
    },
    {
     "name": "stdout",
     "output_type": "stream",
     "text": [
      "\r",
      "\u001b[92mCycle     7/10\u001b[0m: r: \u001b[33m  408.80\u001b[0m; len: \u001b[94m  408.80\u001b[0m; n: \u001b[94m  5\u001b[0m; loss: [\u001b[94m -0.02\u001b[0m|\u001b[94m    0.03\u001b[0m|\u001b[94m  0.56\u001b[0m]; eps: \u001b[94m  269\u001b[0m; lr: \u001b[94m1.00e-03\u001b[0m; upd: \u001b[94m  4480\u001b[0m; f: \u001b[94m  14.336\u001b[0mk; times: [9.1|0.0|6.0] [60|0|40]; took 15.25s [0.8mins left]; mem: 1.29/12|0.0/0.0;\n"
     ]
    },
    {
     "name": "stderr",
     "output_type": "stream",
     "text": [
      "Optimizing...:   0%|                                    | 0/640 [00:05<?, ?it/s]\n"
     ]
    },
    {
     "name": "stdout",
     "output_type": "stream",
     "text": [
      "\r",
      "Finalizing...\r",
      "Gathering cycle 8..."
     ]
    },
    {
     "name": "stderr",
     "output_type": "stream",
     "text": [
      "Gathering experience...: 100%|█████████████| 2048/2048 [00:07<00:00, 270.29it/s]\n"
     ]
    },
    {
     "name": "stdout",
     "output_type": "stream",
     "text": [
      "\r",
      "\u001b[92mCycle     8/10\u001b[0m: r: \u001b[32m  500.00\u001b[0m; len: \u001b[94m  500.00\u001b[0m; n: \u001b[94m  4\u001b[0m; loss: [\u001b[94m -0.01\u001b[0m|\u001b[94m    0.02\u001b[0m|\u001b[94m  0.51\u001b[0m]; eps: \u001b[94m  274\u001b[0m; lr: \u001b[94m1.00e-03\u001b[0m; upd: \u001b[94m  5120\u001b[0m; f: \u001b[94m  16.384\u001b[0mk; times: [9.1|0.0|5.8] [61|0|39]; took 15.3s [0.5mins left]; mem: 1.29/12|0.0/0.0;\n"
     ]
    },
    {
     "name": "stderr",
     "output_type": "stream",
     "text": [
      "Optimizing...:   0%|                                    | 0/640 [00:05<?, ?it/s]\n"
     ]
    },
    {
     "name": "stdout",
     "output_type": "stream",
     "text": [
      "\r",
      "Finalizing...\r",
      "Gathering cycle 9..."
     ]
    },
    {
     "name": "stderr",
     "output_type": "stream",
     "text": [
      "Gathering experience...: 100%|█████████████| 2048/2048 [00:07<00:00, 276.82it/s]\n"
     ]
    },
    {
     "name": "stdout",
     "output_type": "stream",
     "text": [
      "\r",
      "\u001b[92mCycle     9/10\u001b[0m: r: \u001b[33m  305.33\u001b[0m; len: \u001b[94m  305.33\u001b[0m; n: \u001b[94m  6\u001b[0m; loss: [\u001b[94m  0.01\u001b[0m|\u001b[94m    0.03\u001b[0m|\u001b[94m  0.55\u001b[0m]; eps: \u001b[94m  278\u001b[0m; lr: \u001b[94m1.00e-03\u001b[0m; upd: \u001b[94m  5760\u001b[0m; f: \u001b[94m  18.432\u001b[0mk; times: [9.3|0.0|5.8] [62|0|38]; took 14.99s [0.3mins left]; mem: 1.29/12|0.0/0.0;\n"
     ]
    },
    {
     "name": "stderr",
     "output_type": "stream",
     "text": [
      "Optimizing...:   0%|                                    | 0/640 [00:05<?, ?it/s]\n"
     ]
    },
    {
     "name": "stdout",
     "output_type": "stream",
     "text": [
      "Finalizing...[<KerasTensor: shape=(32, 4) dtype=float32 (created by layer 'proprioception')>]\n",
      "Drill finished after 158.53serialization.\n"
     ]
    }
   ],
   "source": [
    "agent.drill(n=10, epochs=10, batch_size=32)\n",
    "agent.save_agent_state()"
   ]
  },
  {
   "cell_type": "markdown",
   "metadata": {},
   "source": [
    "Once again, lets evaluate the agent to check how it performs without exploration."
   ]
  },
  {
   "cell_type": "code",
   "execution_count": 12,
   "metadata": {},
   "outputs": [
    {
     "name": "stdout",
     "output_type": "stream",
     "text": [
      "[<KerasTensor: shape=(1, 4) dtype=float32 (created by layer 'proprioception')>]\n"
     ]
    },
    {
     "name": "stderr",
     "output_type": "stream",
     "text": [
      "100%|█████████████████████████████████████████████| 1/1 [00:01<00:00,  1.38s/it]"
     ]
    },
    {
     "name": "stdout",
     "output_type": "stream",
     "text": [
      "Mean performance after training: 500.0\n"
     ]
    },
    {
     "name": "stderr",
     "output_type": "stream",
     "text": [
      "\n"
     ]
    }
   ],
   "source": [
    "evaluation_results = agent.evaluate(1, act_confidently=True)[0]\n",
    "print(f\"Mean performance after training: {np.mean(evaluation_results.episode_rewards)}\")"
   ]
  },
  {
   "cell_type": "markdown",
   "metadata": {},
   "source": [
    "Now, since we might want to skip the training at a later stage and instead just load a previously saved agent, lets see how this works. We can load an agent from one of the states it has been saved at by calling the static `Agent.from_agent_state()` method which acts as a constructor. When training an agent using the `drill()` method, your model will be saved at every cycle, once as the _last_ agent state and once as the _best_ agent state if it is performaing better than the previous best state. Both of them are constantly overwritten, such that there is always two saved states for an agent. However, you can manually save an agent calling `agent.save_agent_state()` and additionally instruct the drill method to save at some frequency. In the following, we load the agent at the default state, `\"best\"`."
   ]
  },
  {
   "cell_type": "code",
   "execution_count": 15,
   "metadata": {},
   "outputs": [
    {
     "name": "stdout",
     "output_type": "stream",
     "text": [
      "Detected 0 GPU devices.\n",
      "Loading from iteration 9.\n",
      "Detected 0 GPU devices.\n",
      "Using [StateNormalizationTransformer, RewardNormalizationTransformer] for preprocessing.\n",
      "[<KerasTensor: shape=(1, 4) dtype=float32 (created by layer 'proprioception')>]\n",
      "[<KerasTensor: shape=(1, 4) dtype=float32 (created by layer 'proprioception')>]\n",
      "An MPI Optimizer with 1 ranks has been created; the following ranks optimize: [0]\n",
      "An MPI Optimizer with 1 ranks has been created; the following ranks optimize: [0]\n",
      "Loaded optimizer.\n"
     ]
    }
   ],
   "source": [
    "loaded_agent = apy.Agent.from_agent_state(agent.agent_id)"
   ]
  },
  {
   "cell_type": "markdown",
   "metadata": {},
   "source": [
    "We now have fully recovered the agent, however this agent holds the weights from the best version of itself (the original those from the last state). Lets evaluate this agent's alter ego."
   ]
  },
  {
   "cell_type": "code",
   "execution_count": 16,
   "metadata": {},
   "outputs": [
    {
     "name": "stdout",
     "output_type": "stream",
     "text": [
      "[<KerasTensor: shape=(1, 4) dtype=float32 (created by layer 'proprioception')>]\n"
     ]
    },
    {
     "name": "stderr",
     "output_type": "stream",
     "text": [
      "100%|█████████████████████████████████████████████| 1/1 [00:01<00:00,  1.30s/it]"
     ]
    },
    {
     "name": "stdout",
     "output_type": "stream",
     "text": [
      "Mean performance after training: 500.0\n"
     ]
    },
    {
     "name": "stderr",
     "output_type": "stream",
     "text": [
      "\n"
     ]
    }
   ],
   "source": [
    "evaluation_results = loaded_agent.evaluate(1, act_confidently=True)[0]\n",
    "print(f\"Mean performance after training: {np.mean(evaluation_results.episode_rewards)}\")"
   ]
  },
  {
   "cell_type": "markdown",
   "metadata": {},
   "source": [
    "This concludes the tutorial on model building. In the following notebook we will revisit the process, but show how to do it with a recurrent network."
   ]
  },
  {
   "cell_type": "code",
   "execution_count": null,
   "metadata": {},
   "outputs": [],
   "source": []
  }
 ],
 "metadata": {
  "kernelspec": {
   "display_name": "Python 3 (ipykernel)",
   "language": "python",
   "name": "python3"
  },
  "language_info": {
   "codemirror_mode": {
    "name": "ipython",
    "version": 3
   },
   "file_extension": ".py",
   "mimetype": "text/x-python",
   "name": "python",
   "nbconvert_exporter": "python",
   "pygments_lexer": "ipython3",
   "version": "3.8.10"
  }
 },
 "nbformat": 4,
 "nbformat_minor": 1
}

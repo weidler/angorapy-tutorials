{
 "cells": [
  {
   "cell_type": "code",
   "id": "25f8227dfb8b392c",
   "metadata": {
    "ExecuteTime": {
     "end_time": "2024-08-19T13:41:36.569277Z",
     "start_time": "2024-08-19T13:41:36.564597Z"
    }
   },
   "source": [
    "import gymnasium as gym\n",
    "import numpy as np\n",
    "import angorapy as ap"
   ],
   "outputs": [],
   "execution_count": 5
  },
  {
   "metadata": {
    "collapsed": true,
    "ExecuteTime": {
     "end_time": "2024-08-19T13:41:36.599596Z",
     "start_time": "2024-08-19T13:41:36.583433Z"
    }
   },
   "cell_type": "code",
   "source": [
    "class MyTask(gym.Env):\n",
    "\n",
    "    def __init__(self):\n",
    "        super().__init__()\n",
    "\n",
    "        self.action_space = gym.spaces.Discrete(4, start=0)  # up, down, left, right\n",
    "        self.observation_space = gym.spaces.Box(low=0, high=1, shape=(4,), dtype=int)  # xy of target, xy of agent\n",
    "\n",
    "        self.agent_position = np.array([5, 5])\n",
    "        self.goal_position = self._sample_goal()\n",
    "\n",
    "    def _sample_goal(self):\n",
    "        possible_coords = np.concatenate([np.arange(4), np.arange(7, 10)])\n",
    "\n",
    "        return np.random.choice(possible_coords, size=2)\n",
    "\n",
    "    def _get_obs(self):\n",
    "        return np.concatenate([self.goal_position, self.agent_position])\n",
    "\n",
    "    def reset(self, **kwargs):\n",
    "        self.agent_position = np.array([5, 5])\n",
    "        self.goal_position = self._sample_goal()\n",
    "\n",
    "        return self._get_obs(), {}\n",
    "\n",
    "    def step(self, action):\n",
    "        assert action in range(4)\n",
    "\n",
    "        if action == 0:\n",
    "            new_pos = self.agent_position[0]\n",
    "            new_pos += 1\n",
    "\n",
    "            self.agent_position[0] = min(new_pos, 10)\n",
    "        elif action == 1:\n",
    "            new_pos = self.agent_position[0]\n",
    "            new_pos -= 1\n",
    "\n",
    "            self.agent_position[0] = max(new_pos, 0)\n",
    "        elif action == 2:\n",
    "            new_pos = self.agent_position[1]\n",
    "            new_pos += 1\n",
    "\n",
    "            self.agent_position[1] = min(new_pos, 10)\n",
    "        elif action == 3:\n",
    "            new_pos = self.agent_position[1]\n",
    "            new_pos -= 1\n",
    "\n",
    "            self.agent_position[1] = max(new_pos, 0)\n",
    "\n",
    "        reward = -0.5 - np.linalg.norm(self.agent_position - self.goal_position)\n",
    "\n",
    "        done = False\n",
    "        if np.all(np.equal(self.agent_position, self.goal_position)):\n",
    "            reward = 5\n",
    "            done = True\n",
    "\n",
    "        # print(f\"Agent position: {self.agent_position}; Goal position: {self.goal_position};\")\n",
    "        return self._get_obs(), reward, done, done, {}\n",
    "\n",
    "\n",
    "gym.envs.register(\n",
    "    id=f'MyTask-v0',\n",
    "    entry_point=MyTask,\n",
    "    kwargs={},\n",
    ")"
   ],
   "id": "initial_id",
   "outputs": [
    {
     "name": "stderr",
     "output_type": "stream",
     "text": [
      "/home/weidler/miniconda3/envs/angorapy-tutorials/lib/python3.11/site-packages/gymnasium/envs/registration.py:693: UserWarning: \u001B[33mWARN: Overriding environment MyTask-v0 already in registry.\u001B[0m\n",
      "  logger.warn(f\"Overriding environment {new_spec.id} already in registry.\")\n"
     ]
    }
   ],
   "execution_count": 6
  },
  {
   "metadata": {
    "ExecuteTime": {
     "end_time": "2024-08-19T13:41:36.669952Z",
     "start_time": "2024-08-19T13:41:36.647820Z"
    }
   },
   "cell_type": "code",
   "source": [
    "env = ap.make_task(\"MyTask-v0\")\n",
    "\n",
    "state, info = env.reset()\n",
    "for episode in range(5):\n",
    "    for i in range(10):\n",
    "        obs, reward, done, _, _ = env.step(env.action_space.sample())\n",
    "        print(obs)       \n",
    "\n",
    "        if done:\n",
    "            break   "
   ],
   "id": "2875922a3459682f",
   "outputs": [
    {
     "name": "stdout",
     "output_type": "stream",
     "text": [
      "{'vision': None, 'touch': None, 'proprioception': array([0.00948204, 0.        , 0.0098039 , 0.00969854], dtype=float32), 'goal': None, 'asymmetric': None}\n",
      "{'vision': None, 'touch': None, 'proprioception': array([ 0.00670149,  0.        ,  0.00693108, -0.99835116], dtype=float32), 'goal': None, 'asymmetric': None}\n",
      "{'vision': None, 'touch': None, 'proprioception': array([0.00546902, 0.        , 0.00565812, 0.7066112 ], dtype=float32), 'goal': None, 'asymmetric': None}\n",
      "{'vision': None, 'touch': None, 'proprioception': array([0.00473395, 0.        , 1.7290817 , 0.57699335], dtype=float32), 'goal': None, 'asymmetric': None}\n",
      "{'vision': None, 'touch': None, 'proprioception': array([0.00423207, 0.        , 1.2234386 , 1.5806075 ], dtype=float32), 'goal': None, 'asymmetric': None}\n",
      "{'vision': None, 'touch': None, 'proprioception': array([ 0.00386141,  0.        , -0.70614326,  1.2123952 ], dtype=float32), 'goal': None, 'asymmetric': None}\n",
      "{'vision': None, 'touch': None, 'proprioception': array([ 0.0035732 ,  0.        , -0.63165194, -0.22344448], dtype=float32), 'goal': None, 'asymmetric': None}\n",
      "{'vision': None, 'touch': None, 'proprioception': array([ 0.00334076,  0.        , -0.57665205,  1.1336708 ], dtype=float32), 'goal': None, 'asymmetric': None}\n",
      "{'vision': None, 'touch': None, 'proprioception': array([ 0.00314814,  0.        , -0.53389937,  1.8705852 ], dtype=float32), 'goal': None, 'asymmetric': None}\n",
      "{'vision': None, 'touch': None, 'proprioception': array([0.00298511, 0.        , 1.526588  , 1.5273807 ], dtype=float32), 'goal': None, 'asymmetric': None}\n",
      "{'vision': None, 'touch': None, 'proprioception': array([0.00284478, 0.        , 2.356793  , 1.3227739 ], dtype=float32), 'goal': None, 'asymmetric': None}\n",
      "{'vision': None, 'touch': None, 'proprioception': array([0.00272233, 0.        , 2.4745488 , 1.1831377 ], dtype=float32), 'goal': None, 'asymmetric': None}\n",
      "{'vision': None, 'touch': None, 'proprioception': array([0.00261424, 0.        , 2.4251916 , 1.0800596 ], dtype=float32), 'goal': None, 'asymmetric': None}\n",
      "{'vision': None, 'touch': None, 'proprioception': array([0.0025179, 0.       , 1.9610702, 1.7537385], dtype=float32), 'goal': None, 'asymmetric': None}\n",
      "{'vision': None, 'touch': None, 'proprioception': array([0.00243132, 0.        , 1.6902475 , 2.119971  ], dtype=float32), 'goal': None, 'asymmetric': None}\n",
      "{'vision': None, 'touch': None, 'proprioception': array([0.00235296, 0.        , 1.9457033 , 1.8136756 ], dtype=float32), 'goal': None, 'asymmetric': None}\n",
      "{'vision': None, 'touch': None, 'proprioception': array([0.00228158, 0.        , 1.7070802 , 1.0362613 ], dtype=float32), 'goal': None, 'asymmetric': None}\n",
      "{'vision': None, 'touch': None, 'proprioception': array([0.00221621, 0.        , 1.5390716 , 0.97830623], dtype=float32), 'goal': None, 'asymmetric': None}\n",
      "{'vision': None, 'touch': None, 'proprioception': array([0.00215604, 0.        , 0.980486  , 0.9291004 ], dtype=float32), 'goal': None, 'asymmetric': None}\n",
      "{'vision': None, 'touch': None, 'proprioception': array([0.00210042, 0.        , 1.3727902 , 0.88664305], dtype=float32), 'goal': None, 'asymmetric': None}\n",
      "{'vision': None, 'touch': None, 'proprioception': array([0.0020488, 0.       , 1.2833588, 0.8495203], dtype=float32), 'goal': None, 'asymmetric': None}\n",
      "{'vision': None, 'touch': None, 'proprioception': array([0.00200071, 0.        , 1.2093995 , 0.8167013 ], dtype=float32), 'goal': None, 'asymmetric': None}\n",
      "{'vision': None, 'touch': None, 'proprioception': array([0.00195578, 0.        , 1.1469103 , 0.09584643], dtype=float32), 'goal': None, 'asymmetric': None}\n",
      "{'vision': None, 'touch': None, 'proprioception': array([ 0.00191366,  0.        ,  1.0932035 , -0.6201317 ], dtype=float32), 'goal': None, 'asymmetric': None}\n",
      "{'vision': None, 'touch': None, 'proprioception': array([ 0.00187408,  0.        ,  0.60735095, -0.6029825 ], dtype=float32), 'goal': None, 'asymmetric': None}\n",
      "{'vision': None, 'touch': None, 'proprioception': array([ 0.0018368,  0.       ,  0.5913763, -1.2856538], dtype=float32), 'goal': None, 'asymmetric': None}\n",
      "{'vision': None, 'touch': None, 'proprioception': array([ 1.8015819e-03,  0.0000000e+00,  5.7659936e-01, -1.8542809e+00],\n",
      "      dtype=float32), 'goal': None, 'asymmetric': None}\n",
      "{'vision': None, 'touch': None, 'proprioception': array([ 1.7682577e-03,  0.0000000e+00,  5.6287748e-01, -2.2625480e+00],\n",
      "      dtype=float32), 'goal': None, 'asymmetric': None}\n",
      "{'vision': None, 'touch': None, 'proprioception': array([ 0.00173666,  0.        ,  0.55009085, -1.5209795 ], dtype=float32), 'goal': None, 'asymmetric': None}\n",
      "{'vision': None, 'touch': None, 'proprioception': array([ 0.00170664,  0.        ,  0.5381378 , -0.8645208 ], dtype=float32), 'goal': None, 'asymmetric': None}\n",
      "{'vision': None, 'touch': None, 'proprioception': array([ 0.00167807,  0.        ,  0.03309839, -0.8403923 ], dtype=float32), 'goal': None, 'asymmetric': None}\n",
      "{'vision': None, 'touch': None, 'proprioception': array([ 0.00165085,  0.        , -0.47047928, -0.81817746], dtype=float32), 'goal': None, 'asymmetric': None}\n",
      "{'vision': None, 'touch': None, 'proprioception': array([ 0.00162485,  0.        , -0.46174997, -1.3905077 ], dtype=float32), 'goal': None, 'asymmetric': None}\n",
      "{'vision': None, 'touch': None, 'proprioception': array([ 0.00160001,  0.        , -0.45348918, -0.74430203], dtype=float32), 'goal': None, 'asymmetric': None}\n",
      "{'vision': None, 'touch': None, 'proprioception': array([ 0.00157622,  0.        , -0.44565648, -1.3218226 ], dtype=float32), 'goal': None, 'asymmetric': None}\n",
      "{'vision': None, 'touch': None, 'proprioception': array([ 0.00155342,  0.        ,  0.09091873, -1.2728136 ], dtype=float32), 'goal': None, 'asymmetric': None}\n",
      "{'vision': None, 'touch': None, 'proprioception': array([ 0.00153155,  0.        ,  0.08967167, -0.6410198 ], dtype=float32), 'goal': None, 'asymmetric': None}\n",
      "{'vision': None, 'touch': None, 'proprioception': array([ 0.00151053,  0.        , -0.4558105 , -0.6291368 ], dtype=float32), 'goal': None, 'asymmetric': None}\n",
      "{'vision': None, 'touch': None, 'proprioception': array([ 1.4903253e-03,  0.0000000e+00, -4.4873515e-01,  8.1713824e-06],\n",
      "      dtype=float32), 'goal': None, 'asymmetric': None}\n",
      "{'vision': None, 'touch': None, 'proprioception': array([ 0.00147087,  0.        , -0.44197938,  0.6261882 ], dtype=float32), 'goal': None, 'asymmetric': None}\n",
      "{'vision': None, 'touch': None, 'proprioception': array([ 0.00145212,  0.        , -0.9876029 ,  0.6155681 ], dtype=float32), 'goal': None, 'asymmetric': None}\n",
      "{'vision': None, 'touch': None, 'proprioception': array([ 0.00143404,  0.        , -0.9646384 , -0.03118088], dtype=float32), 'goal': None, 'asymmetric': None}\n",
      "{'vision': None, 'touch': None, 'proprioception': array([ 1.4165920e-03,  0.0000000e+00, -1.4773676e+00, -3.0815832e-02],\n",
      "      dtype=float32), 'goal': None, 'asymmetric': None}\n",
      "{'vision': None, 'touch': None, 'proprioception': array([ 1.3997310e-03,  0.0000000e+00, -1.4255537e+00, -6.8188041e-01],\n",
      "      dtype=float32), 'goal': None, 'asymmetric': None}\n",
      "{'vision': None, 'touch': None, 'proprioception': array([ 0.00138343,  0.        , -1.378835  , -0.01497619], dtype=float32), 'goal': None, 'asymmetric': None}\n",
      "{'vision': None, 'touch': None, 'proprioception': array([ 0.00136765,  0.        , -1.3364276 , -0.6782174 ], dtype=float32), 'goal': None, 'asymmetric': None}\n",
      "{'vision': None, 'touch': None, 'proprioception': array([ 1.3523805e-03,  0.0000000e+00, -1.7940843e+00, -6.6770416e-01],\n",
      "      dtype=float32), 'goal': None, 'asymmetric': None}\n",
      "{'vision': None, 'touch': None, 'proprioception': array([ 1.3375805e-03,  0.0000000e+00, -2.1806200e+00, -6.5766513e-01],\n",
      "      dtype=float32), 'goal': None, 'asymmetric': None}\n",
      "{'vision': None, 'touch': None, 'proprioception': array([ 1.3232301e-03,  0.0000000e+00, -2.0605862e+00,  2.8307941e-02],\n",
      "      dtype=float32), 'goal': None, 'asymmetric': None}\n",
      "{'vision': None, 'touch': None, 'proprioception': array([ 1.3093071e-03,  0.0000000e+00, -1.9584160e+00,  7.1073526e-01],\n",
      "      dtype=float32), 'goal': None, 'asymmetric': None}\n"
     ]
    }
   ],
   "execution_count": 7
  },
  {
   "metadata": {
    "jupyter": {
     "is_executing": true
    },
    "ExecuteTime": {
     "start_time": "2024-08-19T13:41:36.751365Z"
    }
   },
   "cell_type": "code",
   "source": [
    "model_builder = ap.models.get_model_builder(\"simple\", \"ffn\")\n",
    "agent = ap.Agent(model_builder, env)\n",
    "agent.drill(5, 10, 512)"
   ],
   "id": "7b5d3555d7bd2aed",
   "outputs": [
    {
     "name": "stdout",
     "output_type": "stream",
     "text": [
      "\n",
      "\n",
      "Drill started using 1 processes for 8 workers of which 1 are optimizers. Worker distribution: [8].\n",
      "IDs over Workers: [[0, 1, 2, 3, 4, 5, 6, 7]]\n",
      "IDs over Optimizers: [[0, 1, 2, 3, 4, 5, 6, 7]]\n",
      "Gathering cycle 0..."
     ]
    },
    {
     "name": "stderr",
     "output_type": "stream",
     "text": [
      "                                                                             \r"
     ]
    },
    {
     "name": "stdout",
     "output_type": "stream",
     "text": [
      "\u001B[92mBefore Training\u001B[0m; r: \u001B[91m-1665.67\u001B[0m; len: \u001B[94m  256.29\u001B[0m; n: \u001B[94m 24\u001B[0m; loss: [\u001B[94m  pi  \u001B[0m|\u001B[94m  v     \u001B[0m|\u001B[94m  ent \u001B[0m]; upd: \u001B[94m     0\u001B[0m; y.exp: \u001B[94m0.000\u001B[0m; ; time:  ; time left: \u001B[94munknown time\u001B[0m; took s [unknown time left]\n"
     ]
    },
    {
     "name": "stderr",
     "output_type": "stream",
     "text": [
      "                                                                \r"
     ]
    },
    {
     "name": "stdout",
     "output_type": "stream",
     "text": [
      "Gathering cycle 1..."
     ]
    },
    {
     "name": "stderr",
     "output_type": "stream",
     "text": [
      "                                                                             \r"
     ]
    },
    {
     "name": "stdout",
     "output_type": "stream",
     "text": [
      "\u001B[92mCycle     1/5\u001B[0m; r: \u001B[91m-1407.14\u001B[0m; len: \u001B[94m  256.00\u001B[0m; n: \u001B[94m  4\u001B[0m; loss: [\u001B[94m -0.03\u001B[0m|\u001B[94m    0.10\u001B[0m|\u001B[94m  1.37\u001B[0m]; upd: \u001B[94m   160\u001B[0m; ; time: [59.3|0.0|4.9] [92|0|8]; time left: \u001B[94m4.5mins\u001B[0m; took 66.86s [4.5mins left]\n"
     ]
    },
    {
     "name": "stderr",
     "output_type": "stream",
     "text": [
      "                                                                \r"
     ]
    },
    {
     "name": "stdout",
     "output_type": "stream",
     "text": [
      "Gathering cycle 2..."
     ]
    },
    {
     "name": "stderr",
     "output_type": "stream",
     "text": [
      "                                                                             \r"
     ]
    },
    {
     "name": "stdout",
     "output_type": "stream",
     "text": [
      "\u001B[92mCycle     2/5\u001B[0m; r: \u001B[91m -160.58\u001B[0m; len: \u001B[94m   55.33\u001B[0m; n: \u001B[94m  3\u001B[0m; loss: [\u001B[94m -0.01\u001B[0m|\u001B[94m    0.08\u001B[0m|\u001B[94m  1.32\u001B[0m]; upd: \u001B[94m   320\u001B[0m; ; time: [61.6|0.0|4.4] [93|0|7]; time left: \u001B[94m3.3mins\u001B[0m; took 63.74s [3.3mins left]\n"
     ]
    },
    {
     "name": "stderr",
     "output_type": "stream",
     "text": [
      "                                                                \r"
     ]
    },
    {
     "name": "stdout",
     "output_type": "stream",
     "text": [
      "Gathering cycle 3..."
     ]
    },
    {
     "name": "stderr",
     "output_type": "stream",
     "text": [
      "                                                                             \r"
     ]
    },
    {
     "name": "stdout",
     "output_type": "stream",
     "text": [
      "\u001B[92mCycle     3/5\u001B[0m; r: \u001B[91m  -18.06\u001B[0m; len: \u001B[94m   10.00\u001B[0m; n: \u001B[94m  1\u001B[0m; loss: [\u001B[94m -0.03\u001B[0m|\u001B[94m    0.05\u001B[0m|\u001B[94m  1.28\u001B[0m]; upd: \u001B[94m   480\u001B[0m; ; time: [59.0|0.0|4.1] [94|0|6]; time left: \u001B[94m2.2mins\u001B[0m; took 64.27s [2.2mins left]\n"
     ]
    },
    {
     "name": "stderr",
     "output_type": "stream",
     "text": [
      "                                                                \r"
     ]
    },
    {
     "name": "stdout",
     "output_type": "stream",
     "text": [
      "Gathering cycle 4..."
     ]
    },
    {
     "name": "stderr",
     "output_type": "stream",
     "text": [
      "                                                                             \r"
     ]
    }
   ],
   "execution_count": null
  },
  {
   "metadata": {},
   "cell_type": "code",
   "outputs": [],
   "execution_count": null,
   "source": "",
   "id": "71f3fbd5d1e8bb2b"
  }
 ],
 "metadata": {
  "kernelspec": {
   "display_name": "Python 3",
   "language": "python",
   "name": "python3"
  },
  "language_info": {
   "codemirror_mode": {
    "name": "ipython",
    "version": 2
   },
   "file_extension": ".py",
   "mimetype": "text/x-python",
   "name": "python",
   "nbconvert_exporter": "python",
   "pygments_lexer": "ipython2",
   "version": "2.7.6"
  }
 },
 "nbformat": 4,
 "nbformat_minor": 5
}

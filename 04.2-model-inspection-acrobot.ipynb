{
 "cells": [
  {
   "cell_type": "markdown",
   "metadata": {},
   "source": [
    "# 4. Model Inspection - Acrobot\n",
    "\n",
    "In this notebook we will have a look at loading models we previously trained, to then plot their learning curves, evaluate them, and render some episodes.\n",
    "\n",
    "We as always first import dependencies."
   ]
  },
  {
   "cell_type": "code",
   "execution_count": 1,
   "metadata": {},
   "outputs": [
    {
     "name": "stderr",
     "output_type": "stream",
     "text": [
      "BokehDeprecationWarning: HSL() was deprecated in Bokeh 2.3.1 and will be removed, use RGB() or named colors instead.\n",
      "BokehDeprecationWarning: HSL() was deprecated in Bokeh 2.3.1 and will be removed, use RGB() or named colors instead.\n",
      "BokehDeprecationWarning: HSL() was deprecated in Bokeh 2.3.1 and will be removed, use RGB() or named colors instead.\n",
      "BokehDeprecationWarning: HSL() was deprecated in Bokeh 2.3.1 and will be removed, use RGB() or named colors instead.\n",
      "BokehDeprecationWarning: HSL() was deprecated in Bokeh 2.3.1 and will be removed, use RGB() or named colors instead.\n",
      "BokehDeprecationWarning: HSL() was deprecated in Bokeh 2.3.1 and will be removed, use RGB() or named colors instead.\n",
      "BokehDeprecationWarning: HSL() was deprecated in Bokeh 2.3.1 and will be removed, use RGB() or named colors instead.\n",
      "BokehDeprecationWarning: HSL() was deprecated in Bokeh 2.3.1 and will be removed, use RGB() or named colors instead.\n",
      "BokehDeprecationWarning: HSL() was deprecated in Bokeh 2.3.1 and will be removed, use RGB() or named colors instead.\n",
      "BokehDeprecationWarning: HSL() was deprecated in Bokeh 2.3.1 and will be removed, use RGB() or named colors instead.\n"
     ]
    },
    {
     "data": {
      "text/html": [
       "\n",
       "    <div class=\"bk-root\">\n",
       "        <a href=\"https://bokeh.org\" target=\"_blank\" class=\"bk-logo bk-logo-small bk-logo-notebook\"></a>\n",
       "        <span id=\"1002\">Loading BokehJS ...</span>\n",
       "    </div>"
      ]
     },
     "metadata": {},
     "output_type": "display_data"
    },
    {
     "data": {
      "application/javascript": [
       "\n",
       "(function(root) {\n",
       "  function now() {\n",
       "    return new Date();\n",
       "  }\n",
       "\n",
       "  var force = true;\n",
       "\n",
       "  if (typeof root._bokeh_onload_callbacks === \"undefined\" || force === true) {\n",
       "    root._bokeh_onload_callbacks = [];\n",
       "    root._bokeh_is_loading = undefined;\n",
       "  }\n",
       "\n",
       "  var JS_MIME_TYPE = 'application/javascript';\n",
       "  var HTML_MIME_TYPE = 'text/html';\n",
       "  var EXEC_MIME_TYPE = 'application/vnd.bokehjs_exec.v0+json';\n",
       "  var CLASS_NAME = 'output_bokeh rendered_html';\n",
       "\n",
       "  /**\n",
       "   * Render data to the DOM node\n",
       "   */\n",
       "  function render(props, node) {\n",
       "    var script = document.createElement(\"script\");\n",
       "    node.appendChild(script);\n",
       "  }\n",
       "\n",
       "  /**\n",
       "   * Handle when an output is cleared or removed\n",
       "   */\n",
       "  function handleClearOutput(event, handle) {\n",
       "    var cell = handle.cell;\n",
       "\n",
       "    var id = cell.output_area._bokeh_element_id;\n",
       "    var server_id = cell.output_area._bokeh_server_id;\n",
       "    // Clean up Bokeh references\n",
       "    if (id != null && id in Bokeh.index) {\n",
       "      Bokeh.index[id].model.document.clear();\n",
       "      delete Bokeh.index[id];\n",
       "    }\n",
       "\n",
       "    if (server_id !== undefined) {\n",
       "      // Clean up Bokeh references\n",
       "      var cmd = \"from bokeh.io.state import curstate; print(curstate().uuid_to_server['\" + server_id + \"'].get_sessions()[0].document.roots[0]._id)\";\n",
       "      cell.notebook.kernel.execute(cmd, {\n",
       "        iopub: {\n",
       "          output: function(msg) {\n",
       "            var id = msg.content.text.trim();\n",
       "            if (id in Bokeh.index) {\n",
       "              Bokeh.index[id].model.document.clear();\n",
       "              delete Bokeh.index[id];\n",
       "            }\n",
       "          }\n",
       "        }\n",
       "      });\n",
       "      // Destroy server and session\n",
       "      var cmd = \"import bokeh.io.notebook as ion; ion.destroy_server('\" + server_id + \"')\";\n",
       "      cell.notebook.kernel.execute(cmd);\n",
       "    }\n",
       "  }\n",
       "\n",
       "  /**\n",
       "   * Handle when a new output is added\n",
       "   */\n",
       "  function handleAddOutput(event, handle) {\n",
       "    var output_area = handle.output_area;\n",
       "    var output = handle.output;\n",
       "\n",
       "    // limit handleAddOutput to display_data with EXEC_MIME_TYPE content only\n",
       "    if ((output.output_type != \"display_data\") || (!Object.prototype.hasOwnProperty.call(output.data, EXEC_MIME_TYPE))) {\n",
       "      return\n",
       "    }\n",
       "\n",
       "    var toinsert = output_area.element.find(\".\" + CLASS_NAME.split(' ')[0]);\n",
       "\n",
       "    if (output.metadata[EXEC_MIME_TYPE][\"id\"] !== undefined) {\n",
       "      toinsert[toinsert.length - 1].firstChild.textContent = output.data[JS_MIME_TYPE];\n",
       "      // store reference to embed id on output_area\n",
       "      output_area._bokeh_element_id = output.metadata[EXEC_MIME_TYPE][\"id\"];\n",
       "    }\n",
       "    if (output.metadata[EXEC_MIME_TYPE][\"server_id\"] !== undefined) {\n",
       "      var bk_div = document.createElement(\"div\");\n",
       "      bk_div.innerHTML = output.data[HTML_MIME_TYPE];\n",
       "      var script_attrs = bk_div.children[0].attributes;\n",
       "      for (var i = 0; i < script_attrs.length; i++) {\n",
       "        toinsert[toinsert.length - 1].firstChild.setAttribute(script_attrs[i].name, script_attrs[i].value);\n",
       "        toinsert[toinsert.length - 1].firstChild.textContent = bk_div.children[0].textContent\n",
       "      }\n",
       "      // store reference to server id on output_area\n",
       "      output_area._bokeh_server_id = output.metadata[EXEC_MIME_TYPE][\"server_id\"];\n",
       "    }\n",
       "  }\n",
       "\n",
       "  function register_renderer(events, OutputArea) {\n",
       "\n",
       "    function append_mime(data, metadata, element) {\n",
       "      // create a DOM node to render to\n",
       "      var toinsert = this.create_output_subarea(\n",
       "        metadata,\n",
       "        CLASS_NAME,\n",
       "        EXEC_MIME_TYPE\n",
       "      );\n",
       "      this.keyboard_manager.register_events(toinsert);\n",
       "      // Render to node\n",
       "      var props = {data: data, metadata: metadata[EXEC_MIME_TYPE]};\n",
       "      render(props, toinsert[toinsert.length - 1]);\n",
       "      element.append(toinsert);\n",
       "      return toinsert\n",
       "    }\n",
       "\n",
       "    /* Handle when an output is cleared or removed */\n",
       "    events.on('clear_output.CodeCell', handleClearOutput);\n",
       "    events.on('delete.Cell', handleClearOutput);\n",
       "\n",
       "    /* Handle when a new output is added */\n",
       "    events.on('output_added.OutputArea', handleAddOutput);\n",
       "\n",
       "    /**\n",
       "     * Register the mime type and append_mime function with output_area\n",
       "     */\n",
       "    OutputArea.prototype.register_mime_type(EXEC_MIME_TYPE, append_mime, {\n",
       "      /* Is output safe? */\n",
       "      safe: true,\n",
       "      /* Index of renderer in `output_area.display_order` */\n",
       "      index: 0\n",
       "    });\n",
       "  }\n",
       "\n",
       "  // register the mime type if in Jupyter Notebook environment and previously unregistered\n",
       "  if (root.Jupyter !== undefined) {\n",
       "    var events = require('base/js/events');\n",
       "    var OutputArea = require('notebook/js/outputarea').OutputArea;\n",
       "\n",
       "    if (OutputArea.prototype.mime_types().indexOf(EXEC_MIME_TYPE) == -1) {\n",
       "      register_renderer(events, OutputArea);\n",
       "    }\n",
       "  }\n",
       "\n",
       "  \n",
       "  if (typeof (root._bokeh_timeout) === \"undefined\" || force === true) {\n",
       "    root._bokeh_timeout = Date.now() + 5000;\n",
       "    root._bokeh_failed_load = false;\n",
       "  }\n",
       "\n",
       "  var NB_LOAD_WARNING = {'data': {'text/html':\n",
       "     \"<div style='background-color: #fdd'>\\n\"+\n",
       "     \"<p>\\n\"+\n",
       "     \"BokehJS does not appear to have successfully loaded. If loading BokehJS from CDN, this \\n\"+\n",
       "     \"may be due to a slow or bad network connection. Possible fixes:\\n\"+\n",
       "     \"</p>\\n\"+\n",
       "     \"<ul>\\n\"+\n",
       "     \"<li>re-rerun `output_notebook()` to attempt to load from CDN again, or</li>\\n\"+\n",
       "     \"<li>use INLINE resources instead, as so:</li>\\n\"+\n",
       "     \"</ul>\\n\"+\n",
       "     \"<code>\\n\"+\n",
       "     \"from bokeh.resources import INLINE\\n\"+\n",
       "     \"output_notebook(resources=INLINE)\\n\"+\n",
       "     \"</code>\\n\"+\n",
       "     \"</div>\"}};\n",
       "\n",
       "  function display_loaded() {\n",
       "    var el = document.getElementById(\"1002\");\n",
       "    if (el != null) {\n",
       "      el.textContent = \"BokehJS is loading...\";\n",
       "    }\n",
       "    if (root.Bokeh !== undefined) {\n",
       "      if (el != null) {\n",
       "        el.textContent = \"BokehJS \" + root.Bokeh.version + \" successfully loaded.\";\n",
       "      }\n",
       "    } else if (Date.now() < root._bokeh_timeout) {\n",
       "      setTimeout(display_loaded, 100)\n",
       "    }\n",
       "  }\n",
       "\n",
       "\n",
       "  function run_callbacks() {\n",
       "    try {\n",
       "      root._bokeh_onload_callbacks.forEach(function(callback) {\n",
       "        if (callback != null)\n",
       "          callback();\n",
       "      });\n",
       "    } finally {\n",
       "      delete root._bokeh_onload_callbacks\n",
       "    }\n",
       "    console.debug(\"Bokeh: all callbacks have finished\");\n",
       "  }\n",
       "\n",
       "  function load_libs(css_urls, js_urls, callback) {\n",
       "    if (css_urls == null) css_urls = [];\n",
       "    if (js_urls == null) js_urls = [];\n",
       "\n",
       "    root._bokeh_onload_callbacks.push(callback);\n",
       "    if (root._bokeh_is_loading > 0) {\n",
       "      console.debug(\"Bokeh: BokehJS is being loaded, scheduling callback at\", now());\n",
       "      return null;\n",
       "    }\n",
       "    if (js_urls == null || js_urls.length === 0) {\n",
       "      run_callbacks();\n",
       "      return null;\n",
       "    }\n",
       "    console.debug(\"Bokeh: BokehJS not loaded, scheduling load and callback at\", now());\n",
       "    root._bokeh_is_loading = css_urls.length + js_urls.length;\n",
       "\n",
       "    function on_load() {\n",
       "      root._bokeh_is_loading--;\n",
       "      if (root._bokeh_is_loading === 0) {\n",
       "        console.debug(\"Bokeh: all BokehJS libraries/stylesheets loaded\");\n",
       "        run_callbacks()\n",
       "      }\n",
       "    }\n",
       "\n",
       "    function on_error(url) {\n",
       "      console.error(\"failed to load \" + url);\n",
       "    }\n",
       "\n",
       "    for (let i = 0; i < css_urls.length; i++) {\n",
       "      const url = css_urls[i];\n",
       "      const element = document.createElement(\"link\");\n",
       "      element.onload = on_load;\n",
       "      element.onerror = on_error.bind(null, url);\n",
       "      element.rel = \"stylesheet\";\n",
       "      element.type = \"text/css\";\n",
       "      element.href = url;\n",
       "      console.debug(\"Bokeh: injecting link tag for BokehJS stylesheet: \", url);\n",
       "      document.body.appendChild(element);\n",
       "    }\n",
       "\n",
       "    const hashes = {\"https://cdn.bokeh.org/bokeh/release/bokeh-2.3.3.min.js\": \"dM3QQsP+wXdHg42wTqW85BjZQdLNNIXqlPw/BgKoExPmTG7ZLML4EGqLMfqHT6ON\", \"https://cdn.bokeh.org/bokeh/release/bokeh-tables-2.3.3.min.js\": \"8x57I4YuIfu8XyZfFo0XVr2WAT8EK4rh/uDe3wF7YuW2FNUSNEpJbsPaB1nJ2fz2\", \"https://cdn.bokeh.org/bokeh/release/bokeh-widgets-2.3.3.min.js\": \"3QTqdz9LyAm2i0sG5XTePsHec3UHWwVsrOL68SYRoAXsafvfAyqtQ+h440+qIBhS\"};\n",
       "\n",
       "    for (let i = 0; i < js_urls.length; i++) {\n",
       "      const url = js_urls[i];\n",
       "      const element = document.createElement('script');\n",
       "      element.onload = on_load;\n",
       "      element.onerror = on_error.bind(null, url);\n",
       "      element.async = false;\n",
       "      element.src = url;\n",
       "      if (url in hashes) {\n",
       "        element.crossOrigin = \"anonymous\";\n",
       "        element.integrity = \"sha384-\" + hashes[url];\n",
       "      }\n",
       "      console.debug(\"Bokeh: injecting script tag for BokehJS library: \", url);\n",
       "      document.head.appendChild(element);\n",
       "    }\n",
       "  };\n",
       "\n",
       "  function inject_raw_css(css) {\n",
       "    const element = document.createElement(\"style\");\n",
       "    element.appendChild(document.createTextNode(css));\n",
       "    document.body.appendChild(element);\n",
       "  }\n",
       "\n",
       "  \n",
       "  var js_urls = [\"https://cdn.bokeh.org/bokeh/release/bokeh-2.3.3.min.js\", \"https://cdn.bokeh.org/bokeh/release/bokeh-widgets-2.3.3.min.js\", \"https://cdn.bokeh.org/bokeh/release/bokeh-tables-2.3.3.min.js\"];\n",
       "  var css_urls = [];\n",
       "  \n",
       "\n",
       "  var inline_js = [\n",
       "    function(Bokeh) {\n",
       "      Bokeh.set_log_level(\"info\");\n",
       "    },\n",
       "    function(Bokeh) {\n",
       "    \n",
       "    \n",
       "    }\n",
       "  ];\n",
       "\n",
       "  function run_inline_js() {\n",
       "    \n",
       "    if (root.Bokeh !== undefined || force === true) {\n",
       "      \n",
       "    for (var i = 0; i < inline_js.length; i++) {\n",
       "      inline_js[i].call(root, root.Bokeh);\n",
       "    }\n",
       "    if (force === true) {\n",
       "        display_loaded();\n",
       "      }} else if (Date.now() < root._bokeh_timeout) {\n",
       "      setTimeout(run_inline_js, 100);\n",
       "    } else if (!root._bokeh_failed_load) {\n",
       "      console.log(\"Bokeh: BokehJS failed to load within specified timeout.\");\n",
       "      root._bokeh_failed_load = true;\n",
       "    } else if (force !== true) {\n",
       "      var cell = $(document.getElementById(\"1002\")).parents('.cell').data().cell;\n",
       "      cell.output_area.append_execute_result(NB_LOAD_WARNING)\n",
       "    }\n",
       "\n",
       "  }\n",
       "\n",
       "  if (root._bokeh_is_loading === 0) {\n",
       "    console.debug(\"Bokeh: BokehJS loaded, going straight to plotting\");\n",
       "    run_inline_js();\n",
       "  } else {\n",
       "    load_libs(css_urls, js_urls, function() {\n",
       "      console.debug(\"Bokeh: BokehJS plotting callback run at\", now());\n",
       "      run_inline_js();\n",
       "    });\n",
       "  }\n",
       "}(window));"
      ],
      "application/vnd.bokehjs_load.v0+json": "\n(function(root) {\n  function now() {\n    return new Date();\n  }\n\n  var force = true;\n\n  if (typeof root._bokeh_onload_callbacks === \"undefined\" || force === true) {\n    root._bokeh_onload_callbacks = [];\n    root._bokeh_is_loading = undefined;\n  }\n\n  \n\n  \n  if (typeof (root._bokeh_timeout) === \"undefined\" || force === true) {\n    root._bokeh_timeout = Date.now() + 5000;\n    root._bokeh_failed_load = false;\n  }\n\n  var NB_LOAD_WARNING = {'data': {'text/html':\n     \"<div style='background-color: #fdd'>\\n\"+\n     \"<p>\\n\"+\n     \"BokehJS does not appear to have successfully loaded. If loading BokehJS from CDN, this \\n\"+\n     \"may be due to a slow or bad network connection. Possible fixes:\\n\"+\n     \"</p>\\n\"+\n     \"<ul>\\n\"+\n     \"<li>re-rerun `output_notebook()` to attempt to load from CDN again, or</li>\\n\"+\n     \"<li>use INLINE resources instead, as so:</li>\\n\"+\n     \"</ul>\\n\"+\n     \"<code>\\n\"+\n     \"from bokeh.resources import INLINE\\n\"+\n     \"output_notebook(resources=INLINE)\\n\"+\n     \"</code>\\n\"+\n     \"</div>\"}};\n\n  function display_loaded() {\n    var el = document.getElementById(\"1002\");\n    if (el != null) {\n      el.textContent = \"BokehJS is loading...\";\n    }\n    if (root.Bokeh !== undefined) {\n      if (el != null) {\n        el.textContent = \"BokehJS \" + root.Bokeh.version + \" successfully loaded.\";\n      }\n    } else if (Date.now() < root._bokeh_timeout) {\n      setTimeout(display_loaded, 100)\n    }\n  }\n\n\n  function run_callbacks() {\n    try {\n      root._bokeh_onload_callbacks.forEach(function(callback) {\n        if (callback != null)\n          callback();\n      });\n    } finally {\n      delete root._bokeh_onload_callbacks\n    }\n    console.debug(\"Bokeh: all callbacks have finished\");\n  }\n\n  function load_libs(css_urls, js_urls, callback) {\n    if (css_urls == null) css_urls = [];\n    if (js_urls == null) js_urls = [];\n\n    root._bokeh_onload_callbacks.push(callback);\n    if (root._bokeh_is_loading > 0) {\n      console.debug(\"Bokeh: BokehJS is being loaded, scheduling callback at\", now());\n      return null;\n    }\n    if (js_urls == null || js_urls.length === 0) {\n      run_callbacks();\n      return null;\n    }\n    console.debug(\"Bokeh: BokehJS not loaded, scheduling load and callback at\", now());\n    root._bokeh_is_loading = css_urls.length + js_urls.length;\n\n    function on_load() {\n      root._bokeh_is_loading--;\n      if (root._bokeh_is_loading === 0) {\n        console.debug(\"Bokeh: all BokehJS libraries/stylesheets loaded\");\n        run_callbacks()\n      }\n    }\n\n    function on_error(url) {\n      console.error(\"failed to load \" + url);\n    }\n\n    for (let i = 0; i < css_urls.length; i++) {\n      const url = css_urls[i];\n      const element = document.createElement(\"link\");\n      element.onload = on_load;\n      element.onerror = on_error.bind(null, url);\n      element.rel = \"stylesheet\";\n      element.type = \"text/css\";\n      element.href = url;\n      console.debug(\"Bokeh: injecting link tag for BokehJS stylesheet: \", url);\n      document.body.appendChild(element);\n    }\n\n    const hashes = {\"https://cdn.bokeh.org/bokeh/release/bokeh-2.3.3.min.js\": \"dM3QQsP+wXdHg42wTqW85BjZQdLNNIXqlPw/BgKoExPmTG7ZLML4EGqLMfqHT6ON\", \"https://cdn.bokeh.org/bokeh/release/bokeh-tables-2.3.3.min.js\": \"8x57I4YuIfu8XyZfFo0XVr2WAT8EK4rh/uDe3wF7YuW2FNUSNEpJbsPaB1nJ2fz2\", \"https://cdn.bokeh.org/bokeh/release/bokeh-widgets-2.3.3.min.js\": \"3QTqdz9LyAm2i0sG5XTePsHec3UHWwVsrOL68SYRoAXsafvfAyqtQ+h440+qIBhS\"};\n\n    for (let i = 0; i < js_urls.length; i++) {\n      const url = js_urls[i];\n      const element = document.createElement('script');\n      element.onload = on_load;\n      element.onerror = on_error.bind(null, url);\n      element.async = false;\n      element.src = url;\n      if (url in hashes) {\n        element.crossOrigin = \"anonymous\";\n        element.integrity = \"sha384-\" + hashes[url];\n      }\n      console.debug(\"Bokeh: injecting script tag for BokehJS library: \", url);\n      document.head.appendChild(element);\n    }\n  };\n\n  function inject_raw_css(css) {\n    const element = document.createElement(\"style\");\n    element.appendChild(document.createTextNode(css));\n    document.body.appendChild(element);\n  }\n\n  \n  var js_urls = [\"https://cdn.bokeh.org/bokeh/release/bokeh-2.3.3.min.js\", \"https://cdn.bokeh.org/bokeh/release/bokeh-widgets-2.3.3.min.js\", \"https://cdn.bokeh.org/bokeh/release/bokeh-tables-2.3.3.min.js\"];\n  var css_urls = [];\n  \n\n  var inline_js = [\n    function(Bokeh) {\n      Bokeh.set_log_level(\"info\");\n    },\n    function(Bokeh) {\n    \n    \n    }\n  ];\n\n  function run_inline_js() {\n    \n    if (root.Bokeh !== undefined || force === true) {\n      \n    for (var i = 0; i < inline_js.length; i++) {\n      inline_js[i].call(root, root.Bokeh);\n    }\n    if (force === true) {\n        display_loaded();\n      }} else if (Date.now() < root._bokeh_timeout) {\n      setTimeout(run_inline_js, 100);\n    } else if (!root._bokeh_failed_load) {\n      console.log(\"Bokeh: BokehJS failed to load within specified timeout.\");\n      root._bokeh_failed_load = true;\n    } else if (force !== true) {\n      var cell = $(document.getElementById(\"1002\")).parents('.cell').data().cell;\n      cell.output_area.append_execute_result(NB_LOAD_WARNING)\n    }\n\n  }\n\n  if (root._bokeh_is_loading === 0) {\n    console.debug(\"Bokeh: BokehJS loaded, going straight to plotting\");\n    run_inline_js();\n  } else {\n    load_libs(css_urls, js_urls, function() {\n      console.debug(\"Bokeh: BokehJS plotting callback run at\", now());\n      run_inline_js();\n    });\n  }\n}(window));"
     },
     "metadata": {},
     "output_type": "display_data"
    }
   ],
   "source": [
    "import os\n",
    "os.environ[\"TF_CPP_MIN_LOG_LEVEL\"] = \"3\"\n",
    "\n",
    "import numpy as np\n",
    "from bokeh.io import output_notebook, show\n",
    "\n",
    "import angorapy as apy\n",
    "from angorapy.utilities.monitor import training_plots as plots\n",
    "output_notebook()"
   ]
  },
  {
   "cell_type": "markdown",
   "metadata": {},
   "source": [
    "Now lets load the agent. For this example we will use an agent trained on object manipulation using a biologically inspired architecture. The model is provided with the tutorial repository. However, you can also just use the ID of one of the agents you trained previously."
   ]
  },
  {
   "cell_type": "code",
   "execution_count": 5,
   "metadata": {},
   "outputs": [
    {
     "name": "stdout",
     "output_type": "stream",
     "text": [
      "Detected 0 GPU devices.\n",
      "Loading from iteration best.\n",
      "Detected 0 GPU devices.\n",
      "Using [StateNormalizationTransformer, RewardNormalizationTransformer] for preprocessing.\n",
      "An MPI Optimizer with 1 ranks has been created; the following ranks optimize: [0]\n",
      "An MPI Optimizer with 1 ranks has been created; the following ranks optimize: [0]\n",
      "Loaded optimizer.\n",
      "<AcrobotEnv<Acrobot-v1>>\n"
     ]
    }
   ],
   "source": [
    "agent = apy.Agent.from_agent_state(1679957450983296, from_iteration=\"best\")\n",
    "print(agent.env.unwrapped)"
   ]
  },
  {
   "cell_type": "markdown",
   "metadata": {},
   "source": [
    "Additionally, we will now construct an `Investigator` encapsulating the agent. It provides us with a bunch of functions to inspect our agent."
   ]
  },
  {
   "cell_type": "code",
   "execution_count": 6,
   "metadata": {},
   "outputs": [],
   "source": [
    "investigator = apy.Investigator.from_agent(agent)"
   ]
  },
  {
   "cell_type": "markdown",
   "metadata": {},
   "source": [
    "## Learning Curves & Statistics\n",
    "First things first, let us see how training of this agent went. We can easily plot the reward over training cycles, as follows"
   ]
  },
  {
   "cell_type": "code",
   "execution_count": 7,
   "metadata": {},
   "outputs": [
    {
     "data": {
      "text/html": [
       "\n",
       "\n",
       "\n",
       "\n",
       "\n",
       "\n",
       "  <div class=\"bk-root\" id=\"76fbfcb7-94c2-4330-83de-e2a23ed24d08\" data-root-id=\"1004\"></div>\n"
      ]
     },
     "metadata": {},
     "output_type": "display_data"
    },
    {
     "data": {
      "application/javascript": [
       "(function(root) {\n",
       "  function embed_document(root) {\n",
       "    \n",
       "  var docs_json = {\"a967d250-d273-4846-a2c4-a2c79a9e9819\":{\"defs\":[],\"roots\":{\"references\":[{\"attributes\":{\"below\":[{\"id\":\"1015\"}],\"center\":[{\"id\":\"1018\"},{\"id\":\"1022\"},{\"id\":\"1032\"},{\"id\":\"1051\"},{\"id\":\"1054\"},{\"id\":\"1056\"}],\"height\":500,\"left\":[{\"id\":\"1019\"}],\"outline_line_color\":null,\"renderers\":[{\"id\":\"1032\"},{\"id\":\"1037\"}],\"sizing_mode\":\"stretch_width\",\"title\":{\"id\":\"1005\"},\"toolbar\":{\"id\":\"1023\"},\"toolbar_location\":\"above\",\"x_range\":{\"id\":\"1007\"},\"x_scale\":{\"id\":\"1011\"},\"y_range\":{\"id\":\"1009\"},\"y_scale\":{\"id\":\"1013\"}},\"id\":\"1004\",\"subtype\":\"Figure\",\"type\":\"Plot\"},{\"attributes\":{},\"id\":\"1042\",\"type\":\"BasicTickFormatter\"},{\"attributes\":{},\"id\":\"1071\",\"type\":\"UnionRenderers\"},{\"attributes\":{},\"id\":\"1072\",\"type\":\"Selection\"},{\"attributes\":{\"source\":{\"id\":\"1034\"}},\"id\":\"1038\",\"type\":\"CDSView\"},{\"attributes\":{},\"id\":\"1046\",\"type\":\"UnionRenderers\"},{\"attributes\":{},\"id\":\"1013\",\"type\":\"LinearScale\"},{\"attributes\":{},\"id\":\"1047\",\"type\":\"Selection\"},{\"attributes\":{\"data\":{\"x\":[0,1,2,3,4,5,6,7,8,9,10,11,12,13,14,15,16,17,18,19,20,21,22,23,24,25,26,27,28,29,30,31,32,33,34,35,36,37,38,39,40,41,42,43,44,45,46,47,48,49,50,51,52,53,54,55,56,57,58,59,60,61,62,63,64,65,66,67,68,69,70,71,72,73,74,75,76,77,78,79,80,81,82,83,84,85,86,87,88,89,90,91,92,93,94,95,96,97,98],\"y\":{\"__ndarray__\":\"AAAAAAA2f8AAAAAAgOd+wAAAAAAA1HvAeDkFL6fwcsAAAAAAAOBswFVVVVVVhWjArn7QUYHvY8AAAAAAALBhwL/v+77vG1/AorE+NNbHWsCx9W3AUE1awIElvfxpC1nAjDHGGGNMWcCF5AJeb6NWwNVpcpB5aVbAR975W5yWV8BrypqypnxWwJFcwOttNFbAq6qqqqqqVcD1N+h2rRxVwMlKVrKSlVXA0Z9kLKrhVsDjaY+rgKBUwNGcNSietlTApl/6pV/aVcAbBKcyYRtVwNXf523SnVTAz+215BAXVMAAAAAAAEBUwAUk/ORC1FPAVkAwJFvEVMAi07DdLG9UwBSuR+F63FPAnYKXU/AyVMBvQ/I2JG9TwBWo9SsFClTAo50pvf6iU8CsaGdKr39TwBkZGRkZeVPAZPPd8KO6U8DZiZ3YiRVTwPZbbQxNF1PADs3n+uOlU8CF61G4Hr1TwEjhehSup1PATMxaKKCjU8BDrCiNj4xSwNjX19fXd1PAAqLz1T0SU8BkZGRkZERTwBkZGRkZiVPATXew32pDU8CIzlf3SCtTwE/sxE7sLFPAil8SIdXyUsBK/IwSPyNTwCd2Yid27lLADBaOzAn4UsCjND4ygZ5SwGoTUIp62VLAkgn0Tl2LUsApZn8+nIZSwOidupaDm1LAUhOMt7LPUsALze1UHt1SwLNfiBWlkVLALWoWNYtaUsDKEti0nwxSwKeu5eBmn1LAApv2kyUQUsCQ0TABGU1SwCPVeyhSfVLAZAK9U9dyUsBEaoLxVsZSwOJCzUkgDlLAuuiiiy4aUsDtL7W/1P5RwCivobyGglHAWPuGtW/oUcBr37D2DQtSwHBY+4a171HABeJCzUnAUcBJkiRJkrhRwPsdvTK231HAt23btm3NUcDbtm3btq1RwEN5DeU1dFHAvelNb3pTUcASlnsaYRlRwI3haEECalHAU1IdYgNfUcDFEB3uz05RwJQRcIoyAlHAnzEcLUiAUcBridzfWiJRwFpaWlpaulDAl8j9rSUyUcD5lm/5lu9QwG0Gpuscq1DA\",\"dtype\":\"float64\",\"order\":\"little\",\"shape\":[99]}},\"selected\":{\"id\":\"1049\"},\"selection_policy\":{\"id\":\"1048\"}},\"id\":\"1034\",\"type\":\"ColumnDataSource\"},{\"attributes\":{\"data_source\":{\"id\":\"1034\"},\"glyph\":{\"id\":\"1035\"},\"hover_glyph\":null,\"muted_glyph\":null,\"nonselection_glyph\":{\"id\":\"1036\"},\"view\":{\"id\":\"1038\"}},\"id\":\"1037\",\"type\":\"GlyphRenderer\"},{\"attributes\":{\"base\":{\"field\":\"x\"},\"fill_alpha\":0.2,\"fill_color\":\"rgb(76, 114, 176)\",\"line_alpha\":0.4,\"line_color\":\"rgb(76, 114, 176)\",\"lower\":{\"field\":\"lower\"},\"source\":{\"id\":\"1031\"},\"upper\":{\"field\":\"upper\"}},\"id\":\"1032\",\"type\":\"Band\"},{\"attributes\":{\"axis\":{\"id\":\"1015\"},\"ticker\":null,\"visible\":false},\"id\":\"1018\",\"type\":\"Grid\"},{\"attributes\":{},\"id\":\"1011\",\"type\":\"LinearScale\"},{\"attributes\":{},\"id\":\"1048\",\"type\":\"UnionRenderers\"},{\"attributes\":{\"axis_label\":\"Cycle\",\"axis_label_text_font\":\"times\",\"axis_label_text_font_size\":\"12pt\",\"axis_label_text_font_style\":\"bold\",\"formatter\":{\"id\":\"1042\"},\"major_label_policy\":{\"id\":\"1040\"},\"ticker\":{\"id\":\"1016\"}},\"id\":\"1015\",\"type\":\"LinearAxis\"},{\"attributes\":{},\"id\":\"1049\",\"type\":\"Selection\"},{\"attributes\":{},\"id\":\"1040\",\"type\":\"AllLabels\"},{\"attributes\":{\"active_multi\":null,\"logo\":null,\"tools\":[{\"id\":\"1003\"},{\"id\":\"1025\"},{\"id\":\"1027\"},{\"id\":\"1029\"}]},\"id\":\"1023\",\"type\":\"Toolbar\"},{\"attributes\":{\"end\":98},\"id\":\"1007\",\"type\":\"Range1d\"},{\"attributes\":{\"overlay\":{\"id\":\"1050\"}},\"id\":\"1025\",\"type\":\"BoxZoomTool\"},{\"attributes\":{\"align\":\"center\",\"text\":\"Average Rewards per Cycle\",\"text_font\":\"Fira Sans\",\"text_font_size\":\"14pt\"},\"id\":\"1005\",\"type\":\"Title\"},{\"attributes\":{},\"id\":\"1027\",\"type\":\"ResetTool\"},{\"attributes\":{},\"id\":\"1043\",\"type\":\"AllLabels\"},{\"attributes\":{\"end\":22.195361975900013,\"start\":-500.08210678118655},\"id\":\"1009\",\"type\":\"Range1d\"},{\"attributes\":{\"data\":{\"index\":[0,1,2,3,4,5,6,7,8,9,10,11,12,13,14,15,16,17,18,19,20,21,22,23,24,25,26,27,28,29,30,31,32,33,34,35,36,37,38,39,40,41,42,43,44,45,46,47,48,49,50,51,52,53,54,55,56,57,58,59,60,61,62,63,64,65,66,67,68,69,70,71,72,73,74,75,76,77,78,79,80,81,82,83,84,85,86,87,88,89,90,91,92,93,94,95,96,97,98],\"level_0\":[0,1,2,3,4,5,6,7,8,9,10,11,12,13,14,15,16,17,18,19,20,21,22,23,24,25,26,27,28,29,30,31,32,33,34,35,36,37,38,39,40,41,42,43,44,45,46,47,48,49,50,51,52,53,54,55,56,57,58,59,60,61,62,63,64,65,66,67,68,69,70,71,72,73,74,75,76,77,78,79,80,81,82,83,84,85,86,87,88,89,90,91,92,93,94,95,96,97,98],\"lower\":{\"__ndarray__\":\"nj8zT1BBf8BQihG/VS5/wJOW3L6uvHzAh9ZRG5YAdMBiT6MXEZNuwB75gzIqPGrAh3B++lq8ZMByET9q3OFiwJo87NqZgmDADwpxGeFEXMBWgsCCDbRcwOQEcth8aFvAJl+8K5YWXMDxQzXNjPtXwGyKWV9jYVfAMbNjvUY0WsCf+mfIGJ5YwB7eBVlwpVfA3/vkMuptV8BTNqLS9DFWwF0N7uivZFfAK+cqC+lZWcA8RieJ0GRVwCeYx6qfF1bADLNmG4vUV8A39HJBcItWwEqR4ou2elXA3EZ9xxP+VMAdjgOHNAlVwPr4ucM+oVTAJ40t50HIVcAhUZbFZ3xVwH356+wDvVTA4ms4cHAcVcBcUttLcgtUwI/MkIFe/VTAQk/QpQ2AVMBvGVyQKCVUwAv6lysoPlTAKmGTuQhnVMBm1C/PacJTwGnChgTtrlPAcrSpBnhlVMDgxrADu3dUwF7xPP8vmFTA9Z+tzeJxVMC9vQ2GfilTwPDHGsUfOlTAXAsAzbPMU8Cj34r1aelTwARi+j30W1TABlnefpBGVMCIZxtMV/JTwLRA+Vuc1VPAksFt8SOeU8A36fTOpuFTwJZt2OK/ulPAHBbrScucU8D6GsLURWlTwIoSb0L7tlPA3QbRgNQoU8Bz02DIGRpTwIzjgkihTVPAFb+jNWyIU8CE/ErH7ppTwHsTDTS2WVPAK3sIBHf4UsANYnNF8Z9SwHhKnCDeRVPARIfUAVOrUsB00LgVLPxSwDZi3llMPVPAh8tGDnUtU8B7bpR/1cVTwDFfyUP5tFLAvrEbhPa9UsDBjHQluqpSwJY051SQElLAzuhYA8aGUsBhbYF6obFSwEkaAmUdl1LAw23vWwhgUsApbsFCAlxSwD2EniYGe1LApwjscPBzUsBroxSOKVFSwKkEQewlElLAKHUgF+PXUcAC/DX0GJ1RwNy4nDgh+lHAvkZzrXQDUsD8hiaJSdZRwDuFwm/qgFHAosWtOHswUsClOs2DCadRwLSTVLrDLFHAMii1xvK/UcBLm4bf6G9RwKQrGPrEH1HA\",\"dtype\":\"float64\",\"order\":\"little\",\"shape\":[99]},\"upper\":{\"__ndarray__\":\"YsDMsK8qf8Cwde5AqqB+wG1pI0FR63rAaZy4QrjgccCesFzo7ixrwIyxJniAzmbA1YwiqaciY8CO7sCVI35gwElmH8irMl3ANVkMT8tKWcAMaRv+k+ZXwB5GCCFXrlbA8gPQBTCCVsAZhdDuUUtVwD5Ji8GPcVXAXQmQ+vH4VMA3ms2cNFtUwATben5rw1TAd1lwImvnU8CXOS4bZgdUwDWIvnt1xlPAd1ieTWtpVMCKjffNMNxTwHuho6WcVVPAQAyOMDTgU8D/E9sjUqtTwGAu7U/uwFPAwpTuAQ4wU8Djcfx4y3ZTwBBPPgZHB1PAhfMyYXTAU8AjVcv18WFTwKtio9Xx+1LAWJn2NnBJU8CCNAki1tJSwJuDWtarFlPABOyC1O/FUsDpt3IENtpSwCc4mgYKtFLAnoUoKD8OU8BMPwviqWhSwIP1UxStf1LAquUl70/mUsAqEPNsggJTwDLRuCkst1LAo/gHg13VUsDJmkOUoO9RwMDnlOqPtVLAqDjn3sdXUsAl6T3TXp9SwC7QN/Q9tlLAlJWCQEVAUsCINZSiOmRSwOqXkEE8hFLAgv22UIZHUsBdDyVW12RSwLh+7GssIlLA/BUxT0hTUsBMTrqPvNNRwEoUMdL5+1HARwwXHebtUcDf+J20HvNRwERY8uRl6VHAj2d0OfkWUsCSnZDiTR9SwOurA/eTyVHAL1kkZp+8UcCHwzwkTnlRwNYSL6Hv+FHAwK4YJvh0UcCs0qjsBZ5RwBBIGfdXvVHAQTkzmTm4UcANZnBj2MZRwJMm0U9HZ1HAth8qk2Z2UcAZ0/VZ71JRwLopXCR98lDA4g21ZxlKUcB1UeByemRRwJeW9KhNSFHAR1aWPosgUcBptodPIhVRwLm32z5mRFHAx9LK/OomUcBLysYoRApRwN3t2d1F1lDAUl57xxHPUMAiMMFAqZVQwD4KNUrj2VDA6F3HFpK6UMCOmhNTVsdQwO2dHaV6g1DAnJ2KIRXQUMAx2Os7rJ1QwAAhYPrwR1DA/GhGlVikUMCnklgTRW9QwDbhM910NlDA\",\"dtype\":\"float64\",\"order\":\"little\",\"shape\":[99]},\"x\":[0,1,2,3,4,5,6,7,8,9,10,11,12,13,14,15,16,17,18,19,20,21,22,23,24,25,26,27,28,29,30,31,32,33,34,35,36,37,38,39,40,41,42,43,44,45,46,47,48,49,50,51,52,53,54,55,56,57,58,59,60,61,62,63,64,65,66,67,68,69,70,71,72,73,74,75,76,77,78,79,80,81,82,83,84,85,86,87,88,89,90,91,92,93,94,95,96,97,98],\"y\":{\"__ndarray__\":\"AAAAAAA2f8AAAAAAgOd+wAAAAAAA1HvAeDkFL6fwcsAAAAAAAOBswFVVVVVVhWjArn7QUYHvY8AAAAAAALBhwL/v+77vG1/AorE+NNbHWsCx9W3AUE1awIElvfxpC1nAjDHGGGNMWcCF5AJeb6NWwNVpcpB5aVbAR975W5yWV8BrypqypnxWwJFcwOttNFbAq6qqqqqqVcD1N+h2rRxVwMlKVrKSlVXA0Z9kLKrhVsDjaY+rgKBUwNGcNSietlTApl/6pV/aVcAbBKcyYRtVwNXf523SnVTAz+215BAXVMAAAAAAAEBUwAUk/ORC1FPAVkAwJFvEVMAi07DdLG9UwBSuR+F63FPAnYKXU/AyVMBvQ/I2JG9TwBWo9SsFClTAo50pvf6iU8CsaGdKr39TwBkZGRkZeVPAZPPd8KO6U8DZiZ3YiRVTwPZbbQxNF1PADs3n+uOlU8CF61G4Hr1TwEjhehSup1PATMxaKKCjU8BDrCiNj4xSwNjX19fXd1PAAqLz1T0SU8BkZGRkZERTwBkZGRkZiVPATXew32pDU8CIzlf3SCtTwE/sxE7sLFPAil8SIdXyUsBK/IwSPyNTwCd2Yid27lLADBaOzAn4UsCjND4ygZ5SwGoTUIp62VLAkgn0Tl2LUsApZn8+nIZSwOidupaDm1LAUhOMt7LPUsALze1UHt1SwLNfiBWlkVLALWoWNYtaUsDKEti0nwxSwKeu5eBmn1LAApv2kyUQUsCQ0TABGU1SwCPVeyhSfVLAZAK9U9dyUsBEaoLxVsZSwOJCzUkgDlLAuuiiiy4aUsDtL7W/1P5RwCivobyGglHAWPuGtW/oUcBr37D2DQtSwHBY+4a171HABeJCzUnAUcBJkiRJkrhRwPsdvTK231HAt23btm3NUcDbtm3btq1RwEN5DeU1dFHAvelNb3pTUcASlnsaYRlRwI3haEECalHAU1IdYgNfUcDFEB3uz05RwJQRcIoyAlHAnzEcLUiAUcBridzfWiJRwFpaWlpaulDAl8j9rSUyUcD5lm/5lu9QwG0Gpuscq1DA\",\"dtype\":\"float64\",\"order\":\"little\",\"shape\":[99]}},\"selected\":{\"id\":\"1047\"},\"selection_policy\":{\"id\":\"1046\"}},\"id\":\"1031\",\"type\":\"ColumnDataSource\"},{\"attributes\":{\"axis_label\":\"Total Episode Return\",\"axis_label_text_font\":\"times\",\"axis_label_text_font_size\":\"12pt\",\"axis_label_text_font_style\":\"bold\",\"formatter\":{\"id\":\"1045\"},\"major_label_policy\":{\"id\":\"1043\"},\"ticker\":{\"id\":\"1020\"}},\"id\":\"1019\",\"type\":\"LinearAxis\"},{\"attributes\":{\"axis\":{\"id\":\"1019\"},\"dimension\":1,\"ticker\":null,\"visible\":false},\"id\":\"1022\",\"type\":\"Grid\"},{\"attributes\":{\"bottom_units\":\"screen\",\"fill_alpha\":0.5,\"fill_color\":\"lightgrey\",\"left_units\":\"screen\",\"level\":\"overlay\",\"line_alpha\":1.0,\"line_color\":\"black\",\"line_dash\":[4,4],\"line_width\":2,\"right_units\":\"screen\",\"syncable\":false,\"top_units\":\"screen\"},\"id\":\"1050\",\"type\":\"BoxAnnotation\"},{\"attributes\":{},\"id\":\"1045\",\"type\":\"BasicTickFormatter\"},{\"attributes\":{},\"id\":\"1020\",\"type\":\"BasicTicker\"},{\"attributes\":{\"end\":{\"id\":\"1053\"},\"line_color\":{\"value\":\"darkred\"},\"line_width\":{\"value\":2},\"source\":{\"id\":\"1059\"},\"start\":null,\"x_end\":{\"value\":98},\"x_start\":{\"value\":98},\"y_end\":{\"value\":-66.67364016736401},\"y_start\":{\"value\":-36.207454489867295}},\"id\":\"1054\",\"type\":\"Arrow\"},{\"attributes\":{},\"id\":\"1016\",\"type\":\"BasicTicker\"},{\"attributes\":{\"items\":[{\"id\":\"1052\"}],\"label_text_font\":\"times\",\"label_text_font_size\":\"12pt\",\"location\":\"bottom_right\"},\"id\":\"1051\",\"type\":\"Legend\"},{\"attributes\":{\"callback\":null,\"mode\":\"vline\",\"tooltips\":[[\"Cycle\",\"@x\"],[\"Reward\",\"@y\"]]},\"id\":\"1003\",\"type\":\"HoverTool\"},{\"attributes\":{},\"id\":\"1029\",\"type\":\"SaveTool\"},{\"attributes\":{\"line_color\":\"rgb(76, 114, 176)\",\"line_width\":2,\"x\":{\"field\":\"x\"},\"y\":{\"field\":\"y\"}},\"id\":\"1035\",\"type\":\"Line\"},{\"attributes\":{\"label\":{\"value\":\"Reward\"},\"renderers\":[{\"id\":\"1037\"}]},\"id\":\"1052\",\"type\":\"LegendItem\"},{\"attributes\":{\"data\":{},\"selected\":{\"id\":\"1072\"},\"selection_policy\":{\"id\":\"1071\"}},\"id\":\"1059\",\"type\":\"ColumnDataSource\"},{\"attributes\":{\"fill_color\":{\"value\":\"red\"},\"line_color\":{\"value\":\"darkred\"},\"line_width\":{\"value\":2},\"size\":{\"value\":10}},\"id\":\"1053\",\"type\":\"NormalHead\"},{\"attributes\":{\"background_fill_color\":\"white\",\"border_line_alpha\":0,\"border_line_color\":\"black\",\"text\":\"-66.67364016736401\",\"text_align\":\"center\",\"text_color\":\"darkred\",\"text_font_size\":\"10pt\",\"text_line_height\":1.5,\"x\":98,\"y\":-34.03129837004611},\"id\":\"1056\",\"type\":\"Label\"},{\"attributes\":{\"line_alpha\":0.1,\"line_color\":\"rgb(76, 114, 176)\",\"line_width\":2,\"x\":{\"field\":\"x\"},\"y\":{\"field\":\"y\"}},\"id\":\"1036\",\"type\":\"Line\"}],\"root_ids\":[\"1004\"]},\"title\":\"Bokeh Application\",\"version\":\"2.3.3\"}};\n",
       "  var render_items = [{\"docid\":\"a967d250-d273-4846-a2c4-a2c79a9e9819\",\"root_ids\":[\"1004\"],\"roots\":{\"1004\":\"76fbfcb7-94c2-4330-83de-e2a23ed24d08\"}}];\n",
       "  root.Bokeh.embed.embed_items_notebook(docs_json, render_items);\n",
       "\n",
       "  }\n",
       "  if (root.Bokeh !== undefined) {\n",
       "    embed_document(root);\n",
       "  } else {\n",
       "    var attempts = 0;\n",
       "    var timer = setInterval(function(root) {\n",
       "      if (root.Bokeh !== undefined) {\n",
       "        clearInterval(timer);\n",
       "        embed_document(root);\n",
       "      } else {\n",
       "        attempts++;\n",
       "        if (attempts > 100) {\n",
       "          clearInterval(timer);\n",
       "          console.log(\"Bokeh: ERROR: Unable to run BokehJS code because BokehJS library is missing\");\n",
       "        }\n",
       "      }\n",
       "    }, 10, root)\n",
       "  }\n",
       "})(window);"
      ],
      "application/vnd.bokehjs_exec.v0+json": ""
     },
     "metadata": {
      "application/vnd.bokehjs_exec.v0+json": {
       "id": "1004"
      }
     },
     "output_type": "display_data"
    }
   ],
   "source": [
    "reward_plot = plots.plot_reward_progress({\"mean\": agent.cycle_reward_history, \"stdev\": agent.cycle_reward_std_history} , [])\n",
    "show(reward_plot)"
   ]
  },
  {
   "cell_type": "markdown",
   "metadata": {},
   "source": [
    "And the same we can do with the average episode length per cycle."
   ]
  },
  {
   "cell_type": "code",
   "execution_count": 8,
   "metadata": {},
   "outputs": [
    {
     "data": {
      "text/html": [
       "\n",
       "\n",
       "\n",
       "\n",
       "\n",
       "\n",
       "  <div class=\"bk-root\" id=\"3d93c00d-6635-452c-86e6-16ac01e714c5\" data-root-id=\"1149\"></div>\n"
      ]
     },
     "metadata": {},
     "output_type": "display_data"
    },
    {
     "data": {
      "application/javascript": [
       "(function(root) {\n",
       "  function embed_document(root) {\n",
       "    \n",
       "  var docs_json = {\"c491802b-bf48-47eb-9f38-b9c6b64326b6\":{\"defs\":[],\"roots\":{\"references\":[{\"attributes\":{\"below\":[{\"id\":\"1160\"}],\"center\":[{\"id\":\"1163\"},{\"id\":\"1167\"},{\"id\":\"1177\"},{\"id\":\"1196\"},{\"id\":\"1199\"},{\"id\":\"1201\"}],\"height\":500,\"left\":[{\"id\":\"1164\"}],\"outline_line_color\":null,\"renderers\":[{\"id\":\"1177\"},{\"id\":\"1182\"}],\"sizing_mode\":\"stretch_width\",\"title\":{\"id\":\"1150\"},\"toolbar\":{\"id\":\"1168\"},\"toolbar_location\":\"above\",\"x_range\":{\"id\":\"1152\"},\"x_scale\":{\"id\":\"1156\"},\"y_range\":{\"id\":\"1154\"},\"y_scale\":{\"id\":\"1158\"}},\"id\":\"1149\",\"subtype\":\"Figure\",\"type\":\"Plot\"},{\"attributes\":{},\"id\":\"1191\",\"type\":\"UnionRenderers\"},{\"attributes\":{},\"id\":\"1231\",\"type\":\"UnionRenderers\"},{\"attributes\":{},\"id\":\"1187\",\"type\":\"BasicTickFormatter\"},{\"attributes\":{\"axis\":{\"id\":\"1164\"},\"dimension\":1,\"ticker\":null,\"visible\":false},\"id\":\"1167\",\"type\":\"Grid\"},{\"attributes\":{\"active_multi\":null,\"logo\":null,\"tools\":[{\"id\":\"1148\"},{\"id\":\"1170\"},{\"id\":\"1172\"},{\"id\":\"1174\"}]},\"id\":\"1168\",\"type\":\"Toolbar\"},{\"attributes\":{},\"id\":\"1232\",\"type\":\"Selection\"},{\"attributes\":{},\"id\":\"1174\",\"type\":\"SaveTool\"},{\"attributes\":{},\"id\":\"1185\",\"type\":\"AllLabels\"},{\"attributes\":{\"axis_label\":\"Cycle\",\"axis_label_text_font\":\"times\",\"axis_label_text_font_size\":\"12pt\",\"axis_label_text_font_style\":\"bold\",\"formatter\":{\"id\":\"1187\"},\"major_label_policy\":{\"id\":\"1185\"},\"ticker\":{\"id\":\"1161\"}},\"id\":\"1160\",\"type\":\"LinearAxis\"},{\"attributes\":{},\"id\":\"1188\",\"type\":\"AllLabels\"},{\"attributes\":{\"base\":{\"field\":\"x\"},\"fill_alpha\":0.2,\"fill_color\":\"rgb(221, 132, 82)\",\"line_alpha\":0.4,\"line_color\":\"rgb(221, 132, 82)\",\"lower\":{\"field\":\"lower\"},\"source\":{\"id\":\"1176\"},\"upper\":{\"field\":\"upper\"}},\"id\":\"1177\",\"type\":\"Band\"},{\"attributes\":{\"label\":{\"value\":\"Episode Length (time steps)\"},\"renderers\":[{\"id\":\"1182\"}]},\"id\":\"1197\",\"type\":\"LegendItem\"},{\"attributes\":{},\"id\":\"1190\",\"type\":\"BasicTickFormatter\"},{\"attributes\":{},\"id\":\"1193\",\"type\":\"UnionRenderers\"},{\"attributes\":{\"items\":[{\"id\":\"1197\"}],\"label_text_font\":\"times\",\"label_text_font_size\":\"12pt\",\"location\":\"bottom_right\"},\"id\":\"1196\",\"type\":\"Legend\"},{\"attributes\":{\"axis_label\":\"Total Episode Return\",\"axis_label_text_font\":\"times\",\"axis_label_text_font_size\":\"12pt\",\"axis_label_text_font_style\":\"bold\",\"formatter\":{\"id\":\"1190\"},\"major_label_policy\":{\"id\":\"1188\"},\"ticker\":{\"id\":\"1165\"}},\"id\":\"1164\",\"type\":\"LinearAxis\"},{\"attributes\":{\"axis\":{\"id\":\"1160\"},\"ticker\":null,\"visible\":false},\"id\":\"1163\",\"type\":\"Grid\"},{\"attributes\":{\"data\":{\"index\":[0,1,2,3,4,5,6,7,8,9,10,11,12,13,14,15,16,17,18,19,20,21,22,23,24,25,26,27,28,29,30,31,32,33,34,35,36,37,38,39,40,41,42,43,44,45,46,47,48,49,50,51,52,53,54,55,56,57,58,59,60,61,62,63,64,65,66,67,68,69,70,71,72,73,74,75,76,77,78,79,80,81,82,83,84,85,86,87,88,89,90,91,92,93,94,95,96,97,98],\"level_0\":[0,1,2,3,4,5,6,7,8,9,10,11,12,13,14,15,16,17,18,19,20,21,22,23,24,25,26,27,28,29,30,31,32,33,34,35,36,37,38,39,40,41,42,43,44,45,46,47,48,49,50,51,52,53,54,55,56,57,58,59,60,61,62,63,64,65,66,67,68,69,70,71,72,73,74,75,76,77,78,79,80,81,82,83,84,85,86,87,88,89,90,91,92,93,94,95,96,97,98],\"lower\":{\"__ndarray__\":\"XVCPgcArf0D2AcIg6aJ+QCM5GgKP9HpAZNWHCmDwcUDMgGH4vUxrQM2Pddhq7mZA1YwiqadCY0DJZA7LSZ5gQElmH8ircl1ANVkMT8uKWUAiMEzp2yZYQPcBmlCg7lZADCjORl7CVkAZhdDuUYtVQD5Ji8GPsVVAjib9xF85VUC7RZymjZtUQATben5rA1VArrzXouQnVECXOS4bZkdUQJJwNgntBlRArK986eipVECKjffNMBxUQHuho6WclVNAalLi9pYgVED/E9sjUutTQGAu7U/uAFRAwpTuAQ5wU0Djcfx4y7ZTQBBPPgZHR1NAhfMyYXQAVEAjVcv18aFTQKtio9XxO1NAWJn2NnCJU0CCNAki1hJTQJuDWtarVlNABOyC1O8FU0Dpt3IENhpTQCc4mgYK9FJAnoUoKD9OU0BMPwviqahSQIP1UxStv1JAquUl708mU0AqEPNsgkJTQDLRuCks91JAo/gHg10VU0DJmkOUoC9SQMDnlOqP9VJAqDjn3seXUkAl6T3TXt9SQC7QN/Q99lJAlJWCQEWAUkCINZSiOqRSQOqXkEE8xFJAgv22UIaHUkBdDyVW16RSQLh+7GssYlJA/BUxT0iTUkBMTrqPvBNSQEoUMdL5O1JARwwXHeYtUkDf+J20HjNSQERY8uRlKVJAj2d0OflWUkCSnZDiTV9SQOurA/eTCVJAL1kkZp/8UUCHwzwkTrlRQNYSL6HvOFJAwK4YJvi0UUCs0qjsBd5RQBBIGfdX/VFAQTkzmTn4UUANZnBj2AZSQJMm0U9Hp1FAth8qk2a2UUAZ0/VZ75JRQLopXCR9MlFA4g21ZxmKUUB1UeByeqRRQJeW9KhNiFFAR1aWPotgUUBptodPIlVRQLm32z5mhFFAx9LK/OpmUUBLysYoREpRQN3t2d1FFlFAUl57xxEPUUAiMMFAqdVQQD4KNUrjGVFA6F3HFpL6UECOmhNTVgdRQO2dHaV6w1BAnJ2KIRUQUUAx2Os7rN1QQAAhYPrwh1BA/GhGlVjkUECnklgTRa9QQDbhM910dlBA\",\"dtype\":\"float64\",\"order\":\"little\",\"shape\":[99]},\"upper\":{\"__ndarray__\":\"o69wfj9Bf0AK/j3fFi9/QN3G5f1ww3xAnCp49Z8PdEByd3+LUbFuQMN287ebWmpAh3B++lrcZEAXTOhCIQFjQJo87NqZomBADwpxGeGEXEBuzC2s6fJcQDl9QPJip1tAjASxgpRVXEDxQzXNjDtYQGyKWV9joVdARIuXhFByWkAzQ587Ad1YQB7eBVlw5VdAHkYao72sV0BTNqLS9HFWQKREc0SAo1dA5gEsnfCXWUA8RieJ0KRVQCeYx6qfV1ZA1rjRSXQTWEA39HJBcMtWQEqR4ou2ulVA3EZ9xxM+VUAdjgOHNElVQPr4ucM+4VRAJ40t50EIVkAhUZbFZ7xVQH356+wD/VRA4ms4cHBcVUBcUttLcktUQI/MkIFePVVAQk/QpQ3AVEBvGVyQKGVUQAv6lysoflRAKmGTuQinVEBm1C/PaQJUQGnChgTt7lNAcrSpBnilVEDgxrADu7dUQF7xPP8v2FRA9Z+tzeKxVEC9vQ2GfmlTQPDHGsUfelRAXAsAzbMMVECj34r1aSlUQARi+j30m1RABlnefpCGVECIZxtMVzJUQLRA+VucFVRAksFt8SPeU0A36fTOpiFUQJZt2OK/+lNAHBbrScvcU0D6GsLURalTQIoSb0L79lNA3QbRgNRoU0Bz02DIGVpTQIzjgkihjVNAFb+jNWzIU0CE/ErH7tpTQHsTDTS2mVNAK3sIBHc4U0ANYnNF8d9SQHhKnCDehVNARIfUAVPrUkB00LgVLDxTQDZi3llMfVNAh8tGDnVtU0B7bpR/1QVUQDFfyUP59FJAvrEbhPb9UkDBjHQluupSQJY051SQUlJAzuhYA8bGUkBhbYF6ofFSQEkaAmUd11JAw23vWwigUkApbsFCApxSQD2EniYGu1JApwjscPCzUkBroxSOKZFSQKkEQewlUlJAKHUgF+MXUkAC/DX0GN1RQNy4nDghOlJAvkZzrXRDUkD8hiaJSRZSQDuFwm/qwFFAosWtOHtwUkClOs2DCedRQLSTVLrDbFFAMii1xvL/UUBLm4bf6K9RQKQrGPrEX1FA\",\"dtype\":\"float64\",\"order\":\"little\",\"shape\":[99]},\"x\":[0,1,2,3,4,5,6,7,8,9,10,11,12,13,14,15,16,17,18,19,20,21,22,23,24,25,26,27,28,29,30,31,32,33,34,35,36,37,38,39,40,41,42,43,44,45,46,47,48,49,50,51,52,53,54,55,56,57,58,59,60,61,62,63,64,65,66,67,68,69,70,71,72,73,74,75,76,77,78,79,80,81,82,83,84,85,86,87,88,89,90,91,92,93,94,95,96,97,98],\"y\":{\"__ndarray__\":\"AAAAAIA2f0AAAAAAAOl+QAAAAAAA3HtAAAAAAAAAc0AffPDBB/9sQEiDNEiDpGhArn7QUYEPZEBwWPuGtc9hQL/v+77vW19AorE+NNYHW0BI/rzK4oxaQJg/baEBS1lATJa/ZPmLWUCF5AJeb+NWQNVpcpB5qVZA6VjKJNjVV0B3xB1xR7xWQJFcwOttdFZAZgH5IlHqVUD1N+h2rVxVQJva1KY21VVAyVhUw+wgV0DjaY+rgOBUQNGcNSie9lRAoAVaoAUaVkAbBKcyYVtVQNXf523S3VRAz+215BBXVEAAAAAAAIBUQAUk/ORCFFRAVkAwJFsEVUAi07DdLK9UQBSuR+F6HFRAnYKXU/ByVEBvQ/I2JK9TQBWo9SsFSlRAo50pvf7iU0CsaGdKr79TQBkZGRkZuVNAZPPd8KP6U0DZiZ3YiVVTQPZbbQxNV1NADs3n+uPlU0CF61G4Hv1TQEjhehSu51NATMxaKKDjU0BDrCiNj8xSQNjX19fXt1NAAqLz1T1SU0BkZGRkZIRTQBkZGRkZyVNATXew32qDU0CIzlf3SGtTQE/sxE7sbFNAil8SIdUyU0BK/IwSP2NTQCd2Yid2LlNADBaOzAk4U0CjND4ygd5SQGoTUIp6GVNAkgn0Tl3LUkApZn8+nMZSQOidupaD21JAUhOMt7IPU0ALze1UHh1TQLNfiBWl0VJALWoWNYuaUkDKEti0n0xSQKeu5eBm31JAApv2kyVQUkCQ0TABGY1SQCPVeyhSvVJAZAK9U9eyUkBEaoLxVgZTQOJCzUkgTlJAuuiiiy5aUkDtL7W/1D5SQCivobyGwlFAWPuGtW8oUkBr37D2DUtSQHBY+4a1L1JABeJCzUkAUkBJkiRJkvhRQPsdvTK2H1JAt23btm0NUkDbtm3btu1RQEN5DeU1tFFAvelNb3qTUUASlnsaYVlRQI3haEECqlFAU1IdYgOfUUDFEB3uz45RQJQRcIoyQlFAnzEcLUjAUUBridzfWmJRQFpaWlpa+lBAl8j9rSVyUUD5lm/5li9RQG0Gpusc61BA\",\"dtype\":\"float64\",\"order\":\"little\",\"shape\":[99]}},\"selected\":{\"id\":\"1192\"},\"selection_policy\":{\"id\":\"1191\"}},\"id\":\"1176\",\"type\":\"ColumnDataSource\"},{\"attributes\":{\"bottom_units\":\"screen\",\"fill_alpha\":0.5,\"fill_color\":\"lightgrey\",\"left_units\":\"screen\",\"level\":\"overlay\",\"line_alpha\":1.0,\"line_color\":\"black\",\"line_dash\":[4,4],\"line_width\":2,\"right_units\":\"screen\",\"syncable\":false,\"top_units\":\"screen\"},\"id\":\"1195\",\"type\":\"BoxAnnotation\"},{\"attributes\":{\"line_color\":\"rgb(221, 132, 82)\",\"line_width\":2,\"x\":{\"field\":\"x\"},\"y\":{\"field\":\"y\"}},\"id\":\"1180\",\"type\":\"Line\"},{\"attributes\":{\"data\":{\"x\":[0,1,2,3,4,5,6,7,8,9,10,11,12,13,14,15,16,17,18,19,20,21,22,23,24,25,26,27,28,29,30,31,32,33,34,35,36,37,38,39,40,41,42,43,44,45,46,47,48,49,50,51,52,53,54,55,56,57,58,59,60,61,62,63,64,65,66,67,68,69,70,71,72,73,74,75,76,77,78,79,80,81,82,83,84,85,86,87,88,89,90,91,92,93,94,95,96,97,98],\"y\":{\"__ndarray__\":\"AAAAAIA2f0AAAAAAAOl+QAAAAAAA3HtAAAAAAAAAc0AffPDBB/9sQEiDNEiDpGhArn7QUYEPZEBwWPuGtc9hQL/v+77vW19AorE+NNYHW0BI/rzK4oxaQJg/baEBS1lATJa/ZPmLWUCF5AJeb+NWQNVpcpB5qVZA6VjKJNjVV0B3xB1xR7xWQJFcwOttdFZAZgH5IlHqVUD1N+h2rVxVQJva1KY21VVAyVhUw+wgV0DjaY+rgOBUQNGcNSie9lRAoAVaoAUaVkAbBKcyYVtVQNXf523S3VRAz+215BBXVEAAAAAAAIBUQAUk/ORCFFRAVkAwJFsEVUAi07DdLK9UQBSuR+F6HFRAnYKXU/ByVEBvQ/I2JK9TQBWo9SsFSlRAo50pvf7iU0CsaGdKr79TQBkZGRkZuVNAZPPd8KP6U0DZiZ3YiVVTQPZbbQxNV1NADs3n+uPlU0CF61G4Hv1TQEjhehSu51NATMxaKKDjU0BDrCiNj8xSQNjX19fXt1NAAqLz1T1SU0BkZGRkZIRTQBkZGRkZyVNATXew32qDU0CIzlf3SGtTQE/sxE7sbFNAil8SIdUyU0BK/IwSP2NTQCd2Yid2LlNADBaOzAk4U0CjND4ygd5SQGoTUIp6GVNAkgn0Tl3LUkApZn8+nMZSQOidupaD21JAUhOMt7IPU0ALze1UHh1TQLNfiBWl0VJALWoWNYuaUkDKEti0n0xSQKeu5eBm31JAApv2kyVQUkCQ0TABGY1SQCPVeyhSvVJAZAK9U9eyUkBEaoLxVgZTQOJCzUkgTlJAuuiiiy5aUkDtL7W/1D5SQCivobyGwlFAWPuGtW8oUkBr37D2DUtSQHBY+4a1L1JABeJCzUkAUkBJkiRJkvhRQPsdvTK2H1JAt23btm0NUkDbtm3btu1RQEN5DeU1tFFAvelNb3qTUUASlnsaYVlRQI3haEECqlFAU1IdYgOfUUDFEB3uz45RQJQRcIoyQlFAnzEcLUjAUUBridzfWmJRQFpaWlpa+lBAl8j9rSVyUUD5lm/5li9RQG0Gpusc61BA\",\"dtype\":\"float64\",\"order\":\"little\",\"shape\":[99]}},\"selected\":{\"id\":\"1194\"},\"selection_policy\":{\"id\":\"1193\"}},\"id\":\"1179\",\"type\":\"ColumnDataSource\"},{\"attributes\":{\"line_alpha\":0.1,\"line_color\":\"rgb(221, 132, 82)\",\"line_width\":2,\"x\":{\"field\":\"x\"},\"y\":{\"field\":\"y\"}},\"id\":\"1181\",\"type\":\"Line\"},{\"attributes\":{\"source\":{\"id\":\"1179\"}},\"id\":\"1183\",\"type\":\"CDSView\"},{\"attributes\":{\"end\":{\"id\":\"1198\"},\"line_color\":{\"value\":\"darkred\"},\"line_width\":{\"value\":2},\"source\":{\"id\":\"1219\"},\"start\":null,\"x_end\":{\"value\":0},\"x_start\":{\"value\":0},\"y_end\":{\"value\":499.40625},\"y_start\":{\"value\":542.828961862518}},\"id\":\"1199\",\"type\":\"Arrow\"},{\"attributes\":{\"data_source\":{\"id\":\"1179\"},\"glyph\":{\"id\":\"1180\"},\"hover_glyph\":null,\"muted_glyph\":null,\"nonselection_glyph\":{\"id\":\"1181\"},\"view\":{\"id\":\"1183\"}},\"id\":\"1182\",\"type\":\"GlyphRenderer\"},{\"attributes\":{\"overlay\":{\"id\":\"1195\"}},\"id\":\"1170\",\"type\":\"BoxZoomTool\"},{\"attributes\":{\"background_fill_color\":\"white\",\"border_line_color\":\"black\",\"text\":\"499.40625\",\"text_align\":\"center\",\"text_font_size\":\"10pt\",\"text_line_height\":1.5,\"x\":0,\"y\":542.828961862518},\"id\":\"1201\",\"type\":\"Label\"},{\"attributes\":{},\"id\":\"1158\",\"type\":\"LinearScale\"},{\"attributes\":{},\"id\":\"1194\",\"type\":\"Selection\"},{\"attributes\":{\"fill_color\":{\"value\":\"red\"},\"line_color\":{\"value\":\"darkred\"},\"line_width\":{\"value\":2},\"size\":{\"value\":15}},\"id\":\"1198\",\"type\":\"NormalHead\"},{\"attributes\":{},\"id\":\"1161\",\"type\":\"BasicTicker\"},{\"attributes\":{\"data\":{},\"selected\":{\"id\":\"1232\"},\"selection_policy\":{\"id\":\"1231\"}},\"id\":\"1219\",\"type\":\"ColumnDataSource\"},{\"attributes\":{\"end\":98},\"id\":\"1152\",\"type\":\"Range1d\"},{\"attributes\":{},\"id\":\"1165\",\"type\":\"BasicTicker\"},{\"attributes\":{\"callback\":null,\"mode\":\"vline\",\"tooltips\":[[\"Cycle\",\"@x\"],[\"Length\",\"@y\"]]},\"id\":\"1148\",\"type\":\"HoverTool\"},{\"attributes\":{\"align\":\"center\",\"text\":\"Average Length of Episodes\",\"text_font\":\"Fira Sans\",\"text_font_size\":\"14pt\"},\"id\":\"1150\",\"type\":\"Title\"},{\"attributes\":{},\"id\":\"1172\",\"type\":\"ResetTool\"},{\"attributes\":{},\"id\":\"1192\",\"type\":\"Selection\"},{\"attributes\":{\"end\":543.5007133046452,\"start\":65.85088281694775},\"id\":\"1154\",\"type\":\"Range1d\"},{\"attributes\":{},\"id\":\"1156\",\"type\":\"LinearScale\"}],\"root_ids\":[\"1149\"]},\"title\":\"Bokeh Application\",\"version\":\"2.3.3\"}};\n",
       "  var render_items = [{\"docid\":\"c491802b-bf48-47eb-9f38-b9c6b64326b6\",\"root_ids\":[\"1149\"],\"roots\":{\"1149\":\"3d93c00d-6635-452c-86e6-16ac01e714c5\"}}];\n",
       "  root.Bokeh.embed.embed_items_notebook(docs_json, render_items);\n",
       "\n",
       "  }\n",
       "  if (root.Bokeh !== undefined) {\n",
       "    embed_document(root);\n",
       "  } else {\n",
       "    var attempts = 0;\n",
       "    var timer = setInterval(function(root) {\n",
       "      if (root.Bokeh !== undefined) {\n",
       "        clearInterval(timer);\n",
       "        embed_document(root);\n",
       "      } else {\n",
       "        attempts++;\n",
       "        if (attempts > 100) {\n",
       "          clearInterval(timer);\n",
       "          console.log(\"Bokeh: ERROR: Unable to run BokehJS code because BokehJS library is missing\");\n",
       "        }\n",
       "      }\n",
       "    }, 10, root)\n",
       "  }\n",
       "})(window);"
      ],
      "application/vnd.bokehjs_exec.v0+json": ""
     },
     "metadata": {
      "application/vnd.bokehjs_exec.v0+json": {
       "id": "1149"
      }
     },
     "output_type": "display_data"
    }
   ],
   "source": [
    "length_plot = plots.plot_length_progress({\"mean\": agent.cycle_length_history, \"stdev\": agent.cycle_length_std_history}, [])\n",
    "show(length_plot)"
   ]
  },
  {
   "cell_type": "markdown",
   "metadata": {},
   "source": [
    "## Evaluation\n",
    "\n",
    "The above plots already show how performance progressed throughout training. Note, however, that AngoraPy trains agents with stochastic policies and, during training, encourages exploration. Thus, the above performance at every cycle is not entirely representative of the agents true potential. To evaluate its real performance, let us run 10 episodes without random exploration."
   ]
  },
  {
   "cell_type": "code",
   "execution_count": 9,
   "metadata": {},
   "outputs": [
    {
     "name": "stderr",
     "output_type": "stream",
     "text": [
      "100%|███████████████████████████████████████████| 10/10 [00:02<00:00,  4.76it/s]\n"
     ]
    },
    {
     "name": "stdout",
     "output_type": "stream",
     "text": [
      "Reward: -62.2 +/- 0.6\n"
     ]
    }
   ],
   "source": [
    "stats_eval = agent.evaluate(10, act_confidently=True)[0]\n",
    "\n",
    "print(f\"Reward: {np.mean(stats_eval.episode_rewards)} +/- {np.std(stats_eval.episode_rewards)}\")"
   ]
  },
  {
   "cell_type": "markdown",
   "metadata": {},
   "source": [
    "## Rendering\n",
    "Lastly, let us inspect qualitatively the behaviour of the agent, by rendering an episodes. The following renders directly in the jupyter notebook. If you are running the jupyter notebook locally or want to render in a script, call render_episode() instead of render_episode_jupyter() and set the render_mode of the environment to \"human\". This will then also look soooo much better. But people are obsessed with Jupyter notebooks, so here you go."
   ]
  },
  {
   "cell_type": "code",
   "execution_count": 10,
   "metadata": {},
   "outputs": [
    {
     "data": {
      "image/png": "[encoded data removed]",
      "text/plain": [
       "<Figure size 640x480 with 1 Axes>"
      ]
     },
     "metadata": {},
     "output_type": "display_data"
    }
   ],
   "source": [
    "env = apy.make_env(agent.env.spec.id, transformers=agent.env.transformers, render_mode=\"rgb_array\")\n",
    "investigator.render_episode_jupyter(env)"
   ]
  },
  {
   "cell_type": "markdown",
   "metadata": {},
   "source": [
    "To summarize, we have seen in this tutorial how we can\n",
    "- plot the performance of an agent\n",
    "- evaluate an agent\n",
    "- render an episode"
   ]
  },
  {
   "cell_type": "code",
   "execution_count": null,
   "metadata": {},
   "outputs": [],
   "source": []
  }
 ],
 "metadata": {
  "kernelspec": {
   "display_name": "Python 3 (ipykernel)",
   "language": "python",
   "name": "python3"
  },
  "language_info": {
   "codemirror_mode": {
    "name": "ipython",
    "version": 3
   },
   "file_extension": ".py",
   "mimetype": "text/x-python",
   "name": "python",
   "nbconvert_exporter": "python",
   "pygments_lexer": "ipython3",
   "version": "3.8.10"
  }
 },
 "nbformat": 4,
 "nbformat_minor": 1
}

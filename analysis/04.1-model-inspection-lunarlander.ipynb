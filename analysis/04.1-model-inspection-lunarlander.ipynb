{
 "cells": [
  {
   "cell_type": "markdown",
   "metadata": {},
   "source": [
    "# 4. Model Inspection - LunarLandar\n",
    "\n",
    "In this notebook we will have a look at loading models we previously trained, to then plot their learning curves, evaluate them, and render some episodes.\n",
    "\n",
    "We as always first import dependencies."
   ]
  },
  {
   "cell_type": "code",
   "execution_count": 1,
   "metadata": {},
   "outputs": [
    {
     "name": "stderr",
     "output_type": "stream",
     "text": [
      "BokehDeprecationWarning: HSL() was deprecated in Bokeh 2.3.1 and will be removed, use RGB() or named colors instead.\n",
      "BokehDeprecationWarning: HSL() was deprecated in Bokeh 2.3.1 and will be removed, use RGB() or named colors instead.\n",
      "BokehDeprecationWarning: HSL() was deprecated in Bokeh 2.3.1 and will be removed, use RGB() or named colors instead.\n",
      "BokehDeprecationWarning: HSL() was deprecated in Bokeh 2.3.1 and will be removed, use RGB() or named colors instead.\n",
      "BokehDeprecationWarning: HSL() was deprecated in Bokeh 2.3.1 and will be removed, use RGB() or named colors instead.\n",
      "BokehDeprecationWarning: HSL() was deprecated in Bokeh 2.3.1 and will be removed, use RGB() or named colors instead.\n",
      "BokehDeprecationWarning: HSL() was deprecated in Bokeh 2.3.1 and will be removed, use RGB() or named colors instead.\n",
      "BokehDeprecationWarning: HSL() was deprecated in Bokeh 2.3.1 and will be removed, use RGB() or named colors instead.\n",
      "BokehDeprecationWarning: HSL() was deprecated in Bokeh 2.3.1 and will be removed, use RGB() or named colors instead.\n",
      "BokehDeprecationWarning: HSL() was deprecated in Bokeh 2.3.1 and will be removed, use RGB() or named colors instead.\n"
     ]
    },
    {
     "data": {
      "text/html": [
       "\n",
       "    <div class=\"bk-root\">\n",
       "        <a href=\"https://bokeh.org\" target=\"_blank\" class=\"bk-logo bk-logo-small bk-logo-notebook\"></a>\n",
       "        <span id=\"1002\">Loading BokehJS ...</span>\n",
       "    </div>"
      ]
     },
     "metadata": {},
     "output_type": "display_data"
    },
    {
     "data": {
      "application/javascript": [
       "\n",
       "(function(root) {\n",
       "  function now() {\n",
       "    return new Date();\n",
       "  }\n",
       "\n",
       "  var force = true;\n",
       "\n",
       "  if (typeof root._bokeh_onload_callbacks === \"undefined\" || force === true) {\n",
       "    root._bokeh_onload_callbacks = [];\n",
       "    root._bokeh_is_loading = undefined;\n",
       "  }\n",
       "\n",
       "  var JS_MIME_TYPE = 'application/javascript';\n",
       "  var HTML_MIME_TYPE = 'text/html';\n",
       "  var EXEC_MIME_TYPE = 'application/vnd.bokehjs_exec.v0+json';\n",
       "  var CLASS_NAME = 'output_bokeh rendered_html';\n",
       "\n",
       "  /**\n",
       "   * Render data to the DOM node\n",
       "   */\n",
       "  function render(props, node) {\n",
       "    var script = document.createElement(\"script\");\n",
       "    node.appendChild(script);\n",
       "  }\n",
       "\n",
       "  /**\n",
       "   * Handle when an output is cleared or removed\n",
       "   */\n",
       "  function handleClearOutput(event, handle) {\n",
       "    var cell = handle.cell;\n",
       "\n",
       "    var id = cell.output_area._bokeh_element_id;\n",
       "    var server_id = cell.output_area._bokeh_server_id;\n",
       "    // Clean up Bokeh references\n",
       "    if (id != null && id in Bokeh.index) {\n",
       "      Bokeh.index[id].model.document.clear();\n",
       "      delete Bokeh.index[id];\n",
       "    }\n",
       "\n",
       "    if (server_id !== undefined) {\n",
       "      // Clean up Bokeh references\n",
       "      var cmd = \"from bokeh.io.state import curstate; print(curstate().uuid_to_server['\" + server_id + \"'].get_sessions()[0].document.roots[0]._id)\";\n",
       "      cell.notebook.kernel.execute(cmd, {\n",
       "        iopub: {\n",
       "          output: function(msg) {\n",
       "            var id = msg.content.text.trim();\n",
       "            if (id in Bokeh.index) {\n",
       "              Bokeh.index[id].model.document.clear();\n",
       "              delete Bokeh.index[id];\n",
       "            }\n",
       "          }\n",
       "        }\n",
       "      });\n",
       "      // Destroy server and session\n",
       "      var cmd = \"import bokeh.io.notebook as ion; ion.destroy_server('\" + server_id + \"')\";\n",
       "      cell.notebook.kernel.execute(cmd);\n",
       "    }\n",
       "  }\n",
       "\n",
       "  /**\n",
       "   * Handle when a new output is added\n",
       "   */\n",
       "  function handleAddOutput(event, handle) {\n",
       "    var output_area = handle.output_area;\n",
       "    var output = handle.output;\n",
       "\n",
       "    // limit handleAddOutput to display_data with EXEC_MIME_TYPE content only\n",
       "    if ((output.output_type != \"display_data\") || (!Object.prototype.hasOwnProperty.call(output.data, EXEC_MIME_TYPE))) {\n",
       "      return\n",
       "    }\n",
       "\n",
       "    var toinsert = output_area.element.find(\".\" + CLASS_NAME.split(' ')[0]);\n",
       "\n",
       "    if (output.metadata[EXEC_MIME_TYPE][\"id\"] !== undefined) {\n",
       "      toinsert[toinsert.length - 1].firstChild.textContent = output.data[JS_MIME_TYPE];\n",
       "      // store reference to embed id on output_area\n",
       "      output_area._bokeh_element_id = output.metadata[EXEC_MIME_TYPE][\"id\"];\n",
       "    }\n",
       "    if (output.metadata[EXEC_MIME_TYPE][\"server_id\"] !== undefined) {\n",
       "      var bk_div = document.createElement(\"div\");\n",
       "      bk_div.innerHTML = output.data[HTML_MIME_TYPE];\n",
       "      var script_attrs = bk_div.children[0].attributes;\n",
       "      for (var i = 0; i < script_attrs.length; i++) {\n",
       "        toinsert[toinsert.length - 1].firstChild.setAttribute(script_attrs[i].name, script_attrs[i].value);\n",
       "        toinsert[toinsert.length - 1].firstChild.textContent = bk_div.children[0].textContent\n",
       "      }\n",
       "      // store reference to server id on output_area\n",
       "      output_area._bokeh_server_id = output.metadata[EXEC_MIME_TYPE][\"server_id\"];\n",
       "    }\n",
       "  }\n",
       "\n",
       "  function register_renderer(events, OutputArea) {\n",
       "\n",
       "    function append_mime(data, metadata, element) {\n",
       "      // create a DOM node to render to\n",
       "      var toinsert = this.create_output_subarea(\n",
       "        metadata,\n",
       "        CLASS_NAME,\n",
       "        EXEC_MIME_TYPE\n",
       "      );\n",
       "      this.keyboard_manager.register_events(toinsert);\n",
       "      // Render to node\n",
       "      var props = {data: data, metadata: metadata[EXEC_MIME_TYPE]};\n",
       "      render(props, toinsert[toinsert.length - 1]);\n",
       "      element.append(toinsert);\n",
       "      return toinsert\n",
       "    }\n",
       "\n",
       "    /* Handle when an output is cleared or removed */\n",
       "    events.on('clear_output.CodeCell', handleClearOutput);\n",
       "    events.on('delete.Cell', handleClearOutput);\n",
       "\n",
       "    /* Handle when a new output is added */\n",
       "    events.on('output_added.OutputArea', handleAddOutput);\n",
       "\n",
       "    /**\n",
       "     * Register the mime type and append_mime function with output_area\n",
       "     */\n",
       "    OutputArea.prototype.register_mime_type(EXEC_MIME_TYPE, append_mime, {\n",
       "      /* Is output safe? */\n",
       "      safe: true,\n",
       "      /* Index of renderer in `output_area.display_order` */\n",
       "      index: 0\n",
       "    });\n",
       "  }\n",
       "\n",
       "  // register the mime type if in Jupyter Notebook environment and previously unregistered\n",
       "  if (root.Jupyter !== undefined) {\n",
       "    var events = require('base/js/events');\n",
       "    var OutputArea = require('notebook/js/outputarea').OutputArea;\n",
       "\n",
       "    if (OutputArea.prototype.mime_types().indexOf(EXEC_MIME_TYPE) == -1) {\n",
       "      register_renderer(events, OutputArea);\n",
       "    }\n",
       "  }\n",
       "\n",
       "  \n",
       "  if (typeof (root._bokeh_timeout) === \"undefined\" || force === true) {\n",
       "    root._bokeh_timeout = Date.now() + 5000;\n",
       "    root._bokeh_failed_load = false;\n",
       "  }\n",
       "\n",
       "  var NB_LOAD_WARNING = {'data': {'text/html':\n",
       "     \"<div style='background-color: #fdd'>\\n\"+\n",
       "     \"<p>\\n\"+\n",
       "     \"BokehJS does not appear to have successfully loaded. If loading BokehJS from CDN, this \\n\"+\n",
       "     \"may be due to a slow or bad network connection. Possible fixes:\\n\"+\n",
       "     \"</p>\\n\"+\n",
       "     \"<ul>\\n\"+\n",
       "     \"<li>re-rerun `output_notebook()` to attempt to load from CDN again, or</li>\\n\"+\n",
       "     \"<li>use INLINE resources instead, as so:</li>\\n\"+\n",
       "     \"</ul>\\n\"+\n",
       "     \"<code>\\n\"+\n",
       "     \"from bokeh.resources import INLINE\\n\"+\n",
       "     \"output_notebook(resources=INLINE)\\n\"+\n",
       "     \"</code>\\n\"+\n",
       "     \"</div>\"}};\n",
       "\n",
       "  function display_loaded() {\n",
       "    var el = document.getElementById(\"1002\");\n",
       "    if (el != null) {\n",
       "      el.textContent = \"BokehJS is loading...\";\n",
       "    }\n",
       "    if (root.Bokeh !== undefined) {\n",
       "      if (el != null) {\n",
       "        el.textContent = \"BokehJS \" + root.Bokeh.version + \" successfully loaded.\";\n",
       "      }\n",
       "    } else if (Date.now() < root._bokeh_timeout) {\n",
       "      setTimeout(display_loaded, 100)\n",
       "    }\n",
       "  }\n",
       "\n",
       "\n",
       "  function run_callbacks() {\n",
       "    try {\n",
       "      root._bokeh_onload_callbacks.forEach(function(callback) {\n",
       "        if (callback != null)\n",
       "          callback();\n",
       "      });\n",
       "    } finally {\n",
       "      delete root._bokeh_onload_callbacks\n",
       "    }\n",
       "    console.debug(\"Bokeh: all callbacks have finished\");\n",
       "  }\n",
       "\n",
       "  function load_libs(css_urls, js_urls, callback) {\n",
       "    if (css_urls == null) css_urls = [];\n",
       "    if (js_urls == null) js_urls = [];\n",
       "\n",
       "    root._bokeh_onload_callbacks.push(callback);\n",
       "    if (root._bokeh_is_loading > 0) {\n",
       "      console.debug(\"Bokeh: BokehJS is being loaded, scheduling callback at\", now());\n",
       "      return null;\n",
       "    }\n",
       "    if (js_urls == null || js_urls.length === 0) {\n",
       "      run_callbacks();\n",
       "      return null;\n",
       "    }\n",
       "    console.debug(\"Bokeh: BokehJS not loaded, scheduling load and callback at\", now());\n",
       "    root._bokeh_is_loading = css_urls.length + js_urls.length;\n",
       "\n",
       "    function on_load() {\n",
       "      root._bokeh_is_loading--;\n",
       "      if (root._bokeh_is_loading === 0) {\n",
       "        console.debug(\"Bokeh: all BokehJS libraries/stylesheets loaded\");\n",
       "        run_callbacks()\n",
       "      }\n",
       "    }\n",
       "\n",
       "    function on_error(url) {\n",
       "      console.error(\"failed to load \" + url);\n",
       "    }\n",
       "\n",
       "    for (let i = 0; i < css_urls.length; i++) {\n",
       "      const url = css_urls[i];\n",
       "      const element = document.createElement(\"link\");\n",
       "      element.onload = on_load;\n",
       "      element.onerror = on_error.bind(null, url);\n",
       "      element.rel = \"stylesheet\";\n",
       "      element.type = \"text/css\";\n",
       "      element.href = url;\n",
       "      console.debug(\"Bokeh: injecting link tag for BokehJS stylesheet: \", url);\n",
       "      document.body.appendChild(element);\n",
       "    }\n",
       "\n",
       "    const hashes = {\"https://cdn.bokeh.org/bokeh/release/bokeh-2.3.3.min.js\": \"dM3QQsP+wXdHg42wTqW85BjZQdLNNIXqlPw/BgKoExPmTG7ZLML4EGqLMfqHT6ON\", \"https://cdn.bokeh.org/bokeh/release/bokeh-tables-2.3.3.min.js\": \"8x57I4YuIfu8XyZfFo0XVr2WAT8EK4rh/uDe3wF7YuW2FNUSNEpJbsPaB1nJ2fz2\", \"https://cdn.bokeh.org/bokeh/release/bokeh-widgets-2.3.3.min.js\": \"3QTqdz9LyAm2i0sG5XTePsHec3UHWwVsrOL68SYRoAXsafvfAyqtQ+h440+qIBhS\"};\n",
       "\n",
       "    for (let i = 0; i < js_urls.length; i++) {\n",
       "      const url = js_urls[i];\n",
       "      const element = document.createElement('script');\n",
       "      element.onload = on_load;\n",
       "      element.onerror = on_error.bind(null, url);\n",
       "      element.async = false;\n",
       "      element.src = url;\n",
       "      if (url in hashes) {\n",
       "        element.crossOrigin = \"anonymous\";\n",
       "        element.integrity = \"sha384-\" + hashes[url];\n",
       "      }\n",
       "      console.debug(\"Bokeh: injecting script tag for BokehJS library: \", url);\n",
       "      document.head.appendChild(element);\n",
       "    }\n",
       "  };\n",
       "\n",
       "  function inject_raw_css(css) {\n",
       "    const element = document.createElement(\"style\");\n",
       "    element.appendChild(document.createTextNode(css));\n",
       "    document.body.appendChild(element);\n",
       "  }\n",
       "\n",
       "  \n",
       "  var js_urls = [\"https://cdn.bokeh.org/bokeh/release/bokeh-2.3.3.min.js\", \"https://cdn.bokeh.org/bokeh/release/bokeh-widgets-2.3.3.min.js\", \"https://cdn.bokeh.org/bokeh/release/bokeh-tables-2.3.3.min.js\"];\n",
       "  var css_urls = [];\n",
       "  \n",
       "\n",
       "  var inline_js = [\n",
       "    function(Bokeh) {\n",
       "      Bokeh.set_log_level(\"info\");\n",
       "    },\n",
       "    function(Bokeh) {\n",
       "    \n",
       "    \n",
       "    }\n",
       "  ];\n",
       "\n",
       "  function run_inline_js() {\n",
       "    \n",
       "    if (root.Bokeh !== undefined || force === true) {\n",
       "      \n",
       "    for (var i = 0; i < inline_js.length; i++) {\n",
       "      inline_js[i].call(root, root.Bokeh);\n",
       "    }\n",
       "    if (force === true) {\n",
       "        display_loaded();\n",
       "      }} else if (Date.now() < root._bokeh_timeout) {\n",
       "      setTimeout(run_inline_js, 100);\n",
       "    } else if (!root._bokeh_failed_load) {\n",
       "      console.log(\"Bokeh: BokehJS failed to load within specified timeout.\");\n",
       "      root._bokeh_failed_load = true;\n",
       "    } else if (force !== true) {\n",
       "      var cell = $(document.getElementById(\"1002\")).parents('.cell').data().cell;\n",
       "      cell.output_area.append_execute_result(NB_LOAD_WARNING)\n",
       "    }\n",
       "\n",
       "  }\n",
       "\n",
       "  if (root._bokeh_is_loading === 0) {\n",
       "    console.debug(\"Bokeh: BokehJS loaded, going straight to plotting\");\n",
       "    run_inline_js();\n",
       "  } else {\n",
       "    load_libs(css_urls, js_urls, function() {\n",
       "      console.debug(\"Bokeh: BokehJS plotting callback run at\", now());\n",
       "      run_inline_js();\n",
       "    });\n",
       "  }\n",
       "}(window));"
      ],
      "application/vnd.bokehjs_load.v0+json": "\n(function(root) {\n  function now() {\n    return new Date();\n  }\n\n  var force = true;\n\n  if (typeof root._bokeh_onload_callbacks === \"undefined\" || force === true) {\n    root._bokeh_onload_callbacks = [];\n    root._bokeh_is_loading = undefined;\n  }\n\n  \n\n  \n  if (typeof (root._bokeh_timeout) === \"undefined\" || force === true) {\n    root._bokeh_timeout = Date.now() + 5000;\n    root._bokeh_failed_load = false;\n  }\n\n  var NB_LOAD_WARNING = {'data': {'text/html':\n     \"<div style='background-color: #fdd'>\\n\"+\n     \"<p>\\n\"+\n     \"BokehJS does not appear to have successfully loaded. If loading BokehJS from CDN, this \\n\"+\n     \"may be due to a slow or bad network connection. Possible fixes:\\n\"+\n     \"</p>\\n\"+\n     \"<ul>\\n\"+\n     \"<li>re-rerun `output_notebook()` to attempt to load from CDN again, or</li>\\n\"+\n     \"<li>use INLINE resources instead, as so:</li>\\n\"+\n     \"</ul>\\n\"+\n     \"<code>\\n\"+\n     \"from bokeh.resources import INLINE\\n\"+\n     \"output_notebook(resources=INLINE)\\n\"+\n     \"</code>\\n\"+\n     \"</div>\"}};\n\n  function display_loaded() {\n    var el = document.getElementById(\"1002\");\n    if (el != null) {\n      el.textContent = \"BokehJS is loading...\";\n    }\n    if (root.Bokeh !== undefined) {\n      if (el != null) {\n        el.textContent = \"BokehJS \" + root.Bokeh.version + \" successfully loaded.\";\n      }\n    } else if (Date.now() < root._bokeh_timeout) {\n      setTimeout(display_loaded, 100)\n    }\n  }\n\n\n  function run_callbacks() {\n    try {\n      root._bokeh_onload_callbacks.forEach(function(callback) {\n        if (callback != null)\n          callback();\n      });\n    } finally {\n      delete root._bokeh_onload_callbacks\n    }\n    console.debug(\"Bokeh: all callbacks have finished\");\n  }\n\n  function load_libs(css_urls, js_urls, callback) {\n    if (css_urls == null) css_urls = [];\n    if (js_urls == null) js_urls = [];\n\n    root._bokeh_onload_callbacks.push(callback);\n    if (root._bokeh_is_loading > 0) {\n      console.debug(\"Bokeh: BokehJS is being loaded, scheduling callback at\", now());\n      return null;\n    }\n    if (js_urls == null || js_urls.length === 0) {\n      run_callbacks();\n      return null;\n    }\n    console.debug(\"Bokeh: BokehJS not loaded, scheduling load and callback at\", now());\n    root._bokeh_is_loading = css_urls.length + js_urls.length;\n\n    function on_load() {\n      root._bokeh_is_loading--;\n      if (root._bokeh_is_loading === 0) {\n        console.debug(\"Bokeh: all BokehJS libraries/stylesheets loaded\");\n        run_callbacks()\n      }\n    }\n\n    function on_error(url) {\n      console.error(\"failed to load \" + url);\n    }\n\n    for (let i = 0; i < css_urls.length; i++) {\n      const url = css_urls[i];\n      const element = document.createElement(\"link\");\n      element.onload = on_load;\n      element.onerror = on_error.bind(null, url);\n      element.rel = \"stylesheet\";\n      element.type = \"text/css\";\n      element.href = url;\n      console.debug(\"Bokeh: injecting link tag for BokehJS stylesheet: \", url);\n      document.body.appendChild(element);\n    }\n\n    const hashes = {\"https://cdn.bokeh.org/bokeh/release/bokeh-2.3.3.min.js\": \"dM3QQsP+wXdHg42wTqW85BjZQdLNNIXqlPw/BgKoExPmTG7ZLML4EGqLMfqHT6ON\", \"https://cdn.bokeh.org/bokeh/release/bokeh-tables-2.3.3.min.js\": \"8x57I4YuIfu8XyZfFo0XVr2WAT8EK4rh/uDe3wF7YuW2FNUSNEpJbsPaB1nJ2fz2\", \"https://cdn.bokeh.org/bokeh/release/bokeh-widgets-2.3.3.min.js\": \"3QTqdz9LyAm2i0sG5XTePsHec3UHWwVsrOL68SYRoAXsafvfAyqtQ+h440+qIBhS\"};\n\n    for (let i = 0; i < js_urls.length; i++) {\n      const url = js_urls[i];\n      const element = document.createElement('script');\n      element.onload = on_load;\n      element.onerror = on_error.bind(null, url);\n      element.async = false;\n      element.src = url;\n      if (url in hashes) {\n        element.crossOrigin = \"anonymous\";\n        element.integrity = \"sha384-\" + hashes[url];\n      }\n      console.debug(\"Bokeh: injecting script tag for BokehJS library: \", url);\n      document.head.appendChild(element);\n    }\n  };\n\n  function inject_raw_css(css) {\n    const element = document.createElement(\"style\");\n    element.appendChild(document.createTextNode(css));\n    document.body.appendChild(element);\n  }\n\n  \n  var js_urls = [\"https://cdn.bokeh.org/bokeh/release/bokeh-2.3.3.min.js\", \"https://cdn.bokeh.org/bokeh/release/bokeh-widgets-2.3.3.min.js\", \"https://cdn.bokeh.org/bokeh/release/bokeh-tables-2.3.3.min.js\"];\n  var css_urls = [];\n  \n\n  var inline_js = [\n    function(Bokeh) {\n      Bokeh.set_log_level(\"info\");\n    },\n    function(Bokeh) {\n    \n    \n    }\n  ];\n\n  function run_inline_js() {\n    \n    if (root.Bokeh !== undefined || force === true) {\n      \n    for (var i = 0; i < inline_js.length; i++) {\n      inline_js[i].call(root, root.Bokeh);\n    }\n    if (force === true) {\n        display_loaded();\n      }} else if (Date.now() < root._bokeh_timeout) {\n      setTimeout(run_inline_js, 100);\n    } else if (!root._bokeh_failed_load) {\n      console.log(\"Bokeh: BokehJS failed to load within specified timeout.\");\n      root._bokeh_failed_load = true;\n    } else if (force !== true) {\n      var cell = $(document.getElementById(\"1002\")).parents('.cell').data().cell;\n      cell.output_area.append_execute_result(NB_LOAD_WARNING)\n    }\n\n  }\n\n  if (root._bokeh_is_loading === 0) {\n    console.debug(\"Bokeh: BokehJS loaded, going straight to plotting\");\n    run_inline_js();\n  } else {\n    load_libs(css_urls, js_urls, function() {\n      console.debug(\"Bokeh: BokehJS plotting callback run at\", now());\n      run_inline_js();\n    });\n  }\n}(window));"
     },
     "metadata": {},
     "output_type": "display_data"
    }
   ],
   "source": [
    "import os\n",
    "os.environ[\"TF_CPP_MIN_LOG_LEVEL\"] = \"3\"\n",
    "\n",
    "import numpy as np\n",
    "from bokeh.io import output_notebook, show\n",
    "\n",
    "import angorapy as apy\n",
    "from angorapy.utilities.monitor import training_plots as plots\n",
    "output_notebook()"
   ]
  },
  {
   "cell_type": "markdown",
   "metadata": {},
   "source": [
    "Now lets load the agent. For this example we will use an agent trained on object manipulation using a biologically inspired architecture. The model is provided with the tutorial repository. However, you can also just use the ID of one of the agents you trained previously."
   ]
  },
  {
   "cell_type": "code",
   "execution_count": 2,
   "metadata": {},
   "outputs": [
    {
     "name": "stdout",
     "output_type": "stream",
     "text": [
      "Detected 0 GPU devices.\n",
      "Loading from iteration best.\n",
      "Detected 0 GPU devices.\n",
      "Using [StateNormalizationTransformer, RewardNormalizationTransformer] for preprocessing.\n",
      "An MPI Optimizer with 1 ranks has been created; the following ranks optimize: [0]\n",
      "An MPI Optimizer with 1 ranks has been created; the following ranks optimize: [0]\n",
      "Loaded optimizer.\n"
     ]
    }
   ],
   "source": [
    "agent = apy.Agent.from_agent_state(1679956989141411, from_iteration=\"best\")"
   ]
  },
  {
   "cell_type": "markdown",
   "metadata": {},
   "source": [
    "Additionally, we will now construct an `Investigator` encapsulating the agent. It provides us with a bunch of functions to inspect our agent."
   ]
  },
  {
   "cell_type": "code",
   "execution_count": 3,
   "metadata": {},
   "outputs": [],
   "source": [
    "investigator = apy.Investigator.from_agent(agent)"
   ]
  },
  {
   "cell_type": "markdown",
   "metadata": {},
   "source": [
    "## Learning Curves & Statistics\n",
    "First things first, let us see how training of this agent went. We can easily plot the reward over training cycles, as follows"
   ]
  },
  {
   "cell_type": "code",
   "execution_count": 4,
   "metadata": {},
   "outputs": [
    {
     "data": {
      "text/html": [
       "\n",
       "\n",
       "\n",
       "\n",
       "\n",
       "\n",
       "  <div class=\"bk-root\" id=\"ce1e16f5-82d0-495a-9544-1fb2b97642bb\" data-root-id=\"1004\"></div>\n"
      ]
     },
     "metadata": {},
     "output_type": "display_data"
    },
    {
     "data": {
      "application/javascript": [
       "(function(root) {\n",
       "  function embed_document(root) {\n",
       "    \n",
       "  var docs_json = {\"485b2d95-c329-4623-85ce-26fc3b15becb\":{\"defs\":[],\"roots\":{\"references\":[{\"attributes\":{\"below\":[{\"id\":\"1015\"}],\"center\":[{\"id\":\"1018\"},{\"id\":\"1022\"},{\"id\":\"1032\"},{\"id\":\"1051\"},{\"id\":\"1054\"},{\"id\":\"1056\"}],\"height\":500,\"left\":[{\"id\":\"1019\"}],\"outline_line_color\":null,\"renderers\":[{\"id\":\"1032\"},{\"id\":\"1037\"}],\"sizing_mode\":\"stretch_width\",\"title\":{\"id\":\"1005\"},\"toolbar\":{\"id\":\"1023\"},\"toolbar_location\":\"above\",\"x_range\":{\"id\":\"1007\"},\"x_scale\":{\"id\":\"1011\"},\"y_range\":{\"id\":\"1009\"},\"y_scale\":{\"id\":\"1013\"}},\"id\":\"1004\",\"subtype\":\"Figure\",\"type\":\"Plot\"},{\"attributes\":{},\"id\":\"1050\",\"type\":\"Selection\"},{\"attributes\":{\"callback\":null,\"mode\":\"vline\",\"tooltips\":[[\"Cycle\",\"@x\"],[\"Reward\",\"@y\"]]},\"id\":\"1003\",\"type\":\"HoverTool\"},{\"attributes\":{\"label\":{\"value\":\"Reward\"},\"renderers\":[{\"id\":\"1037\"}]},\"id\":\"1052\",\"type\":\"LegendItem\"},{\"attributes\":{\"end\":80},\"id\":\"1007\",\"type\":\"Range1d\"},{\"attributes\":{\"end\":384.6731984641092,\"start\":-200.96062358598783},\"id\":\"1009\",\"type\":\"Range1d\"},{\"attributes\":{\"axis_label\":\"Total Episode Return\",\"axis_label_text_font\":\"times\",\"axis_label_text_font_size\":\"12pt\",\"axis_label_text_font_style\":\"bold\",\"formatter\":{\"id\":\"1041\"},\"major_label_policy\":{\"id\":\"1042\"},\"ticker\":{\"id\":\"1020\"}},\"id\":\"1019\",\"type\":\"LinearAxis\"},{\"attributes\":{},\"id\":\"1045\",\"type\":\"AllLabels\"},{\"attributes\":{\"line_alpha\":0.1,\"line_color\":\"rgb(76, 114, 176)\",\"line_width\":2,\"x\":{\"field\":\"x\"},\"y\":{\"field\":\"y\"}},\"id\":\"1036\",\"type\":\"Line\"},{\"attributes\":{},\"id\":\"1070\",\"type\":\"Selection\"},{\"attributes\":{\"base\":{\"field\":\"x\"},\"fill_alpha\":0.2,\"fill_color\":\"rgb(76, 114, 176)\",\"line_alpha\":0.4,\"line_color\":\"rgb(76, 114, 176)\",\"lower\":{\"field\":\"lower\"},\"source\":{\"id\":\"1031\"},\"upper\":{\"field\":\"upper\"}},\"id\":\"1032\",\"type\":\"Band\"},{\"attributes\":{\"data\":{\"index\":[0,1,2,3,4,5,6,7,8,9,10,11,12,13,14,15,16,17,18,19,20,21,22,23,24,25,26,27,28,29,30,31,32,33,34,35,36,37,38,39,40,41,42,43,44,45,46,47,48,49,50,51,52,53,54,55,56,57,58,59,60,61,62,63,64,65,66,67,68,69,70,71,72,73,74,75,76,77,78,79,80],\"level_0\":[0,1,2,3,4,5,6,7,8,9,10,11,12,13,14,15,16,17,18,19,20,21,22,23,24,25,26,27,28,29,30,31,32,33,34,35,36,37,38,39,40,41,42,43,44,45,46,47,48,49,50,51,52,53,54,55,56,57,58,59,60,61,62,63,64,65,66,67,68,69,70,71,72,73,74,75,76,77,78,79,80],\"lower\":{\"__ndarray__\":\"sLKsbb0eacDWVfIug7JlwIwE73yNdV/AyTUrmk/nWsCo4FIHpuJYwMna7FKSVFHAviuqQbtUQsByH+O+uY82wMSubBSH2BDAfkoTOeFtLsB5x9UsvhQeQNamRzEXjyDA/vuZ+7KRJcCvzMf3b1o5QK5yVkLHKTPAs5ovBuZUUEBW7e6GMS1TQPaFTL4nW0hABfixo+m8UUDAO8c4vV9XQCp7QOTz4kFAbb/GxY//XkCABUl8b4RhQHF94nPPBmBAlAhpHyCgZEBW9lMSoOhoQIIyGPRXvmlAE04Di10JakAMaeaYk2tqQMzcG1pdy2ZAOJ1eF/E5ZEB5D02iJfRkQMUwHlNFUm1AQyDHDVjuaEDIpbWozkBoQGfb273nVm1AKY+I2oarbUAX2SDtYaRsQEYjT9UR6GtAnvA1Hf1ta0CdKknQ8oNsQH1WYxS3bG5A+1/X8DPobUBNzJuW+rxtQDMWfdGIC3BAV3UxPRDObkDq40FV2A9uQBDu80Uv1W9AQH9Ew6ZHbkAV8a5xKcRuQL7vTRjFSG9AAs+Wt+xccEDEwJO3vJltQFBL+ev+721AgrEmTSfdcEDf+hZtvztwQANgPTrumXBA8BOCiwSPcEBhD7K0bPVwQJ22YwCvsW9AM9+pskDqb0BfUCqNCQFwQAKI8mxIBnBACiSLPfBBcUA7eWx54epwQHnMl9ptFXFA1SxeQVRAcUCZ7HAvC09wQHYWbLpOJ29A9t9m8TaEb0D3PDdstS1xQLwxxtw54nBAVJGZGRwQcUA0UxBo6pdwQB/1hJxCx3BAc1pQpodhcEC33VfTIIFwQA5V9JsVeXBAWBFD70+6cEAHAjEAC3dwQGjFjFYUe3FA\",\"dtype\":\"float64\",\"order\":\"little\",\"shape\":[81]},\"upper\":{\"__ndarray__\":\"noU8Ed92Y8DOD21h2q5gwNC2OQmmc1jASdBqpnmTU8CkvYiex7lSwD7cNZWfVUfAvb9/NnqANsBkbfmYKrYjwE77W7DwQxxAwPtrMMJi6z95PmjhJXs0QOm3KkEV8zNAayoCqgPxMkDAof8eMWNKQMI22JmW2zNAh7AYEBiSVUCqRHU+ADRXQAmT2482ZlVAGWeW3u0qW0BOhOo/715eQBKtTLG621NAOs/oW2aGYUAUQpr2vhZlQDHjQwS962VAjBRRaErTZ0D4rOi18v5sQJiGeQuHW21ALwpZqoFQbkDQtGJmIMttQJgsA6jVOGtAQvQPf6SJakDB8QABFvZqQEW5RMUWq29A1W9RMvv+bECQRv6DZGZsQH0U67ixyW9AeRsP0k0KcECB/inyUR5vQBzo6ZFAFG9Alrgf5BvKb0BtxXzMjNBvQGELWgZUOnBAX4J8XUXcb0DqlL5/z0lwQDPehREhynBAII51NMqCcEDN+byuv15wQC5WX5XE8nBAdDEdrj8CcUCkh8ryyPVwQAl9fe5RsnBACk6XLCNVcUCgsns1qOBwQGcTuLmZ9nBA0MGAuGZrcUCDu0dCFWdxQCfKYgmXj3FACiqPEkNrcUAhIHZADXpxQPLKPygWGnFATdtJ72kJcUAPlZNgFw1xQBIL4zQKb3FALmsi0tXEcUCJO3gOMM9xQLdOrt/KtnFAAUXrZha4cUDzmLo9aGRxQHsqPDRNEHFAldHm3Ht0cUCzeDJs8NlxQCLXtYQS63FA4HY3DKChcUBKO2CM29JxQLPF8Q5zsnFA/WvMNDhgcUATpKWLs5xxQIogewkPnXFAVLbHWdm0cUC3hFc0z4xxQFQvUrsU8XFA\",\"dtype\":\"float64\",\"order\":\"little\",\"shape\":[81]},\"x\":[0,1,2,3,4,5,6,7,8,9,10,11,12,13,14,15,16,17,18,19,20,21,22,23,24,25,26,27,28,29,30,31,32,33,34,35,36,37,38,39,40,41,42,43,44,45,46,47,48,49,50,51,52,53,54,55,56,57,58,59,60,61,62,63,64,65,66,67,68,69,70,71,72,73,74,75,76,77,78,79,80],\"y\":{\"__ndarray__\":\"J5x0P85KZsDSsi/IrjBjwK5dFMOZ9FvACQNLoGQ9V8Amz+3SNs5VwOjIhx1i/0zAnAvqXPiUPcAS66+FZzUwwBaZ3jfT1vY/wooMFrW3HMBXsJ1sVQAsQPzIDVETVxdA2FhqWFRQEEAMxHGNNIhDQHqCOPDqOdY/nSUkC3/zUkAAGbLimDBVQALrgDflyVBAjy8kwetzVkAH4Fg8Vt9aQKfqbKM0zUxAeBdmHxeDYEDKo3E5l01jQFEwEzxG+WJAkA7dQ7U5ZkCnUR5kyfNqQI3cyH/vjGtAISyumu8sbEDujqT/WRtsQLKED4EZAmlAvUg3y8phZ0CdAKfRHfVnQAV1MQyufm5ADEgMoKn2akAs9lmWmVNqQPJ3Y7tMkG5ADmNTPxHgbkDMa6XvWeFtQLGFnDMpfm1AmtSqgAycbUAF+GLOPypuQJ+2i5CvcG9ALfEppzzibkARewzLTChvQDN6gfHUanBAzEgOU9Lpb0DC613Zq2ZvQJumLByubnBAirjfhwkTcEAXANHV7itwQHQ6Uj1aK3BAhg4X8gfZcEACk0WRhq1vQA+5tC+Z7m9AqbnTAkckcUAxW69XatFwQBUV0KHCFHFA/Z4IzyP9cEDBF5T6vDdxQCDTONR2eXBAc2VPJEV/cEC38t52EIdwQIrJ6lCpunBAnMfWB2ODcUBiWvLDCF1xQJgNI10cZnFA67gkVDV8cUDGwpW2udlwQNsauUj6UXBAyCDNqkubcEDV2jTs0oNxQG8EvjCmZnFAGoToEt5YcUA/Rzj6YjVxQGldu9XaPHFAOGOO7d/gcEDlwH4v6g5xQMy6t1ISC3FA1mOFpJQ3cUBfQ0Qa7QFxQF5674gUtnFA\",\"dtype\":\"float64\",\"order\":\"little\",\"shape\":[81]}},\"selected\":{\"id\":\"1048\"},\"selection_policy\":{\"id\":\"1047\"}},\"id\":\"1031\",\"type\":\"ColumnDataSource\"},{\"attributes\":{\"align\":\"center\",\"text\":\"Average Rewards per Cycle\",\"text_font\":\"Fira Sans\",\"text_font_size\":\"14pt\"},\"id\":\"1005\",\"type\":\"Title\"},{\"attributes\":{},\"id\":\"1027\",\"type\":\"ResetTool\"},{\"attributes\":{\"overlay\":{\"id\":\"1046\"}},\"id\":\"1025\",\"type\":\"BoxZoomTool\"},{\"attributes\":{\"background_fill_color\":\"white\",\"border_line_alpha\":0,\"border_line_color\":\"black\",\"text\":\"283.3800134043321\",\"text_align\":\"center\",\"text_color\":\"darkred\",\"text_font_size\":\"10pt\",\"text_line_height\":1.5,\"x\":80,\"y\":319.9821272824631},\"id\":\"1056\",\"type\":\"Label\"},{\"attributes\":{},\"id\":\"1011\",\"type\":\"LinearScale\"},{\"attributes\":{},\"id\":\"1029\",\"type\":\"SaveTool\"},{\"attributes\":{},\"id\":\"1044\",\"type\":\"BasicTickFormatter\"},{\"attributes\":{\"fill_color\":{\"value\":\"red\"},\"line_color\":{\"value\":\"darkred\"},\"line_width\":{\"value\":2},\"size\":{\"value\":10}},\"id\":\"1053\",\"type\":\"NormalHead\"},{\"attributes\":{\"data\":{\"x\":[0,1,2,3,4,5,6,7,8,9,10,11,12,13,14,15,16,17,18,19,20,21,22,23,24,25,26,27,28,29,30,31,32,33,34,35,36,37,38,39,40,41,42,43,44,45,46,47,48,49,50,51,52,53,54,55,56,57,58,59,60,61,62,63,64,65,66,67,68,69,70,71,72,73,74,75,76,77,78,79,80],\"y\":{\"__ndarray__\":\"J5x0P85KZsDSsi/IrjBjwK5dFMOZ9FvACQNLoGQ9V8Amz+3SNs5VwOjIhx1i/0zAnAvqXPiUPcAS66+FZzUwwBaZ3jfT1vY/wooMFrW3HMBXsJ1sVQAsQPzIDVETVxdA2FhqWFRQEEAMxHGNNIhDQHqCOPDqOdY/nSUkC3/zUkAAGbLimDBVQALrgDflyVBAjy8kwetzVkAH4Fg8Vt9aQKfqbKM0zUxAeBdmHxeDYEDKo3E5l01jQFEwEzxG+WJAkA7dQ7U5ZkCnUR5kyfNqQI3cyH/vjGtAISyumu8sbEDujqT/WRtsQLKED4EZAmlAvUg3y8phZ0CdAKfRHfVnQAV1MQyufm5ADEgMoKn2akAs9lmWmVNqQPJ3Y7tMkG5ADmNTPxHgbkDMa6XvWeFtQLGFnDMpfm1AmtSqgAycbUAF+GLOPypuQJ+2i5CvcG9ALfEppzzibkARewzLTChvQDN6gfHUanBAzEgOU9Lpb0DC613Zq2ZvQJumLByubnBAirjfhwkTcEAXANHV7itwQHQ6Uj1aK3BAhg4X8gfZcEACk0WRhq1vQA+5tC+Z7m9AqbnTAkckcUAxW69XatFwQBUV0KHCFHFA/Z4IzyP9cEDBF5T6vDdxQCDTONR2eXBAc2VPJEV/cEC38t52EIdwQIrJ6lCpunBAnMfWB2ODcUBiWvLDCF1xQJgNI10cZnFA67gkVDV8cUDGwpW2udlwQNsauUj6UXBAyCDNqkubcEDV2jTs0oNxQG8EvjCmZnFAGoToEt5YcUA/Rzj6YjVxQGldu9XaPHFAOGOO7d/gcEDlwH4v6g5xQMy6t1ISC3FA1mOFpJQ3cUBfQ0Qa7QFxQF5674gUtnFA\",\"dtype\":\"float64\",\"order\":\"little\",\"shape\":[81]}},\"selected\":{\"id\":\"1050\"},\"selection_policy\":{\"id\":\"1049\"}},\"id\":\"1034\",\"type\":\"ColumnDataSource\"},{\"attributes\":{\"data\":{},\"selected\":{\"id\":\"1070\"},\"selection_policy\":{\"id\":\"1069\"}},\"id\":\"1065\",\"type\":\"ColumnDataSource\"},{\"attributes\":{\"end\":{\"id\":\"1053\"},\"line_color\":{\"value\":\"darkred\"},\"line_width\":{\"value\":2},\"source\":{\"id\":\"1065\"},\"start\":null,\"x_end\":{\"value\":80},\"x_start\":{\"value\":80},\"y_end\":{\"value\":283.3800134043321},\"y_start\":{\"value\":317.5419863572544}},\"id\":\"1054\",\"type\":\"Arrow\"},{\"attributes\":{\"source\":{\"id\":\"1034\"}},\"id\":\"1038\",\"type\":\"CDSView\"},{\"attributes\":{},\"id\":\"1041\",\"type\":\"BasicTickFormatter\"},{\"attributes\":{\"line_color\":\"rgb(76, 114, 176)\",\"line_width\":2,\"x\":{\"field\":\"x\"},\"y\":{\"field\":\"y\"}},\"id\":\"1035\",\"type\":\"Line\"},{\"attributes\":{\"axis\":{\"id\":\"1019\"},\"dimension\":1,\"ticker\":null,\"visible\":false},\"id\":\"1022\",\"type\":\"Grid\"},{\"attributes\":{},\"id\":\"1020\",\"type\":\"BasicTicker\"},{\"attributes\":{\"active_multi\":null,\"logo\":null,\"tools\":[{\"id\":\"1003\"},{\"id\":\"1025\"},{\"id\":\"1027\"},{\"id\":\"1029\"}]},\"id\":\"1023\",\"type\":\"Toolbar\"},{\"attributes\":{},\"id\":\"1042\",\"type\":\"AllLabels\"},{\"attributes\":{\"bottom_units\":\"screen\",\"fill_alpha\":0.5,\"fill_color\":\"lightgrey\",\"left_units\":\"screen\",\"level\":\"overlay\",\"line_alpha\":1.0,\"line_color\":\"black\",\"line_dash\":[4,4],\"line_width\":2,\"right_units\":\"screen\",\"syncable\":false,\"top_units\":\"screen\"},\"id\":\"1046\",\"type\":\"BoxAnnotation\"},{\"attributes\":{},\"id\":\"1016\",\"type\":\"BasicTicker\"},{\"attributes\":{},\"id\":\"1013\",\"type\":\"LinearScale\"},{\"attributes\":{\"axis_label\":\"Cycle\",\"axis_label_text_font\":\"times\",\"axis_label_text_font_size\":\"12pt\",\"axis_label_text_font_style\":\"bold\",\"formatter\":{\"id\":\"1044\"},\"major_label_policy\":{\"id\":\"1045\"},\"ticker\":{\"id\":\"1016\"}},\"id\":\"1015\",\"type\":\"LinearAxis\"},{\"attributes\":{},\"id\":\"1048\",\"type\":\"Selection\"},{\"attributes\":{\"axis\":{\"id\":\"1015\"},\"ticker\":null,\"visible\":false},\"id\":\"1018\",\"type\":\"Grid\"},{\"attributes\":{},\"id\":\"1069\",\"type\":\"UnionRenderers\"},{\"attributes\":{\"items\":[{\"id\":\"1052\"}],\"label_text_font\":\"times\",\"label_text_font_size\":\"12pt\",\"location\":\"bottom_right\"},\"id\":\"1051\",\"type\":\"Legend\"},{\"attributes\":{\"data_source\":{\"id\":\"1034\"},\"glyph\":{\"id\":\"1035\"},\"hover_glyph\":null,\"muted_glyph\":null,\"nonselection_glyph\":{\"id\":\"1036\"},\"view\":{\"id\":\"1038\"}},\"id\":\"1037\",\"type\":\"GlyphRenderer\"},{\"attributes\":{},\"id\":\"1049\",\"type\":\"UnionRenderers\"},{\"attributes\":{},\"id\":\"1047\",\"type\":\"UnionRenderers\"}],\"root_ids\":[\"1004\"]},\"title\":\"Bokeh Application\",\"version\":\"2.3.3\"}};\n",
       "  var render_items = [{\"docid\":\"485b2d95-c329-4623-85ce-26fc3b15becb\",\"root_ids\":[\"1004\"],\"roots\":{\"1004\":\"ce1e16f5-82d0-495a-9544-1fb2b97642bb\"}}];\n",
       "  root.Bokeh.embed.embed_items_notebook(docs_json, render_items);\n",
       "\n",
       "  }\n",
       "  if (root.Bokeh !== undefined) {\n",
       "    embed_document(root);\n",
       "  } else {\n",
       "    var attempts = 0;\n",
       "    var timer = setInterval(function(root) {\n",
       "      if (root.Bokeh !== undefined) {\n",
       "        clearInterval(timer);\n",
       "        embed_document(root);\n",
       "      } else {\n",
       "        attempts++;\n",
       "        if (attempts > 100) {\n",
       "          clearInterval(timer);\n",
       "          console.log(\"Bokeh: ERROR: Unable to run BokehJS code because BokehJS library is missing\");\n",
       "        }\n",
       "      }\n",
       "    }, 10, root)\n",
       "  }\n",
       "})(window);"
      ],
      "application/vnd.bokehjs_exec.v0+json": ""
     },
     "metadata": {
      "application/vnd.bokehjs_exec.v0+json": {
       "id": "1004"
      }
     },
     "output_type": "display_data"
    }
   ],
   "source": [
    "reward_plot = plots.plot_reward_progress({\"mean\": agent.cycle_reward_history, \"stdev\": agent.cycle_reward_std_history} , [])\n",
    "show(reward_plot)"
   ]
  },
  {
   "cell_type": "markdown",
   "metadata": {},
   "source": [
    "And the same we can do with the average episode length per cycle."
   ]
  },
  {
   "cell_type": "code",
   "execution_count": 5,
   "metadata": {},
   "outputs": [
    {
     "data": {
      "text/html": [
       "\n",
       "\n",
       "\n",
       "\n",
       "\n",
       "\n",
       "  <div class=\"bk-root\" id=\"253829a6-54f7-4d9a-8292-5111195eab45\" data-root-id=\"1149\"></div>\n"
      ]
     },
     "metadata": {},
     "output_type": "display_data"
    },
    {
     "data": {
      "application/javascript": [
       "(function(root) {\n",
       "  function embed_document(root) {\n",
       "    \n",
       "  var docs_json = {\"db80f5d6-9717-4496-a5af-e13d85a0916f\":{\"defs\":[],\"roots\":{\"references\":[{\"attributes\":{\"below\":[{\"id\":\"1160\"}],\"center\":[{\"id\":\"1163\"},{\"id\":\"1167\"},{\"id\":\"1177\"},{\"id\":\"1196\"},{\"id\":\"1199\"},{\"id\":\"1201\"}],\"height\":500,\"left\":[{\"id\":\"1164\"}],\"outline_line_color\":null,\"renderers\":[{\"id\":\"1177\"},{\"id\":\"1182\"}],\"sizing_mode\":\"stretch_width\",\"title\":{\"id\":\"1150\"},\"toolbar\":{\"id\":\"1168\"},\"toolbar_location\":\"above\",\"x_range\":{\"id\":\"1152\"},\"x_scale\":{\"id\":\"1156\"},\"y_range\":{\"id\":\"1154\"},\"y_scale\":{\"id\":\"1158\"}},\"id\":\"1149\",\"subtype\":\"Figure\",\"type\":\"Plot\"},{\"attributes\":{},\"id\":\"1192\",\"type\":\"UnionRenderers\"},{\"attributes\":{},\"id\":\"1158\",\"type\":\"LinearScale\"},{\"attributes\":{\"label\":{\"value\":\"Episode Length (time steps)\"},\"renderers\":[{\"id\":\"1182\"}]},\"id\":\"1197\",\"type\":\"LegendItem\"},{\"attributes\":{},\"id\":\"1172\",\"type\":\"ResetTool\"},{\"attributes\":{\"callback\":null,\"mode\":\"vline\",\"tooltips\":[[\"Cycle\",\"@x\"],[\"Length\",\"@y\"]]},\"id\":\"1148\",\"type\":\"HoverTool\"},{\"attributes\":{\"bottom_units\":\"screen\",\"fill_alpha\":0.5,\"fill_color\":\"lightgrey\",\"left_units\":\"screen\",\"level\":\"overlay\",\"line_alpha\":1.0,\"line_color\":\"black\",\"line_dash\":[4,4],\"line_width\":2,\"right_units\":\"screen\",\"syncable\":false,\"top_units\":\"screen\"},\"id\":\"1191\",\"type\":\"BoxAnnotation\"},{\"attributes\":{\"end\":{\"id\":\"1198\"},\"line_color\":{\"value\":\"darkred\"},\"line_width\":{\"value\":2},\"source\":{\"id\":\"1225\"},\"start\":null,\"x_end\":{\"value\":21},\"x_start\":{\"value\":21},\"y_end\":{\"value\":952.9375},\"y_start\":{\"value\":1042.3864691746776}},\"id\":\"1199\",\"type\":\"Arrow\"},{\"attributes\":{\"base\":{\"field\":\"x\"},\"fill_alpha\":0.2,\"fill_color\":\"rgb(221, 132, 82)\",\"line_alpha\":0.4,\"line_color\":\"rgb(221, 132, 82)\",\"lower\":{\"field\":\"lower\"},\"source\":{\"id\":\"1176\"},\"upper\":{\"field\":\"upper\"}},\"id\":\"1177\",\"type\":\"Band\"},{\"attributes\":{},\"id\":\"1161\",\"type\":\"BasicTicker\"},{\"attributes\":{\"axis_label\":\"Total Episode Return\",\"axis_label_text_font\":\"times\",\"axis_label_text_font_size\":\"12pt\",\"axis_label_text_font_style\":\"bold\",\"formatter\":{\"id\":\"1186\"},\"major_label_policy\":{\"id\":\"1187\"},\"ticker\":{\"id\":\"1165\"}},\"id\":\"1164\",\"type\":\"LinearAxis\"},{\"attributes\":{\"axis_label\":\"Cycle\",\"axis_label_text_font\":\"times\",\"axis_label_text_font_size\":\"12pt\",\"axis_label_text_font_style\":\"bold\",\"formatter\":{\"id\":\"1189\"},\"major_label_policy\":{\"id\":\"1190\"},\"ticker\":{\"id\":\"1161\"}},\"id\":\"1160\",\"type\":\"LinearAxis\"},{\"attributes\":{\"data_source\":{\"id\":\"1179\"},\"glyph\":{\"id\":\"1180\"},\"hover_glyph\":null,\"muted_glyph\":null,\"nonselection_glyph\":{\"id\":\"1181\"},\"view\":{\"id\":\"1183\"}},\"id\":\"1182\",\"type\":\"GlyphRenderer\"},{\"attributes\":{\"line_color\":\"rgb(221, 132, 82)\",\"line_width\":2,\"x\":{\"field\":\"x\"},\"y\":{\"field\":\"y\"}},\"id\":\"1180\",\"type\":\"Line\"},{\"attributes\":{\"background_fill_color\":\"white\",\"border_line_color\":\"black\",\"text\":\"952.9375\",\"text_align\":\"center\",\"text_font_size\":\"10pt\",\"text_line_height\":1.5,\"x\":21,\"y\":1042.3864691746776},\"id\":\"1201\",\"type\":\"Label\"},{\"attributes\":{\"line_alpha\":0.1,\"line_color\":\"rgb(221, 132, 82)\",\"line_width\":2,\"x\":{\"field\":\"x\"},\"y\":{\"field\":\"y\"}},\"id\":\"1181\",\"type\":\"Line\"},{\"attributes\":{},\"id\":\"1165\",\"type\":\"BasicTicker\"},{\"attributes\":{\"overlay\":{\"id\":\"1191\"}},\"id\":\"1170\",\"type\":\"BoxZoomTool\"},{\"attributes\":{\"axis\":{\"id\":\"1160\"},\"ticker\":null,\"visible\":false},\"id\":\"1163\",\"type\":\"Grid\"},{\"attributes\":{},\"id\":\"1186\",\"type\":\"BasicTickFormatter\"},{\"attributes\":{\"fill_color\":{\"value\":\"red\"},\"line_color\":{\"value\":\"darkred\"},\"line_width\":{\"value\":2},\"size\":{\"value\":15}},\"id\":\"1198\",\"type\":\"NormalHead\"},{\"attributes\":{},\"id\":\"1187\",\"type\":\"AllLabels\"},{\"attributes\":{\"end\":1080.0364691746777,\"start\":96.0978082532238},\"id\":\"1154\",\"type\":\"Range1d\"},{\"attributes\":{},\"id\":\"1193\",\"type\":\"Selection\"},{\"attributes\":{\"items\":[{\"id\":\"1197\"}],\"label_text_font\":\"times\",\"label_text_font_size\":\"12pt\",\"location\":\"bottom_right\"},\"id\":\"1196\",\"type\":\"Legend\"},{\"attributes\":{\"axis\":{\"id\":\"1164\"},\"dimension\":1,\"ticker\":null,\"visible\":false},\"id\":\"1167\",\"type\":\"Grid\"},{\"attributes\":{\"active_multi\":null,\"logo\":null,\"tools\":[{\"id\":\"1148\"},{\"id\":\"1170\"},{\"id\":\"1172\"},{\"id\":\"1174\"}]},\"id\":\"1168\",\"type\":\"Toolbar\"},{\"attributes\":{\"align\":\"center\",\"text\":\"Average Length of Episodes\",\"text_font\":\"Fira Sans\",\"text_font_size\":\"14pt\"},\"id\":\"1150\",\"type\":\"Title\"},{\"attributes\":{\"end\":80},\"id\":\"1152\",\"type\":\"Range1d\"},{\"attributes\":{},\"id\":\"1229\",\"type\":\"UnionRenderers\"},{\"attributes\":{\"data\":{\"x\":[0,1,2,3,4,5,6,7,8,9,10,11,12,13,14,15,16,17,18,19,20,21,22,23,24,25,26,27,28,29,30,31,32,33,34,35,36,37,38,39,40,41,42,43,44,45,46,47,48,49,50,51,52,53,54,55,56,57,58,59,60,61,62,63,64,65,66,67,68,69,70,71,72,73,74,75,76,77,78,79,80],\"y\":{\"__ndarray__\":\"N49QfabtW0BgLPnFkp9aQNu7DujGfFxAYqmIpSLWXUAVsVTEUlFdQCz3NMJyF2FAs/uNsvutYED1nY36zvZjQM3MzMzM1mdAdM4555wjbECrqqqqquxyQAnLPY2wfH1AVVVVVVX9f0CO4ziO48yEQKuqqqqqAoZAAAAAAIDLikAAAAAAgLqNQAAAAAAAn4xAAAAAAIANjEAAAAAAAOeMQFVVVVVVYYlAAAAAAIDHjUAtLS0tLa2JQGlpaWlpaYlA5DiO4zh+iUC3bdu2baODQKRwPQrXA4FAnXPOOec8fECEEEIIIVR8QAAAAAAAUH5AxMPDw8OreEDCck8jLId+QDMzMzMz2XdAQhqkQRrEd0BVVVVVVVF4QLkj7og7YnZAYhiGYRhudUCXb/mWb/l2QMQdcUfcAXRAX9AX9AXddUAvuuiiizp1QNu2bdu2FXZAYYp81g0GeEAYhmEYhlF1QBCN9aGxfnNAjYyMjIxsckCnN73pTe90QNmJndiJ/XFA5QpicgVxckBMaC+hvXxxQLdt27Zta3VAkiRJkiQbcUD7hrVvWItwQN3TCMs9LXBAlnsaYbmfcEA4qfvy2OpvQAAAAAAAQHBA55xzzjm3bkAREREREVVwQL733nvvHW9ASZIkSZJkbkANwTravE9vQMJyTyMsz3BAKaWUUkqZbkBKKaWUUipvQL88tiJomHBAAAAAAADIbUD35bEVQSNwQKmVWqmVWm5AsyzLsiyLbkCzLMuyLCtvQLmRG7mRG21A+OCDDz7YbEDbtm3bti1uQG/hV2MivWxA09LS0tK6bEAAAAAAANBrQIwuuuiiO2tAAAAAAACYbkAT6YHK2W1tQAtZyEIWEmxA\",\"dtype\":\"float64\",\"order\":\"little\",\"shape\":[81]}},\"selected\":{\"id\":\"1195\"},\"selection_policy\":{\"id\":\"1194\"}},\"id\":\"1179\",\"type\":\"ColumnDataSource\"},{\"attributes\":{\"source\":{\"id\":\"1179\"}},\"id\":\"1183\",\"type\":\"CDSView\"},{\"attributes\":{\"data\":{},\"selected\":{\"id\":\"1230\"},\"selection_policy\":{\"id\":\"1229\"}},\"id\":\"1225\",\"type\":\"ColumnDataSource\"},{\"attributes\":{},\"id\":\"1230\",\"type\":\"Selection\"},{\"attributes\":{\"data\":{\"index\":[0,1,2,3,4,5,6,7,8,9,10,11,12,13,14,15,16,17,18,19,20,21,22,23,24,25,26,27,28,29,30,31,32,33,34,35,36,37,38,39,40,41,42,43,44,45,46,47,48,49,50,51,52,53,54,55,56,57,58,59,60,61,62,63,64,65,66,67,68,69,70,71,72,73,74,75,76,77,78,79,80],\"level_0\":[0,1,2,3,4,5,6,7,8,9,10,11,12,13,14,15,16,17,18,19,20,21,22,23,24,25,26,27,28,29,30,31,32,33,34,35,36,37,38,39,40,41,42,43,44,45,46,47,48,49,50,51,52,53,54,55,56,57,58,59,60,61,62,63,64,65,66,67,68,69,70,71,72,73,74,75,76,77,78,79,80],\"lower\":{\"__ndarray__\":\"AjiMfUIGWECBQJaHZXJZQOI3fr4sOlpASymbWsKKXECulTddhSVcQJk8+pTo7l1AkB3X0gDdX0BMOK86ALBgQBkH4Q5zA2NAH8iOYa9QZkC9/AhTwe5tQFkG3dek13hAoNez2gkNe0DyYu1ukVmCQKHMLeiQuINA3u6XkA3hiEBmZmZm5oKMQNe8D7o3KotAFM9dNKCZikCSG82ikaaLQC/8CQPOZIdAzczMzEyajEAyJAoiUPqHQBFugLC96YdAQC7vJcP6h0DwvBbSX+uBQCkXpGdeVX9AYslcKluheUCBqePQiKd5QPz1gh/AWntAIANu48WXdkBJNtcgXLZ7QERQrzE/k3ZA926KsvuFdUCmb//cHhh2QHPsOq2t53RAsJZy6Pj0c0B659c2ueJ0QHwrehIY2HJAY5FJ5A68c0DcRHgLUDhzQNJH4qpFvHNAur/lXEVRdUBIAxvUE+dyQJpLX15H3nFAOoipiiYBcUD+ErheDLpyQDqzgGhHq3BAkeAi0W8FcUAA3LIqzD9wQOiAv1MBz3JA4mAQXS5WcEAc2+iiwd9vQEbqiPzPhW9ATWbj2TvJb0AJkFQAPl5uQGlBsZTWX29AczJ0ZXPrbUAedXY/VTBvQL54AMP/DW5AsX6p92hdbUDWaoFMs6xtQP8dxPjI0W5AkcG5KU3GbUBHThk3iDpuQM5O35aPnm5Ah92Xxb7zbEA5oeZiXa9sQOP5pWMuvGtAc7zQnJuxbEA2zg7DqW9sQHkb3CtwLWxAnh+W6+3fa0A/NnZFHYRsQJQygYQT9mtAu6DdKKjKakC+Tk/GJaxqQGyBcNQ5iGpAaLJHtUDRa0DU6SYiEc1qQJiPKCQIImtA\",\"dtype\":\"float64\",\"order\":\"little\",\"shape\":[81]},\"upper\":{\"__ndarray__\":\"bOYUfQrVX0A/GFwEwMxbQNQ/nxFhv15AeSl28IIhX0B8zHErIH1eQAvQ7DlxN2NAnmiw+3ZtYUCeA2y6nT1nQIGSuIomqmxAZWpyNkX7cED41tCr9OF2QNxHTyHeEIFAhWn7Z9B2gkAqZIStNUCHQLWIJ23ETIhAIhFob/K1jECamZmZGfKOQClD8EXIE45A7DCiy1+BjUBu5DJdbieOQHuuoKfcXYtAMzMzM7P0jkAoNlA4CmCLQMFkUiIV6YpAiEMtoa4Bi0B+HqCbe1uFQLPVqOD+XIJA2B1ASXPYfkCHd6A/uQB/QAKFPvCfooBAaIQZpMG/ekCe1+MS/quAQCIWtzQnH3lAjcW90DgCekAEO6vNi4p6QP9aoWTJ3HdAFJqZ2jfndkC09xr3JRB5QAwQaHygK3VAWw/mA/39d0CCL1k6xzx3QOQl+Qsob3hACFUTUNa6ekDoCKhc+Lt3QIbOi+UbH3VA4JBvjvLXc0BQXMJ0jyR3QHhgukjMT3NAOTWhE5vcc0CY9KsXr7lyQIZa9xnaB3hAQuiBxxrgcUBooPYN0CZxQJcyzZeTl3BABURD1dRacUAzYdHyubtwQEtfp7UU0HBAWwdzNwCDb0CT52aC9xFxQF+7XprvFnBA4aWfmrtrb0CiC/ozY3lwQITWPMpzNXJAwYhve0dsb0Amghh5Dg1wQBfS/HmI4XFAeSJoOkGcbkBRe/B50+5xQLiYh3d+fHBAes5i5F4ycECYxUPRV/NwQPkHW0azCW5AUqJxM47QbUB3N2VxUNdvQEqQLkIxhG1A6wTIfP2qbkBCsbA52vNsQKzbA/0L72tAzCZcpV+vcEApdG45UQdwQH4iaGEkAm1A\",\"dtype\":\"float64\",\"order\":\"little\",\"shape\":[81]},\"x\":[0,1,2,3,4,5,6,7,8,9,10,11,12,13,14,15,16,17,18,19,20,21,22,23,24,25,26,27,28,29,30,31,32,33,34,35,36,37,38,39,40,41,42,43,44,45,46,47,48,49,50,51,52,53,54,55,56,57,58,59,60,61,62,63,64,65,66,67,68,69,70,71,72,73,74,75,76,77,78,79,80],\"y\":{\"__ndarray__\":\"N49QfabtW0BgLPnFkp9aQNu7DujGfFxAYqmIpSLWXUAVsVTEUlFdQCz3NMJyF2FAs/uNsvutYED1nY36zvZjQM3MzMzM1mdAdM4555wjbECrqqqqquxyQAnLPY2wfH1AVVVVVVX9f0CO4ziO48yEQKuqqqqqAoZAAAAAAIDLikAAAAAAgLqNQAAAAAAAn4xAAAAAAIANjEAAAAAAAOeMQFVVVVVVYYlAAAAAAIDHjUAtLS0tLa2JQGlpaWlpaYlA5DiO4zh+iUC3bdu2baODQKRwPQrXA4FAnXPOOec8fECEEEIIIVR8QAAAAAAAUH5AxMPDw8OreEDCck8jLId+QDMzMzMz2XdAQhqkQRrEd0BVVVVVVVF4QLkj7og7YnZAYhiGYRhudUCXb/mWb/l2QMQdcUfcAXRAX9AX9AXddUAvuuiiizp1QNu2bdu2FXZAYYp81g0GeEAYhmEYhlF1QBCN9aGxfnNAjYyMjIxsckCnN73pTe90QNmJndiJ/XFA5QpicgVxckBMaC+hvXxxQLdt27Zta3VAkiRJkiQbcUD7hrVvWItwQN3TCMs9LXBAlnsaYbmfcEA4qfvy2OpvQAAAAAAAQHBA55xzzjm3bkAREREREVVwQL733nvvHW9ASZIkSZJkbkANwTravE9vQMJyTyMsz3BAKaWUUkqZbkBKKaWUUipvQL88tiJomHBAAAAAAADIbUD35bEVQSNwQKmVWqmVWm5AsyzLsiyLbkCzLMuyLCtvQLmRG7mRG21A+OCDDz7YbEDbtm3bti1uQG/hV2MivWxA09LS0tK6bEAAAAAAANBrQIwuuuiiO2tAAAAAAACYbkAT6YHK2W1tQAtZyEIWEmxA\",\"dtype\":\"float64\",\"order\":\"little\",\"shape\":[81]}},\"selected\":{\"id\":\"1193\"},\"selection_policy\":{\"id\":\"1192\"}},\"id\":\"1176\",\"type\":\"ColumnDataSource\"},{\"attributes\":{},\"id\":\"1190\",\"type\":\"AllLabels\"},{\"attributes\":{},\"id\":\"1194\",\"type\":\"UnionRenderers\"},{\"attributes\":{},\"id\":\"1174\",\"type\":\"SaveTool\"},{\"attributes\":{},\"id\":\"1189\",\"type\":\"BasicTickFormatter\"},{\"attributes\":{},\"id\":\"1195\",\"type\":\"Selection\"},{\"attributes\":{},\"id\":\"1156\",\"type\":\"LinearScale\"}],\"root_ids\":[\"1149\"]},\"title\":\"Bokeh Application\",\"version\":\"2.3.3\"}};\n",
       "  var render_items = [{\"docid\":\"db80f5d6-9717-4496-a5af-e13d85a0916f\",\"root_ids\":[\"1149\"],\"roots\":{\"1149\":\"253829a6-54f7-4d9a-8292-5111195eab45\"}}];\n",
       "  root.Bokeh.embed.embed_items_notebook(docs_json, render_items);\n",
       "\n",
       "  }\n",
       "  if (root.Bokeh !== undefined) {\n",
       "    embed_document(root);\n",
       "  } else {\n",
       "    var attempts = 0;\n",
       "    var timer = setInterval(function(root) {\n",
       "      if (root.Bokeh !== undefined) {\n",
       "        clearInterval(timer);\n",
       "        embed_document(root);\n",
       "      } else {\n",
       "        attempts++;\n",
       "        if (attempts > 100) {\n",
       "          clearInterval(timer);\n",
       "          console.log(\"Bokeh: ERROR: Unable to run BokehJS code because BokehJS library is missing\");\n",
       "        }\n",
       "      }\n",
       "    }, 10, root)\n",
       "  }\n",
       "})(window);"
      ],
      "application/vnd.bokehjs_exec.v0+json": ""
     },
     "metadata": {
      "application/vnd.bokehjs_exec.v0+json": {
       "id": "1149"
      }
     },
     "output_type": "display_data"
    }
   ],
   "source": [
    "length_plot = plots.plot_length_progress({\"mean\": agent.cycle_length_history, \"stdev\": agent.cycle_length_std_history}, [])\n",
    "show(length_plot)"
   ]
  },
  {
   "cell_type": "markdown",
   "metadata": {},
   "source": [
    "## Evaluation\n",
    "\n",
    "The above plots already show how performance progressed throughout training. Note, however, that AngoraPy trains agents with stochastic policies and, during training, encourages exploration. Thus, the above performance at every cycle is not entirely representative of the agents true potential. To evaluate its real performance, let us run 10 episodes without random exploration."
   ]
  },
  {
   "cell_type": "code",
   "execution_count": 7,
   "metadata": {},
   "outputs": [
    {
     "name": "stderr",
     "output_type": "stream",
     "text": [
      "100%|███████████████████████████████████████████| 10/10 [00:18<00:00,  1.87s/it]"
     ]
    },
    {
     "name": "stdout",
     "output_type": "stream",
     "text": [
      "Reward: 242.68886801788193 +/- 73.47917649424555\n"
     ]
    },
    {
     "name": "stderr",
     "output_type": "stream",
     "text": [
      "\n"
     ]
    }
   ],
   "source": [
    "stats_eval = agent.evaluate(10, act_confidently=True)[0]\n",
    "\n",
    "print(f\"Reward: {np.mean(stats_eval.episode_rewards)} +/- {np.std(stats_eval.episode_rewards)}\")"
   ]
  },
  {
   "cell_type": "markdown",
   "metadata": {},
   "source": [
    "## Rendering\n",
    "Lastly, let us inspect qualitatively the behaviour of the agent, by rendering an episodes. The following renders directly in the jupyter notebook. If you are running the jupyter notebook locally or want to render in a script, call render_episode() instead of render_episode_jupyter() and set the render_mode of the environment to \"human\". This will then also look soooo much better. But people are obsessed with Jupyter notebooks, so here you go."
   ]
  },
  {
   "cell_type": "code",
   "execution_count": 9,
   "metadata": {},
   "outputs": [
    {
     "data": {
      "image/png": "[encoded data removed]",
      "text/plain": [
       "<Figure size 640x480 with 1 Axes>"
      ]
     },
     "metadata": {},
     "output_type": "display_data"
    }
   ],
   "source": [
    "env = apy.make_env(agent.env.spec.id, transformers=agent.env.transformers, render_mode=\"rgb_array\")\n",
    "investigator.render_episode_jupyter(env)"
   ]
  },
  {
   "cell_type": "markdown",
   "metadata": {},
   "source": [
    "To summarize, we have seen in this tutorial how we can\n",
    "- plot the performance of an agent\n",
    "- evaluate an agent\n",
    "- render an episode"
   ]
  },
  {
   "cell_type": "code",
   "execution_count": null,
   "metadata": {},
   "outputs": [],
   "source": []
  }
 ],
 "metadata": {
  "kernelspec": {
   "display_name": "Python 3 (ipykernel)",
   "language": "python",
   "name": "python3"
  },
  "language_info": {
   "codemirror_mode": {
    "name": "ipython",
    "version": 3
   },
   "file_extension": ".py",
   "mimetype": "text/x-python",
   "name": "python",
   "nbconvert_exporter": "python",
   "pygments_lexer": "ipython3",
   "version": "3.8.10"
  }
 },
 "nbformat": 4,
 "nbformat_minor": 1
}

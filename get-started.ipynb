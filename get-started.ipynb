{
 "cells": [
  {
   "cell_type": "code",
   "execution_count": 1,
   "metadata": {},
   "outputs": [
    {
     "name": "stderr",
     "output_type": "stream",
     "text": [
      "2023-01-27 12:18:01.716498: W tensorflow/stream_executor/platform/default/dso_loader.cc:60] Could not load dynamic library 'libcudart.so.11.0'; dlerror: libcudart.so.11.0: cannot open shared object file: No such file or directory\n",
      "2023-01-27 12:18:01.716519: I tensorflow/stream_executor/cuda/cudart_stub.cc:29] Ignore above cudart dlerror if you do not have a GPU set up on your machine.\n",
      "Invalid MIT-MAGIC-COOKIE-1 key"
     ]
    },
    {
     "name": "stdout",
     "output_type": "stream",
     "text": [
      "A MuJoCo path exists. MuJoCo is being loaded...\n"
     ]
    }
   ],
   "source": [
    "import numpy as np\n",
    "import tensorflow as tf\n",
    "from angorapy.analysis.investigation import Investigator\n",
    "from angorapy.agent.ppo_agent import PPOAgent\n",
    "from angorapy.common.policies import MultiCategoricalPolicyDistribution, BetaPolicyDistribution\n",
    "from angorapy.common.transformers import RewardNormalizationTransformer, StateNormalizationTransformer\n",
    "from angorapy.common.wrappers import make_env\n",
    "\n",
    "from angorapy.models import get_model_builder"
   ]
  },
  {
   "cell_type": "markdown",
   "metadata": {},
   "source": [
    "For most environments, PPO needs to normalize states and rewards; to add this functionality we wrap the environment with transformers fulfilling this task. You can also add your own custom transformers this way."
   ]
  },
  {
   "cell_type": "code",
   "execution_count": 2,
   "metadata": {},
   "outputs": [],
   "source": [
    "wrappers = [StateNormalizationTransformer, RewardNormalizationTransformer]\n",
    "env = make_env(\"LunarLanderContinuous-v2\", reward_config=None, transformers=wrappers)"
   ]
  },
  {
   "cell_type": "markdown",
   "metadata": {},
   "source": [
    "Next, we need to create the policy distribution we would like to model to map to. We will use a beta distribution. Since the distribution will depend on the action space of the environment, we need to provide the distribution with the environment object."
   ]
  },
  {
   "cell_type": "code",
   "execution_count": 3,
   "metadata": {},
   "outputs": [],
   "source": [
    "distribution = BetaPolicyDistribution(env)"
   ]
  },
  {
   "cell_type": "markdown",
   "metadata": {},
   "source": [
    "Lastly, we need a model. To that end, we create a *model builder*. AngoraPy needs to be able to constantly build new versions of the model. Thus, it requires a model building function instead of a model instance. This function must return a tuple of (policy, value, joint) network. The former are the network selecting the action (policy network) and valuating the state (value network. The latter is their combination. The separation of the three serves computational efficiency.\n",
    "\n",
    "For built in architectures, we can use the *get_model_builder()* function. Lets also check the models this model builder creates."
   ]
  },
  {
   "cell_type": "code",
   "execution_count": 4,
   "metadata": {},
   "outputs": [
    {
     "name": "stderr",
     "output_type": "stream",
     "text": [
      "2023-01-27 12:18:04.009147: I tensorflow/compiler/jit/xla_cpu_device.cc:41] Not creating XLA devices, tf_xla_enable_xla_devices not set\n",
      "2023-01-27 12:18:04.009934: I tensorflow/stream_executor/platform/default/dso_loader.cc:49] Successfully opened dynamic library libcuda.so.1\n",
      "2023-01-27 12:18:04.044066: I tensorflow/core/common_runtime/gpu/gpu_device.cc:1720] Found device 0 with properties: \n",
      "pciBusID: 0000:15:00.0 name: NVIDIA GeForce RTX 2080 SUPER computeCapability: 7.5\n",
      "coreClock: 1.845GHz coreCount: 48 deviceMemorySize: 7.78GiB deviceMemoryBandwidth: 462.00GiB/s\n",
      "2023-01-27 12:18:04.044284: W tensorflow/stream_executor/platform/default/dso_loader.cc:60] Could not load dynamic library 'libcudart.so.11.0'; dlerror: libcudart.so.11.0: cannot open shared object file: No such file or directory\n",
      "2023-01-27 12:18:04.050207: I tensorflow/stream_executor/platform/default/dso_loader.cc:49] Successfully opened dynamic library libcublas.so.11\n",
      "2023-01-27 12:18:04.050293: I tensorflow/stream_executor/platform/default/dso_loader.cc:49] Successfully opened dynamic library libcublasLt.so.11\n",
      "2023-01-27 12:18:04.052442: I tensorflow/stream_executor/platform/default/dso_loader.cc:49] Successfully opened dynamic library libcufft.so.10\n",
      "2023-01-27 12:18:04.052795: I tensorflow/stream_executor/platform/default/dso_loader.cc:49] Successfully opened dynamic library libcurand.so.10\n",
      "2023-01-27 12:18:04.054680: I tensorflow/stream_executor/platform/default/dso_loader.cc:49] Successfully opened dynamic library libcusolver.so.10\n",
      "2023-01-27 12:18:04.055417: I tensorflow/stream_executor/platform/default/dso_loader.cc:49] Successfully opened dynamic library libcusparse.so.11\n",
      "2023-01-27 12:18:04.055583: I tensorflow/stream_executor/platform/default/dso_loader.cc:49] Successfully opened dynamic library libcudnn.so.8\n",
      "2023-01-27 12:18:04.055595: W tensorflow/core/common_runtime/gpu/gpu_device.cc:1757] Cannot dlopen some GPU libraries. Please make sure the missing libraries mentioned above are installed properly if you would like to use GPU. Follow the guide at https://www.tensorflow.org/install/gpu for how to download and setup the required libraries for your platform.\n",
      "Skipping registering GPU devices...\n",
      "2023-01-27 12:18:04.056051: I tensorflow/core/platform/cpu_feature_guard.cc:142] This TensorFlow binary is optimized with oneAPI Deep Neural Network Library (oneDNN) to use the following CPU instructions in performance-critical operations:  AVX2 AVX512F FMA\n",
      "To enable them in other operations, rebuild TensorFlow with the appropriate compiler flags.\n",
      "2023-01-27 12:18:04.056521: I tensorflow/compiler/jit/xla_gpu_device.cc:99] Not creating XLA devices, tf_xla_enable_xla_devices not set\n",
      "2023-01-27 12:18:04.056538: I tensorflow/core/common_runtime/gpu/gpu_device.cc:1261] Device interconnect StreamExecutor with strength 1 edge matrix:\n",
      "2023-01-27 12:18:04.056542: I tensorflow/core/common_runtime/gpu/gpu_device.cc:1267]      \n"
     ]
    },
    {
     "data": {
      "image/png": "[encoded data removed]",
      "text/plain": "<IPython.core.display.Image object>"
     },
     "execution_count": 4,
     "metadata": {},
     "output_type": "execute_result"
    }
   ],
   "source": [
    "build_models = get_model_builder(model=\"simple\", model_type=\"ffn\", shared=False)\n",
    "policy, value, joint = build_models(env, distribution)\n",
    "\n",
    "tf.keras.utils.plot_model(joint)"
   ]
  },
  {
   "cell_type": "markdown",
   "metadata": {},
   "source": [
    "We can see that the model created three network references. Importantly, it is references, as any change to the value or policy network will also change the joint network and vice versa. In the model plot, we can also see how policy and value network are separated. They only share their input, but not their weights.\n",
    "\n",
    "With model, environment and distribution set up, we can now assemble an agent."
   ]
  },
  {
   "cell_type": "code",
   "execution_count": 5,
   "metadata": {},
   "outputs": [
    {
     "name": "stdout",
     "output_type": "stream",
     "text": [
      "Detected 0 GPU devices.\n",
      "Using [StateNormalizationTransformer, RewardNormalizationTransformer] for preprocessing.\n",
      "An MPI Optimizer with 1 ranks has been created; the following ranks optimize: [0]\n",
      "My Agent's ID: 1674818284853356\n"
     ]
    }
   ],
   "source": [
    "agent = PPOAgent(build_models, env, horizon=1024, workers=12, distribution=distribution)\n",
    "\n",
    "# let's check the agents ID, so we can find its saved states after training\n",
    "print(f\"My Agent's ID: {agent.agent_id}\")"
   ]
  },
  {
   "cell_type": "markdown",
   "metadata": {},
   "source": [
    "We will now train the agent for 10 cycle and afterwards save the final state. AngoraPy will additionally always save the agents best version."
   ]
  },
  {
   "cell_type": "code",
   "execution_count": 6,
   "metadata": {},
   "outputs": [
    {
     "name": "stdout",
     "output_type": "stream",
     "text": [
      "\n",
      "\n",
      "Drill started using 1 processes for 12 workers of which 1 are optimizers. Worker distribution: [12].\n",
      "IDs over Workers: [[0, 1, 2, 3, 4, 5, 6, 7, 8, 9, 10, 11]]\n",
      "IDs over Optimizers: [[0, 1, 2, 3, 4, 5, 6, 7, 8, 9, 10, 11]]\n",
      "Gathering cycle 0..."
     ]
    },
    {
     "name": "stderr",
     "output_type": "stream",
     "text": [
      "2023-01-27 12:18:04.498136: I tensorflow/compiler/mlir/mlir_graph_optimization_pass.cc:116] None of the MLIR optimization passes are enabled (registered 2)\n",
      "2023-01-27 12:18:04.498515: I tensorflow/core/platform/profile_utils/cpu_utils.cc:112] CPU Frequency: 3600000000 Hz\n"
     ]
    },
    {
     "name": "stdout",
     "output_type": "stream",
     "text": [
      "\u001B[92mBefore Training\u001B[0m: r: \u001B[91m -243.45\u001B[0m; len: \u001B[94m   98.03\u001B[0m; n: \u001B[94m118\u001B[0m; loss: [\u001B[94m  pi  \u001B[0m|\u001B[94m  v     \u001B[0m|\u001B[94m  ent \u001B[0m]; eps: \u001B[94m    0\u001B[0m; lr: \u001B[94m1.00e-03\u001B[0m; upd: \u001B[94m     0\u001B[0m; f: \u001B[94m   0.000\u001B[0mk; y.exp: \u001B[94m0.00000\u001B[0m; times:  ; took s [unknown time left]; mem: 0.53/33|0.0/0.0;\n",
      "\u001B[92mCycle     1/10\u001B[0m: r: \u001B[91m -195.66\u001B[0m; len: \u001B[94m  102.96\u001B[0m; n: \u001B[94m113\u001B[0m; loss: [\u001B[94m -0.05\u001B[0m|\u001B[94m    0.34\u001B[0m|\u001B[94m -0.17\u001B[0m]; eps: \u001B[94m  118\u001B[0m; lr: \u001B[94m1.00e-03\u001B[0m; upd: \u001B[94m   576\u001B[0m; f: \u001B[94m  12.288\u001B[0mk; times: [39.0|0.0|10.9] [78|0|22]; took 50.51s [7.6mins left]; mem: 0.59/33|0.0/0.0;\n",
      "\u001B[92mCycle     2/10\u001B[0m: r: \u001B[91m -137.41\u001B[0m; len: \u001B[94m  101.17\u001B[0m; n: \u001B[94m115\u001B[0m; loss: [\u001B[94m -0.02\u001B[0m|\u001B[94m    0.25\u001B[0m|\u001B[94m -0.18\u001B[0m]; eps: \u001B[94m  231\u001B[0m; lr: \u001B[94m1.00e-03\u001B[0m; upd: \u001B[94m  1152\u001B[0m; f: \u001B[94m  24.576\u001B[0mk; times: [39.4|0.0|10.2] [79|0|21]; took 45.79s [6.4mins left]; mem: 0.6/33|0.0/0.0;\n",
      "\u001B[92mCycle     3/10\u001B[0m: r: \u001B[91m -112.35\u001B[0m; len: \u001B[94m  108.84\u001B[0m; n: \u001B[94m 99\u001B[0m; loss: [\u001B[94m -0.08\u001B[0m|\u001B[94m    0.09\u001B[0m|\u001B[94m -0.20\u001B[0m]; eps: \u001B[94m  346\u001B[0m; lr: \u001B[94m1.00e-03\u001B[0m; upd: \u001B[94m  1728\u001B[0m; f: \u001B[94m  36.864\u001B[0mk; times: [35.4|0.0|10.0] [78|0|22]; took 47.19s [5.6mins left]; mem: 0.61/33|0.0/0.0;\n",
      "\u001B[92mCycle     4/10\u001B[0m: r: \u001B[91m  -84.23\u001B[0m; len: \u001B[94m  104.76\u001B[0m; n: \u001B[94m107\u001B[0m; loss: [\u001B[94m -0.11\u001B[0m|\u001B[94m    0.08\u001B[0m|\u001B[94m -0.22\u001B[0m]; eps: \u001B[94m  445\u001B[0m; lr: \u001B[94m1.00e-03\u001B[0m; upd: \u001B[94m  2304\u001B[0m; f: \u001B[94m  49.152\u001B[0mk; times: [37.0|0.0|10.1] [79|0|21]; took 46.45s [4.7mins left]; mem: 0.61/33|0.0/0.0;\n",
      "\u001B[92mCycle     5/10\u001B[0m: r: \u001B[91m  -60.37\u001B[0m; len: \u001B[94m  113.09\u001B[0m; n: \u001B[94m101\u001B[0m; loss: [\u001B[94m -0.01\u001B[0m|\u001B[94m    0.03\u001B[0m|\u001B[94m -0.27\u001B[0m]; eps: \u001B[94m  552\u001B[0m; lr: \u001B[94m1.00e-03\u001B[0m; upd: \u001B[94m  2880\u001B[0m; f: \u001B[94m  61.440\u001B[0mk; times: [36.3|0.0|10.0] [78|0|22]; took 46.01s [3.9mins left]; mem: 0.62/33|0.0/0.0;\n",
      "\u001B[92mCycle     6/10\u001B[0m: r: \u001B[91m  -34.18\u001B[0m; len: \u001B[94m  114.98\u001B[0m; n: \u001B[94m100\u001B[0m; loss: [\u001B[94m  0.10\u001B[0m|\u001B[94m    0.04\u001B[0m|\u001B[94m -0.30\u001B[0m]; eps: \u001B[94m  653\u001B[0m; lr: \u001B[94m1.00e-03\u001B[0m; upd: \u001B[94m  3456\u001B[0m; f: \u001B[94m  73.728\u001B[0mk; times: [35.9|0.0|10.2] [78|0|22]; took 46.36s [3.1mins left]; mem: 0.62/33|0.0/0.0;\n",
      "\u001B[92mCycle     7/10\u001B[0m: r: \u001B[91m  -24.23\u001B[0m; len: \u001B[94m  126.95\u001B[0m; n: \u001B[94m 92\u001B[0m; loss: [\u001B[94m  0.01\u001B[0m|\u001B[94m    0.02\u001B[0m|\u001B[94m -0.34\u001B[0m]; eps: \u001B[94m  753\u001B[0m; lr: \u001B[94m1.00e-03\u001B[0m; upd: \u001B[94m  4032\u001B[0m; f: \u001B[94m  86.016\u001B[0mk; times: [36.1|0.0|10.3] [78|0|22]; took 46.49s [2.3mins left]; mem: 0.63/33|0.0/0.0;\n",
      "\u001B[92mCycle     8/10\u001B[0m: r: \u001B[33m   -7.01\u001B[0m; len: \u001B[94m  172.08\u001B[0m; n: \u001B[94m 63\u001B[0m; loss: [\u001B[94m  0.12\u001B[0m|\u001B[94m    0.02\u001B[0m|\u001B[94m -0.39\u001B[0m]; eps: \u001B[94m  845\u001B[0m; lr: \u001B[94m1.00e-03\u001B[0m; upd: \u001B[94m  4608\u001B[0m; f: \u001B[94m  98.304\u001B[0mk; times: [36.1|0.0|10.3] [78|0|22]; took 52.57s [1.6mins left]; mem: 0.63/33|0.0/0.0;\n",
      "\u001B[92mCycle     9/10\u001B[0m: r: \u001B[91m  -21.86\u001B[0m; len: \u001B[94m  231.49\u001B[0m; n: \u001B[94m 35\u001B[0m; loss: [\u001B[94m  0.09\u001B[0m|\u001B[94m    0.02\u001B[0m|\u001B[94m -0.36\u001B[0m]; eps: \u001B[94m  908\u001B[0m; lr: \u001B[94m1.00e-03\u001B[0m; upd: \u001B[94m  5184\u001B[0m; f: \u001B[94m 110.592\u001B[0mk; times: [42.2|0.0|10.1] [81|0|19]; took 55.48s [0.8mins left]; mem: 0.64/33|0.0/0.0;\n",
      "Finalizing...Drill finished after 486.25serialization.\n"
     ]
    }
   ],
   "source": [
    "# ... and then train that agent for n cycles\n",
    "agent.drill(n=10, epochs=3, batch_size=64)\n",
    "\n",
    "# after training, we can save the agent for analysis or the like\n",
    "agent.save_agent_state()"
   ]
  },
  {
   "cell_type": "markdown",
   "metadata": {},
   "source": [
    "After training is done, we can evaluate the agent. For this purpose we tell the agent to *act confidently*. Because policies in AngoraPy are stochastic, actions are usually sampled from the policy distribution. At evaluation time, we would however prefer the agent to stop exploring and instead choose the action it is most confident about. Thus, when told to act confidently, the agent will not sample but instead choose the most likely action under the predicted distribution."
   ]
  },
  {
   "cell_type": "code",
   "execution_count": 7,
   "metadata": {},
   "outputs": [
    {
     "name": "stdout",
     "output_type": "stream",
     "text": [
      "-137.64708870118506\n"
     ]
    }
   ],
   "source": [
    "evaluation_results = agent.evaluate(10, act_confidently=True)[0]\n",
    "print(np.mean(evaluation_results.episode_rewards))"
   ]
  },
  {
   "cell_type": "code",
   "execution_count": 8,
   "outputs": [
    {
     "ename": "ValueError",
     "evalue": "too many values to unpack (expected 4)",
     "output_type": "error",
     "traceback": [
      "\u001B[0;31m---------------------------------------------------------------------------\u001B[0m",
      "\u001B[0;31mValueError\u001B[0m                                Traceback (most recent call last)",
      "Cell \u001B[0;32mIn [8], line 2\u001B[0m\n\u001B[1;32m      1\u001B[0m inv \u001B[38;5;241m=\u001B[39m Investigator\u001B[38;5;241m.\u001B[39mfrom_agent(agent)\n\u001B[0;32m----> 2\u001B[0m \u001B[43minv\u001B[49m\u001B[38;5;241;43m.\u001B[39;49m\u001B[43mrender_episode\u001B[49m\u001B[43m(\u001B[49m\u001B[43magent\u001B[49m\u001B[38;5;241;43m.\u001B[39;49m\u001B[43menv\u001B[49m\u001B[43m,\u001B[49m\u001B[43m \u001B[49m\u001B[43mact_confidently\u001B[49m\u001B[38;5;241;43m=\u001B[39;49m\u001B[38;5;28;43;01mTrue\u001B[39;49;00m\u001B[43m)\u001B[49m\n",
      "File \u001B[0;32m~/workspace/angorapy/angorapy/analysis/investigation.py:197\u001B[0m, in \u001B[0;36mInvestigator.render_episode\u001B[0;34m(self, env, slow_down, to_gif, substeps_per_step, act_confidently)\u001B[0m\n\u001B[1;32m    194\u001B[0m \u001B[38;5;28;01melse\u001B[39;00m:\n\u001B[1;32m    195\u001B[0m     action, _ \u001B[38;5;241m=\u001B[39m \u001B[38;5;28mself\u001B[39m\u001B[38;5;241m.\u001B[39mdistribution\u001B[38;5;241m.\u001B[39mact(\u001B[38;5;241m*\u001B[39mprobabilities)\n\u001B[0;32m--> 197\u001B[0m observation, reward, done, info \u001B[38;5;241m=\u001B[39m env\u001B[38;5;241m.\u001B[39mstep(action)\n\u001B[1;32m    198\u001B[0m cumulative_reward \u001B[38;5;241m+\u001B[39m\u001B[38;5;241m=\u001B[39m (reward \u001B[38;5;28;01mif\u001B[39;00m \u001B[38;5;124m\"\u001B[39m\u001B[38;5;124moriginal_reward\u001B[39m\u001B[38;5;124m\"\u001B[39m \u001B[38;5;129;01mnot\u001B[39;00m \u001B[38;5;129;01min\u001B[39;00m info \u001B[38;5;28;01melse\u001B[39;00m info[\u001B[38;5;124m\"\u001B[39m\u001B[38;5;124moriginal_reward\u001B[39m\u001B[38;5;124m\"\u001B[39m])\n\u001B[1;32m    200\u001B[0m state \u001B[38;5;241m=\u001B[39m observation\n",
      "\u001B[0;31mValueError\u001B[0m: too many values to unpack (expected 4)"
     ]
    }
   ],
   "source": [
    "inv = Investigator.from_agent(agent)\n",
    "inv.render_episode(agent.env, act_confidently=True)"
   ],
   "metadata": {
    "collapsed": false
   }
  }
 ],
 "metadata": {
  "kernelspec": {
   "display_name": "Python 3 (ipykernel)",
   "language": "python",
   "name": "python3"
  },
  "language_info": {
   "codemirror_mode": {
    "name": "ipython",
    "version": 3
   },
   "file_extension": ".py",
   "mimetype": "text/x-python",
   "name": "python",
   "nbconvert_exporter": "python",
   "pygments_lexer": "ipython3",
   "version": "3.8.10"
  }
 },
 "nbformat": 4,
 "nbformat_minor": 1
}
